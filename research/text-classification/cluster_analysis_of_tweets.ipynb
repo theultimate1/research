{
 "cells": [
  {
   "cell_type": "markdown",
   "metadata": {},
   "source": [
    "# Cluster Analysis of Tweets\n",
    "## Cluster Analysis Details\n",
    "Here we are trying to uncover some underlying structure to the tweets we have collected so far. We will first try to perform a cluster analysis to the tweets to see if the tweets will group into clusters that we can exploit when trying to label data. We start by describing the problem:\n",
    "\n",
    "We are given an input dataset $\\mathbf{X} = [x_1, \\dots, x_k]$, where $x_i \\in \\mathbb{R}^d$. We want to find a dictionary $\\mathbf{D} \\in \\mathbb{R}^{d x n}$: $\\mathbf{D} = [d_1, \\dots, d_n]$ and a representation $\\mathbf{R} = [r_1, ..., r_k], r_i \\in \\mathbb{R}^n$ s.t. both $||\\mathbf{X} - \\mathbf{DR}||^2_F$ is minimized and the representations $r_i$ are sparse enough. This has the optimization problem:\n",
    "\n",
    "${argmin}_{D\\in C, r_i \\in \\mathbb{R}^n} \\sum_{i=1}^{k} ||x_i - Dr_i||^2_2 + \\lambda ||r_i||_0$, where $C \\equiv \\{D\\in \\mathbb{R}^{d x n}: ||d_i||_2 \\leq 1, \\forall i \\in 1, \\dots, n\\}, \\lambda >0$\n",
    "\n",
    "$C$ is required to constrain $\\mathbf{D}$ so that its atoms would not reach arbitrarily high values allowing for arbitrarily low (but non-zero) values of $r_{i}$. $\\lambda$  controls the trade off between the sparsity and the minimization error. We usually use the $\\ell_1$ instead of the $\\ell_0$ norm instead in order to maintain convexity of the problem. In this case, we are dealing with an __overcomplete dictionary__ since the dimension of the representations of the strings $n$ is larger than the input data's dimension $d$. An overcomplete dictionary which allows for sparse representation of signal can be a famous transform matrix (wavelets transform, fourier transform) or it can be formulated so that its elements are changed in such a way that it sparsely represents the given signal in a best way. Learned dictionaries are capable of giving sparser solutions as compared to predefined transform matrices."
   ]
  },
  {
   "cell_type": "code",
   "execution_count": 1,
   "metadata": {},
   "outputs": [
    {
     "name": "stderr",
     "output_type": "stream",
     "text": [
      "[nltk_data] Downloading package punkt to\n",
      "[nltk_data]     C:\\Users\\debro\\AppData\\Roaming\\nltk_data...\n",
      "[nltk_data]   Package punkt is already up-to-date!\n"
     ]
    },
    {
     "data": {
      "text/plain": [
       "True"
      ]
     },
     "execution_count": 1,
     "metadata": {},
     "output_type": "execute_result"
    }
   ],
   "source": [
    "import tensorflow as tf\n",
    "import numpy as np\n",
    "import pandas as pd\n",
    "import nltk\n",
    "import glob\n",
    "import string\n",
    "import matplotlib.pyplot as plt\n",
    "import matplotlib as mpl\n",
    "\n",
    "nltk.download('punkt')"
   ]
  },
  {
   "cell_type": "code",
   "execution_count": 2,
   "metadata": {},
   "outputs": [],
   "source": [
    "# NLTK tweets\n",
    "from nltk.corpus import twitter_samples\n",
    "\n",
    "tweets = twitter_samples.tokenized()\n",
    "tweet_dict = []\n",
    "for i in range(len(tweets)):\n",
    "    for j in range(len(tweets[i])):\n",
    "        tweet_dict.append(tweets[i][j])"
   ]
  },
  {
   "cell_type": "code",
   "execution_count": 3,
   "metadata": {},
   "outputs": [
    {
     "name": "stderr",
     "output_type": "stream",
     "text": [
      "C:\\ProgramData\\Anaconda3\\lib\\site-packages\\ipykernel_launcher.py:25: FutureWarning: Sorting because non-concatenation axis is not aligned. A future version\n",
      "of pandas will change to not sort by default.\n",
      "\n",
      "To accept the future behavior, pass 'sort=False'.\n",
      "\n",
      "To retain the current behavior and silence the warning, pass 'sort=True'.\n",
      "\n",
      "C:\\ProgramData\\Anaconda3\\lib\\site-packages\\ipykernel_launcher.py:26: FutureWarning: Sorting because non-concatenation axis is not aligned. A future version\n",
      "of pandas will change to not sort by default.\n",
      "\n",
      "To accept the future behavior, pass 'sort=False'.\n",
      "\n",
      "To retain the current behavior and silence the warning, pass 'sort=True'.\n",
      "\n"
     ]
    },
    {
     "name": "stdout",
     "output_type": "stream",
     "text": [
      "419569\n"
     ]
    },
    {
     "data": {
      "text/html": [
       "<div>\n",
       "<style scoped>\n",
       "    .dataframe tbody tr th:only-of-type {\n",
       "        vertical-align: middle;\n",
       "    }\n",
       "\n",
       "    .dataframe tbody tr th {\n",
       "        vertical-align: top;\n",
       "    }\n",
       "\n",
       "    .dataframe thead th {\n",
       "        text-align: right;\n",
       "    }\n",
       "</style>\n",
       "<table border=\"1\" class=\"dataframe\">\n",
       "  <thead>\n",
       "    <tr style=\"text-align: right;\">\n",
       "      <th></th>\n",
       "      <th>category</th>\n",
       "      <th>date</th>\n",
       "      <th>text</th>\n",
       "      <th>retweet_count</th>\n",
       "      <th>tweet_id</th>\n",
       "    </tr>\n",
       "  </thead>\n",
       "  <tbody>\n",
       "    <tr>\n",
       "      <th>0</th>\n",
       "      <td>flash flood</td>\n",
       "      <td>6/25/2019 20:45</td>\n",
       "      <td>@LeslieWalden6 @MookieTheBrave @AngusMcPussPus...</td>\n",
       "      <td>0.0</td>\n",
       "      <td>1.140000e+18</td>\n",
       "    </tr>\n",
       "    <tr>\n",
       "      <th>1</th>\n",
       "      <td>flash flood</td>\n",
       "      <td>6/25/2019 20:28</td>\n",
       "      <td>4 PASSES to FLASH FLOOD WATER PARK in Battle C...</td>\n",
       "      <td>0.0</td>\n",
       "      <td>1.140000e+18</td>\n",
       "    </tr>\n",
       "    <tr>\n",
       "      <th>2</th>\n",
       "      <td>flash flood</td>\n",
       "      <td>6/25/2019 20:21</td>\n",
       "      <td>So the maintenance men at my apartment complex...</td>\n",
       "      <td>0.0</td>\n",
       "      <td>1.140000e+18</td>\n",
       "    </tr>\n",
       "    <tr>\n",
       "      <th>3</th>\n",
       "      <td>flash flood</td>\n",
       "      <td>6/25/2019 20:07</td>\n",
       "      <td>.@NWStulsa issued 1,530 flood/flash flood prod...</td>\n",
       "      <td>0.0</td>\n",
       "      <td>1.140000e+18</td>\n",
       "    </tr>\n",
       "    <tr>\n",
       "      <th>4</th>\n",
       "      <td>flash flood</td>\n",
       "      <td>6/25/2019 19:55</td>\n",
       "      <td>They might not call it a #climatedebate, but c...</td>\n",
       "      <td>0.0</td>\n",
       "      <td>1.140000e+18</td>\n",
       "    </tr>\n",
       "  </tbody>\n",
       "</table>\n",
       "</div>"
      ],
      "text/plain": [
       "      category             date  \\\n",
       "0  flash flood  6/25/2019 20:45   \n",
       "1  flash flood  6/25/2019 20:28   \n",
       "2  flash flood  6/25/2019 20:21   \n",
       "3  flash flood  6/25/2019 20:07   \n",
       "4  flash flood  6/25/2019 19:55   \n",
       "\n",
       "                                                text  retweet_count  \\\n",
       "0  @LeslieWalden6 @MookieTheBrave @AngusMcPussPus...            0.0   \n",
       "1  4 PASSES to FLASH FLOOD WATER PARK in Battle C...            0.0   \n",
       "2  So the maintenance men at my apartment complex...            0.0   \n",
       "3  .@NWStulsa issued 1,530 flood/flash flood prod...            0.0   \n",
       "4  They might not call it a #climatedebate, but c...            0.0   \n",
       "\n",
       "       tweet_id  \n",
       "0  1.140000e+18  \n",
       "1  1.140000e+18  \n",
       "2  1.140000e+18  \n",
       "3  1.140000e+18  \n",
       "4  1.140000e+18  "
      ]
     },
     "execution_count": 3,
     "metadata": {},
     "output_type": "execute_result"
    }
   ],
   "source": [
    "# Making a list directory of all the tweets we have collected\n",
    "files_0 = glob.glob('./datasets/water_tweets/gathered_water/*.csv')\n",
    "water1_tweets = pd.read_csv('./datasets/water_tweets/water1.csv', encoding = 'ISO-8859-1', delimiter = ',')\n",
    "\n",
    "# loading JSON files\n",
    "from pandas.io.json import json_normalize\n",
    "with open('datasets/water_tweets/gathered_water/water8.json', 'r', encoding=\"utf-8\") as json_file:\n",
    "    water_json_1 = pd.read_json('datasets/water_tweets/gathered_water/water8.json', typ='object', orient='columns')\n",
    "    water_json_1 = pd.io.json.json_normalize(water_json_1)\n",
    "    water_json_1 = water_json_1[['text', 'timestamp']]\n",
    "\n",
    "with open('datasets/water_tweets/gathered_water/water9_drought.json', 'r', encoding = 'utf-8') as json_file:\n",
    "    water_json_2 = pd.read_json('datasets/water_tweets/gathered_water/water9_drought.json', typ='object', orient='columns')\n",
    "    water_json_2 = pd.io.json.json_normalize(water_json_2)\n",
    "    water_json_2 = water_json_2[['text', 'timestamp']]\n",
    "\n",
    "water_jsons = pd.concat([water_json_1, water_json_2])\n",
    "water_jsons.columns = ['text', 'date']\n",
    "water_jsons['retweet_count'] = np.nan\n",
    "water_jsons['category'] = np.nan\n",
    "water_jsons['tweet_id'] = np.nan\n",
    "water_jsons = water_jsons[['category', 'date', 'text', 'retweet_count', 'tweet_id']]\n",
    "\n",
    "# Loading uniformly formatted pulled tweets\n",
    "water_csvs = pd.concat([pd.read_csv(f, encoding = 'ISO-8859-1', delimiter = ';') for f in files_0])\n",
    "water_csvs = pd.concat([water1_tweets, water_csvs, water_jsons])\n",
    "water_csvs = water_csvs[['category', 'date', 'text', 'retweet_count', 'tweet_id']]\n",
    "water_csvs = water_csvs[water_csvs['text'] != 'text']\n",
    "water_csvs = water_csvs[water_csvs['category'] != 'pcb']\n",
    "water_csvs = water_csvs[water_csvs['category'] != 'benzene']\n",
    "files_1 = glob.glob('./datasets/water_tweets/rnd_tweets/*.csv')\n",
    "rnd_csvs = pd.concat([pd.read_csv(f, encoding = 'ISO-8859-1', delimiter = ';') for f in files_1])\n",
    "rnd_csvs = rnd_csvs[['category', 'date', 'text', 'retweet_count', 'tweet_id']]\n",
    "rnd_csvs = rnd_csvs[rnd_csvs['text'] != 'text']\n",
    "all_csvs = pd.concat([water_csvs, rnd_csvs])\n",
    "all_csvs['text'] =  all_csvs['text'].astype(str)\n",
    "all_csvs = all_csvs.drop_duplicates(subset = ['text'], keep = 'first').reset_index()\n",
    "all_csvs = all_csvs.iloc[:, 1:]\n",
    "#all_csvs.columns = ['category', 'date', 'tweet', 'retweet_count', 'tweet_id']\n",
    "print(len(all_csvs))\n",
    "\n",
    "all_csvs.head()"
   ]
  },
  {
   "cell_type": "code",
   "execution_count": 4,
   "metadata": {},
   "outputs": [
    {
     "name": "stdout",
     "output_type": "stream",
     "text": [
      "11092120\n"
     ]
    },
    {
     "data": {
      "text/plain": [
       "['the',\n",
       " 'bath',\n",
       " 'all',\n",
       " 'taps',\n",
       " 'have',\n",
       " 'isolation',\n",
       " 'valves',\n",
       " 'except',\n",
       " 'the',\n",
       " 'leaky',\n",
       " 'bath',\n",
       " '12',\n",
       " 'httpstcouc3aoh0iwe',\n",
       " 'sweatienext',\n",
       " 'he',\n",
       " 'did',\n",
       " 'come',\n",
       " 'by',\n",
       " 'today',\n",
       " 'amp',\n",
       " 'check',\n",
       " 'the',\n",
       " 'ceiling',\n",
       " 'no',\n",
       " 'nest']"
      ]
     },
     "execution_count": 4,
     "metadata": {},
     "output_type": "execute_result"
    }
   ],
   "source": [
    "tweet_text = list(all_csvs.text.astype(str))\n",
    "\n",
    "# Tokenizing the tweet words\n",
    "for i in range(len(tweet_text)):\n",
    "    tweet = tweet_text[i]\n",
    "    tweet = tweet.translate(str.maketrans('','', string.punctuation))\n",
    "    tweet = tweet.split()\n",
    "    for j in range(len(tweet)):\n",
    "        new_word = tweet[j]\n",
    "        tweet_dict.append(new_word)\n",
    "print(len(tweet_dict))\n",
    "\n",
    "new_tweet_dict = []\n",
    "for i in range(len(tweet_dict)):\n",
    "    word = tweet_dict[i]\n",
    "    word = word.translate(str.maketrans('', '', string.punctuation))\n",
    "    word = word.lower()\n",
    "    new_tweet_dict.append(word)\n",
    "new_tweet_dict[786085:786110]"
   ]
  },
  {
   "cell_type": "markdown",
   "metadata": {},
   "source": [
    "## Build a Dictionary"
   ]
  },
  {
   "cell_type": "code",
   "execution_count": 5,
   "metadata": {},
   "outputs": [
    {
     "name": "stdout",
     "output_type": "stream",
     "text": [
      "50004\n"
     ]
    }
   ],
   "source": [
    "from collections import Counter\n",
    "\n",
    "vocabulary_size = 50000\n",
    "\n",
    "# UNK = unknown words, HST = hashtag, EMT = emoticon, URL is self-explanatory, THDL = Twitter handle\n",
    "vocabulary = [(\"<UNK>\", None)] + [(\"<HST>\", None)] + [(\"<EMT>\", None)] + [(\"<URL>\", None)] + [(\"<THDL>\", None)] +\\\n",
    "            Counter(new_tweet_dict).most_common(vocabulary_size - 1)\n",
    "vocabulary = np.array([word for word, _ in vocabulary])\n",
    "dictionary = {word: code for code, word in enumerate(vocabulary)}\n",
    "data = np.array([dictionary.get(word, 0) for word in new_tweet_dict])\n",
    "print(len(vocabulary))\n",
    "#print(len(data))"
   ]
  },
  {
   "cell_type": "markdown",
   "metadata": {},
   "source": [
    "## Algorithm Used: K-means\n",
    "Using the vector representations of the tweets we have gathered, we can perform k-means clustering of the tweets we have gathered. We will perform tf-idf vectorization of the tweets to aid the clustering algorithm, which calculates how often a word appears in a tweet and then counts its inverse document frequency to standardize the count. The standard k-means in this case is carried out as follows:\n",
    "\n",
    "Given an initial-set of *k* means $m_1^{(1)}, \\dots, m_k^{(1)}$, we alternate between:\n",
    "\n",
    "__Assignment step:__ Assign each observation to the cluster whose mean has the least squared Euclidean distance, this is intuitively the \"nearest\" mean. (Mathematically, this means partitioning the observations according to the Voronoi diagram generated by the means).\n",
    "\n",
    "$S_i^{(t)} = \\{x_p: ||x_p - m_i^{(t)}||^2 \\leq ||x_p - m_j^{(t)}||^2, \\forall j \\in 1, \\dots, k\\}$, where each $x_p$ is assigned to one $S^{(t)}$, even it can be assigned to two or more of them.\n",
    "\n",
    "__Update step:__ Calculate the new means (centroids) of the observations of the new clusters:\n",
    "\n",
    "$m_i^{(t+1)} = \\frac{1}{|S_i^{(t)}|}\\sum_{x_j \\in S_i^{(t)}} x_j$\n",
    "\n",
    "The algorithm has converged when the assignments no longer change. The algorithm does not guarantee to find the optimum."
   ]
  },
  {
   "cell_type": "code",
   "execution_count": 6,
   "metadata": {},
   "outputs": [
    {
     "name": "stdout",
     "output_type": "stream",
     "text": [
      "(99205, 50004)\n"
     ]
    }
   ],
   "source": [
    "# tf-idf vectorization\n",
    "all_tweets = np.array(all_csvs.text)\n",
    "water_csvs = water_csvs.drop_duplicates(subset = ['text'], keep = 'first')\n",
    "water_tweets = np.array(water_csvs.text)\n",
    "\n",
    "# If we get labeled data, we would use train_test_split to test out our model\n",
    "#from sklearn.model_selection import train_test_split\n",
    "#X_train, X_test = train_test_split(water_tweets, test_size = 0.20, random_state = 42)\n",
    "\n",
    "from sklearn.feature_extraction.text import TfidfVectorizer\n",
    "# We use the vocabulary formulation from the embedding formed from the autoenconder_for_tweets.ipynb\n",
    "vectorizer = TfidfVectorizer(strip_accents = 'unicode', stop_words = 'english', vocabulary = vocabulary)\n",
    "\n",
    "# tf-idf vectorization of the training set\n",
    "X_tfidf = vectorizer.fit_transform(water_tweets)\n",
    "#print(vectorizer.get_feature_names())\n",
    "print(X_tfidf.shape)"
   ]
  },
  {
   "cell_type": "code",
   "execution_count": 7,
   "metadata": {},
   "outputs": [
    {
     "name": "stdout",
     "output_type": "stream",
     "text": [
      "<class 'scipy.sparse.csr.csr_matrix'>\n",
      "[\"@LeslieWalden6 @MookieTheBrave @AngusMcPussPuss @AngelaStillwell @cat_samson @arkantart @Biscuit_Meow @duchess_meow @TobiasandJasper @goodman_carina It's cwazy!! Mom tiwed of seeing flash flood warnings fwom The Weather Channel pop up on her phone evewyday. She appweciates the warning, but she knows which aweas are pwone to flooding.ð\\x9f\\x98¼ð\\x9f\\x98¼\"\n",
      " '4 PASSES to FLASH FLOOD WATER PARK in Battle Creek, MICHIGAN - 2019 season!!! $12.00 | #WaterparkTickets | https://t.co/tIumVg5T0d Grab Your Tickets https://t.co/UQNz5zZ7vC'\n",
      " 'So the maintenance men at my apartment complex are leaf blowing during a flash flood warning... https://t.co/YkWkVzTvSy'\n",
      " '.@NWStulsa issued 1,530 flood/flash flood products in May 2019 alone!  Includes new warnings/advisories + all follow up statements #okwx #arwx https://t.co/3M9GfJyuez'\n",
      " 'They might not call it a #climatedebate, but considering that the venue where 20 Democrats are meeting in Miami this week was once inundated during a flash flood, it kinda is. https://t.co/xlZ66jHMXr']\n",
      "  (0, 37819)\t0.4424482854916388\n",
      "  (0, 1924)\t0.26635140469706237\n",
      "  (0, 1888)\t0.32337946176765126\n",
      "  (0, 1785)\t0.32589795483361667\n",
      "  (0, 782)\t0.2241915218660985\n",
      "  (0, 627)\t0.2895550968945023\n",
      "  (0, 611)\t0.28847864816588703\n",
      "  (0, 532)\t0.30903181977217564\n",
      "  (0, 526)\t0.216388466031155\n",
      "  (0, 525)\t0.30638953841294597\n",
      "  (0, 215)\t0.16788308973101718\n",
      "  (0, 139)\t0.14557777585652978\n",
      "  (0, 130)\t0.1400427213703655\n",
      "  (1, 10339)\t0.13387774988210718\n",
      "  (1, 9744)\t0.2284554998941043\n",
      "  (1, 3940)\t0.3552007662709773\n",
      "  (1, 3340)\t0.2964743263645629\n",
      "  (1, 2875)\t0.3437244716025226\n",
      "  (1, 2283)\t0.3233672699024698\n",
      "  (1, 2072)\t0.37114266227535864\n",
      "  (1, 2001)\t0.26539842695665544\n",
      "  (1, 906)\t0.25570633651914676\n",
      "  (1, 533)\t0.2345013681036356\n",
      "  (1, 453)\t0.2243165762423332\n",
      "  (1, 452)\t0.2641921166311561\n",
      "  :\t:\n",
      "  (3, 8442)\t0.3744902874772627\n",
      "  (3, 5883)\t0.2874515510276431\n",
      "  (3, 4127)\t0.27039684723749147\n",
      "  (3, 3869)\t0.34985356696149855\n",
      "  (3, 2722)\t0.2761131502015307\n",
      "  (3, 1924)\t0.23948098757873548\n",
      "  (3, 1478)\t0.24410003772354955\n",
      "  (3, 619)\t0.19090551886348667\n",
      "  (3, 453)\t0.20444795352068995\n",
      "  (3, 409)\t0.2470323249327855\n",
      "  (3, 139)\t0.13089140480144823\n",
      "  (3, 130)\t0.25182949010637373\n",
      "  (3, 119)\t0.1635264802935005\n",
      "  (4, 17890)\t0.3999841344919381\n",
      "  (4, 10339)\t0.06774969039624298\n",
      "  (4, 6776)\t0.404637491590533\n",
      "  (4, 4659)\t0.358674748496181\n",
      "  (4, 2011)\t0.319850480808957\n",
      "  (4, 1172)\t0.28879453917091985\n",
      "  (4, 867)\t0.319850480808957\n",
      "  (4, 847)\t0.31438571225566564\n",
      "  (4, 617)\t0.25136472695077017\n",
      "  (4, 274)\t0.2287621283433341\n",
      "  (4, 139)\t0.14535120445304367\n",
      "  (4, 130)\t0.1398247645033766\n"
     ]
    }
   ],
   "source": [
    "# Clustering of water tweets\n",
    "from sklearn import cluster\n",
    "from sklearn import metrics\n",
    "\n",
    "print(type(X_tfidf))\n",
    "print(water_tweets[:5])\n",
    "print(X_tfidf[:5])"
   ]
  },
  {
   "cell_type": "code",
   "execution_count": 8,
   "metadata": {},
   "outputs": [
    {
     "name": "stdout",
     "output_type": "stream",
     "text": [
      "Fit 25 clusters\n",
      "Fit 50 clusters\n",
      "92029.81220365223 [48]\n"
     ]
    },
    {
     "data": {
      "image/png": "[encoded data removed]",
      "text/plain": [
       "<Figure size 1296x1296 with 1 Axes>"
      ]
     },
     "metadata": {
      "needs_background": "light"
     },
     "output_type": "display_data"
    }
   ],
   "source": [
    "# Cluster analysis \n",
    "def find_optimal_clusters(data, min_k, max_k, num):\n",
    "    iters = np.linspace(min_k, max_k, num = num).astype(int)\n",
    "    \n",
    "    sse = []\n",
    "    for k in range(len(iters)):\n",
    "        sse.append(cluster.MiniBatchKMeans(n_clusters = iters[k], init_size = 1024, batch_size = 2048, random_state = 42,\n",
    "                                          reassignment_ratio = 0.01).fit(data).inertia_)\n",
    "        if iters[k] % 25 == 0:\n",
    "            print('Fit {} clusters'.format(iters[k].astype(int)))\n",
    "            \n",
    "    idx = np.where(sse == np.amin(sse))\n",
    "    print(np.amin(sse), iters[idx])\n",
    "          \n",
    "    f, ax = plt.subplots(1, 1, figsize = (18, 18))\n",
    "    #for n, label in enumerate(ax.xaxis.get_ticklabels()):\n",
    "      #  if n % 10 != 0:\n",
    "     #       label.set_visible(False)\n",
    "    ax.plot(iters, sse, marker='o')\n",
    "    ax.set_xlabel('Cluster Centers')\n",
    "    ax.set_xticks(iters[np.where(iters % 2 == 0)])\n",
    "    ax.set_xticklabels(iters[np.where(iters % 2 == 0)])\n",
    "    ax.set_ylabel('SSE')\n",
    "    ax.set_title('SSE by Cluster Center Plot')\n",
    "    \n",
    "find_optimal_clusters(X_tfidf, 2, 50, 49)"
   ]
  },
  {
   "cell_type": "code",
   "execution_count": 9,
   "metadata": {},
   "outputs": [],
   "source": [
    "from sklearn.decomposition import PCA\n",
    "from sklearn.manifold import TSNE"
   ]
  },
  {
   "cell_type": "code",
   "execution_count": 10,
   "metadata": {},
   "outputs": [],
   "source": [
    "# *Almost* the best amount of clusters given the elbow function\n",
    "# evaluation shown above using mini-batch k-means\n",
    "clusters = cluster.MiniBatchKMeans(n_clusters=15, init_size=1024, batch_size=2048, random_state=42).fit_predict(X_tfidf)"
   ]
  },
  {
   "cell_type": "code",
   "execution_count": null,
   "metadata": {},
   "outputs": [],
   "source": [
    "# Plotting the cluster analysis of gathered water tweets\n",
    "def plot_tsne_pca(data, labels):\n",
    "    max_label = max(labels)\n",
    "    max_items = np.random.choice(range(data.shape[0]), size=10000, replace=False)\n",
    "    \n",
    "    pca = PCA(n_components=0.95).fit_transform(data[max_items,:].todense())\n",
    "    tsne = TSNE().fit_transform(PCA(n_components=0.95).fit_transform(data[max_items,:].todense()))\n",
    "    \n",
    "    \n",
    "    idx = np.random.choice(range(pca.shape[0]), size=5000, replace=False)\n",
    "    label_subset = labels[max_items]\n",
    "    label_subset = [mpl.cm.hsv(i/max_label) for i in label_subset[idx]]\n",
    "    \n",
    "    f, ax = plt.subplots(1, 2, figsize=(16, 8))\n",
    "    \n",
    "    ax[0].scatter(pca[idx, 0], pca[idx, 1], c=label_subset)\n",
    "    ax[0].set_title('PCA Cluster Plot')\n",
    "    \n",
    "    ax[1].scatter(tsne[idx, 0], tsne[idx, 1], c=label_subset)\n",
    "    ax[1].set_title('TSNE Cluster Plot')\n",
    "    \n",
    "plot_tsne_pca(X_tfidf, clusters)"
   ]
  },
  {
   "cell_type": "markdown",
   "metadata": {},
   "source": [
    "Functions are similar to the ones found from Kaggle at this link: https://www.kaggle.com/jbencina/clustering-documents-with-tfidf-and-kmeans/comments"
   ]
  },
  {
   "cell_type": "code",
   "execution_count": null,
   "metadata": {},
   "outputs": [],
   "source": [
    "#This code is currently in markdown as it takes up way to much memory to show these results.\n",
    "\n",
    "# What are the most common keywords in these clusters\n",
    "# Takes up too much memory\n",
    "def get_top_keywords(data, clusters, labels, n_terms):\n",
    "    df = pd.DataFrame(data.todense()).groupby(clusters).mean()\n",
    "    \n",
    "    for i,r in df.iterrows():\n",
    "        print('\\nCluster {}'.format(i))\n",
    "        print(','.join([labels[t] for t in np.argsort(r)[-n_terms:]]))\n",
    "            \n",
    "get_top_keywords(X_tfidf, clusters, vectorizer.get_feature_names(), 15)\n"
   ]
  },
  {
   "cell_type": "markdown",
   "metadata": {},
   "source": [
    "__Conclusion:__\n",
    "\n",
    "We will not consider this a wash until we are able to thread these calculations through a GPU or have access to a server with a larger memory. At this point, the clustering of these tweets do not appear to produce any meaningful separations that are useful to us considering there are just so many clusters. It seems possible that there needs to be more clusters as at our \"elbow\" of 17 clusters, the overall trend appears that the SSE-criterion will continue to decrease as we increase the number of clusters. Everything appears to be in a \"free for all\" by looking at out plots with a few minor exceptions. We need to label the clusters in the plots and figure out which keywords from our tf-idf vectorization are most associated with the clusters."
   ]
  },
  {
   "cell_type": "code",
   "execution_count": null,
   "metadata": {},
   "outputs": [],
   "source": []
  }
 ],
 "metadata": {
  "kernelspec": {
   "display_name": "Python 3",
   "language": "python",
   "name": "python3"
  },
  "language_info": {
   "codemirror_mode": {
    "name": "ipython",
    "version": 3
   },
   "file_extension": ".py",
   "mimetype": "text/x-python",
   "name": "python",
   "nbconvert_exporter": "python",
   "pygments_lexer": "ipython3",
   "version": "3.6.8"
  }
 },
 "nbformat": 4,
 "nbformat_minor": 2
}
