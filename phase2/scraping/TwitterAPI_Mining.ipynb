{
 "cells": [
  {
   "cell_type": "code",
   "execution_count": 6,
   "metadata": {},
   "outputs": [],
   "source": [
    "import os\n",
    "import tweepy as tw\n",
    "import pandas as pd\n",
    "import matplotlib.pyplot as plt\n",
    "import seaborn as sns\n",
    "import itertools\n",
    "import collections\n",
    "import nltk\n",
    "from nltk.corpus import stopwords\n",
    "import re\n",
    "import networkx\n",
    "from nltk import bigrams\n",
    "\n",
    "import warnings\n",
    "warnings.filterwarnings(\"ignore\")\n",
    "\n",
    "sns.set(font_scale=1.5)\n",
    "sns.set_style(\"whitegrid\")"
   ]
  },
  {
   "cell_type": "code",
   "execution_count": 7,
   "metadata": {},
   "outputs": [],
   "source": [
    "consumer_key= '1EbEbqZpTKOsGo46iIlMLVZV3'\n",
    "consumer_secret= 'MsaVvkSGVUkwkAalHfqNxSY6raOSjkn9e9uDmgf9a7e5a63ZBC'\n",
    "access_token= '1153053655903428608-ERZK04gJccvOmrWrBXMY8MTLbvnSDC'\n",
    "access_token_secret= '4fwZlaNOhdLP0JA20ASwehJLsnIPJhXteOTEWeSPQ1cvW'"
   ]
  },
  {
   "cell_type": "code",
   "execution_count": 8,
   "metadata": {},
   "outputs": [],
   "source": [
    "auth = tw.OAuthHandler(consumer_key,consumer_secret)\n",
    "auth.set_access_token(access_token,access_token_secret)\n",
    "api = tw.API(auth,wait_on_rate_limit=True)"
   ]
  },
  {
   "cell_type": "code",
   "execution_count": 9,
   "metadata": {},
   "outputs": [
    {
     "data": {
      "text/plain": [
       "['SEVERE STORM OUTLOOK for rest of the night    See maps and Radar maps and zoom in at     https://t.co/HNLPnb8GMF… https://t.co/ZL8eMw1tTb',\n",
       " 'SEVERE STORM OUTLOOK for rest of the night    See maps and Radar maps and zoom in at     https://t.co/y9EPeXL1Du… https://t.co/WIqWEUY21o',\n",
       " 'SEVERE STORM OUTLOOK for afternoon and evening     See maps and Radar maps and zoom in at… https://t.co/V09cDg0qcF',\n",
       " 'SEVERE STORM OUTLOOK for afternoon and evening     See maps and Radar maps and zoom in at… https://t.co/bspEQ3lupg',\n",
       " 'SEVERE STORM OUTLOOK for afternoon and evening     See maps and Radar maps and zoom in at… https://t.co/fP6vjLgBsl',\n",
       " 'SEVERE STORM OUTLOOK for this afternoon     See maps and Radar maps and zoom in at     https://t.co/y9EPeY2D24… https://t.co/RTjb4hUL3i',\n",
       " 'SEVERE STORM OUTLOOK for this afternoon     See maps and Radar maps and zoom in at     https://t.co/y9EPeY2D24… https://t.co/BvwcISGoer',\n",
       " 'SEVERE STORM OUTLOOK for your Saturday.     See maps and Radar maps and zoom in at     https://t.co/y9EPeXL1Du… https://t.co/fXud9SKwFq',\n",
       " 'SEVERE STORM OUTLOOK for your Saturday.     See maps and Radar maps and zoom in at     https://t.co/y9EPeXL1Du… https://t.co/FF9HwWHDe9',\n",
       " 'SEVERE STORM OUTLOOK for rest of the night.     See maps and Radar maps and \\n zoom in at… https://t.co/b6W9MGDXRR',\n",
       " 'SEVERE STORM OUTLOOK for rest of the night.     See maps and Radar maps and zoom in at     https://t.co/y9EPeXL1Du… https://t.co/OCVHGOWj5b',\n",
       " 'SEVERE STORM OUTLOOK for rest of the night.     See maps and Radar maps and zoom in at     https://t.co/y9EPeY2D24… https://t.co/vxttbiHJ6M',\n",
       " 'SEVERE STORM OUTLOOK for your Friday..     See maps and Radar maps and zoom in at     https://t.co/HNLPnbqhEd… https://t.co/udvihFDoQ3',\n",
       " 'T-STORM OUTLOOK for rest of the night   \\n    See maps and Radar maps and zoom in at     https://t.co/HNLPnb8GMF… https://t.co/7p63GFBN2i',\n",
       " 'T-STORM OUTLOOK for rest of the night \\n     See maps and Radar maps and zoom in at     https://t.co/HNLPnbqhEd… https://t.co/U6Qs9WnRuV',\n",
       " 'T-STORM OUTLOOK for rest of the night    See maps and Radar maps and zoom in at     https://t.co/HNLPnbqhEd… https://t.co/KjCRh4KlHL',\n",
       " 'T-STORM OUTLOOK for Thursday    See maps and Radar maps and zoom in at     https://t.co/HNLPnb8GMF        \\n#wx… https://t.co/LGx8LJq9Oz',\n",
       " 'T-STORM OUTLOOK for Thursday    See maps and Radar maps and zoom in at     https://t.co/HNLPnbqhEd        \\n#wx… https://t.co/YqduKgNfwf',\n",
       " 'SEVERE STORM OUTLOOK for rest of the night   See maps and Radar maps and zoom in at     https://t.co/HNLPnbqhEd… https://t.co/f1VGpPwBaI',\n",
       " 'SEVERE STORM OUTLOOK for rest of the night   See maps and Radar maps and zoom in at     https://t.co/HNLPnb8GMF… https://t.co/oAbYzcKvWU',\n",
       " 'SEVERE STORM OUTLOOK for rest of the night   See maps and Radar maps and zoom in at     https://t.co/HNLPnb8GMF… https://t.co/1qaVjgMTGb',\n",
       " 'T-STORM OUTLOOK for your Wednesday   See maps and Radar maps and zoom in at \\n    https://t.co/HNLPnb8GMF       \\n#wx… https://t.co/ah6evdyHeg',\n",
       " 'T-STORM OUTLOOK for your Wednesday   See maps and Radar maps and zoom in at    https://t.co/HNLPnb8GMF       \\n#wx… https://t.co/48g8qyvRj9',\n",
       " 'SEVERE STORM OUTLOOK for rest of the night   See maps and Radar maps and zoom i\\n n at    https://t.co/HNLPnbqhEd… https://t.co/KqIuJkLbz1',\n",
       " 'SEVERE STORM OUTLOOK for rest of the night   See maps and Radar maps and zoom in at    https://t.co/HNLPnb8GMF… https://t.co/HsMk0Kp2uM',\n",
       " 'SEVERE STORM OUTLOOK for rest of the night   See maps and Radar maps and zoom in at    https://t.co/HNLPnbqhEd… https://t.co/JbYaPAtjGD',\n",
       " 'SEVERE STORM OUTLOOK for rest of the night   See maps and Radar maps and zoom in at    https://t.co/HNLPnb8GMF… https://t.co/F9CkaU4kgZ',\n",
       " 'SEVERE STORM OUTLOOK for this evening  See maps and Radar maps and zoom in at    https://t.co/HNLPnbqhEd       \\n#wx… https://t.co/sNPfVsLiR9',\n",
       " 'correction:\" SEVERE STORM OUTLOOK for this evening  See maps and Radar maps and zoom in at… https://t.co/oALoS8Z7d8',\n",
       " 'SEVERE STORM OUTLOOK for this afternoon  See maps and Radar maps and zoom in at      https://t.co/HNLPnb8GMF… https://t.co/p2hV0XluKD',\n",
       " 'SEVERE STORM OUTLOOK for this evening  See maps and Radar maps and zoom in at    https://t.co/HNLPnb8GMF       \\n#wx… https://t.co/NP18gfIcj4',\n",
       " 'SEVERE STORM OUTLOOK for this afternoon  See maps and Radar maps and zoom in at    https://t.co/HNLPnb8GMF… https://t.co/VqIRKvf54v',\n",
       " 'SEVERE STORM OUTLOOK for your Tuesday    See maps and Radar maps and zoom in at    \\n https://t.co/HNLPnbqhEd… https://t.co/NK8jEFpprD',\n",
       " 'SEVERE STORM OUTLOOK for your Tuesday    See maps and Radar maps and zoom in at    https://t.co/HNLPnbqhEd… https://t.co/GwivJXpOaB',\n",
       " 'SEVERE STORM OUTLOOK for your Tuesday    See maps and Radar maps and zoom in at    https://t.co/HNLPnbqhEd… https://t.co/4hOIrYgwbe',\n",
       " 'T-STORMS OUTLOOK for rest of the night    See maps and Radar maps and zoom in at    \\n https://t.co/HNLPnb8GMF… https://t.co/d3Gbb70c5h',\n",
       " 'T-STORMS OUTLOOK for rest of the night    See maps and Radar maps and zoom in at    https://t.co/HNLPnb8GMF… https://t.co/Mt7iNhmHcD',\n",
       " 'T-STORMS OUTLOOK for rest of the night    See maps and Radar maps and zoom in at    https://t.co/HNLPnb8GMF… https://t.co/Z7xj7LIxq9',\n",
       " 'T-STORMS OUTLOOK for your Monday    See maps and Radar maps and zoom in at  \\n   https://t.co/HNLPnb8GMF       \\n#wx… https://t.co/eZ5HfN6asv',\n",
       " 'T-STORMS OUTLOOK for your Monday    See maps and Radar maps and zoom in at    https://t.co/HNLPnbqhEd       \\n#wx… https://t.co/f5SK1YYxIE',\n",
       " 'T-STORMS OUTLOOK for rest of the night    See maps and Radar maps and zoom in at    https://t.co/HNLPnb8GMF… https://t.co/IVzEGeRBy1',\n",
       " 'T-STORMS OUTLOOK for rest of the night    See maps and Radar maps and zoom in at    https://t.co/HNLPnb8GMF… https://t.co/0yezpqTLB7',\n",
       " 'T-STORMS OUTLOOK for Sunday    See maps and Radar maps and zoom in at    https://t.co/HNLPnb8GMF       \\n#wx #news… https://t.co/cVlDQJXhGT',\n",
       " 'T-STORMS OUTLOOK for Sunday    See maps and Radar maps and zoom in at    https://t.co/HNLPnbqhEd       \\n#wx #news… https://t.co/OZV1yZi1AC',\n",
       " 'T-STORMS OUTLOOK for this evening \\n    See maps and Radar maps and zoom in at    https://t.co/HNLPnb8GMF       \\n#wx… https://t.co/AWObpNjFUo',\n",
       " 'T-STORMS OUTLOOK for this evening    See maps and Radar maps and zoom in at    https://t.co/HNLPnb8GMF       \\n#wx… https://t.co/fsPuypx67w']"
      ]
     },
     "execution_count": 9,
     "metadata": {},
     "output_type": "execute_result"
    }
   ],
   "source": [
    "#Search Twitter for Tweets\n",
    "\n",
    "search_terms = \"#flash+floods\"\n",
    "#Define the search term\n",
    "date_since = \"2019-01-11\"\n",
    "#Define the data searching these tweets from\n",
    "\n",
    "new_search = search_terms + \"-filter:retweets\"\n",
    "'''Adding \"-filter:retweets\" to your query ignores all\n",
    "of the retweets'''\n",
    "\n",
    "tweets = tw.Cursor(api.search,\n",
    "                   q=new_search,\n",
    "                  lang='en',\n",
    "                  since=date_since).items(1000)\n",
    "'''.Cursor() returns an object that you can loop over\n",
    "to access the data collected. Each item in the iterator\n",
    "has various attributes that you can access to get information\n",
    "about each tweet including:\n",
    "1. the text of the tweet\n",
    "2. who sent the tweet\n",
    "3. the date the tweet was sent\n",
    "The loop goes through the object and prints the text\n",
    "associated with each tweet\n",
    "Using a list comprehension provides an efficient way to\n",
    "collect object elements contained within an iterator as a list'''\n",
    "t = [tweet.text for tweet in tweets]\n",
    "t"
   ]
  },
  {
   "cell_type": "code",
   "execution_count": 10,
   "metadata": {},
   "outputs": [
    {
     "data": {
      "text/html": [
       "<div>\n",
       "<style scoped>\n",
       "    .dataframe tbody tr th:only-of-type {\n",
       "        vertical-align: middle;\n",
       "    }\n",
       "\n",
       "    .dataframe tbody tr th {\n",
       "        vertical-align: top;\n",
       "    }\n",
       "\n",
       "    .dataframe thead th {\n",
       "        text-align: right;\n",
       "    }\n",
       "</style>\n",
       "<table border=\"1\" class=\"dataframe\">\n",
       "  <thead>\n",
       "    <tr style=\"text-align: right;\">\n",
       "      <th></th>\n",
       "      <th>List of Tweets</th>\n",
       "    </tr>\n",
       "  </thead>\n",
       "  <tbody>\n",
       "    <tr>\n",
       "      <td>0</td>\n",
       "      <td>SEVERE STORM OUTLOOK for rest of the night    ...</td>\n",
       "    </tr>\n",
       "    <tr>\n",
       "      <td>1</td>\n",
       "      <td>SEVERE STORM OUTLOOK for rest of the night    ...</td>\n",
       "    </tr>\n",
       "    <tr>\n",
       "      <td>2</td>\n",
       "      <td>SEVERE STORM OUTLOOK for afternoon and evening...</td>\n",
       "    </tr>\n",
       "    <tr>\n",
       "      <td>3</td>\n",
       "      <td>SEVERE STORM OUTLOOK for afternoon and evening...</td>\n",
       "    </tr>\n",
       "    <tr>\n",
       "      <td>4</td>\n",
       "      <td>SEVERE STORM OUTLOOK for afternoon and evening...</td>\n",
       "    </tr>\n",
       "    <tr>\n",
       "      <td>5</td>\n",
       "      <td>SEVERE STORM OUTLOOK for this afternoon     Se...</td>\n",
       "    </tr>\n",
       "    <tr>\n",
       "      <td>6</td>\n",
       "      <td>SEVERE STORM OUTLOOK for this afternoon     Se...</td>\n",
       "    </tr>\n",
       "    <tr>\n",
       "      <td>7</td>\n",
       "      <td>SEVERE STORM OUTLOOK for your Saturday.     Se...</td>\n",
       "    </tr>\n",
       "    <tr>\n",
       "      <td>8</td>\n",
       "      <td>SEVERE STORM OUTLOOK for your Saturday.     Se...</td>\n",
       "    </tr>\n",
       "    <tr>\n",
       "      <td>9</td>\n",
       "      <td>SEVERE STORM OUTLOOK for rest of the night.   ...</td>\n",
       "    </tr>\n",
       "    <tr>\n",
       "      <td>10</td>\n",
       "      <td>SEVERE STORM OUTLOOK for rest of the night.   ...</td>\n",
       "    </tr>\n",
       "    <tr>\n",
       "      <td>11</td>\n",
       "      <td>SEVERE STORM OUTLOOK for rest of the night.   ...</td>\n",
       "    </tr>\n",
       "    <tr>\n",
       "      <td>12</td>\n",
       "      <td>SEVERE STORM OUTLOOK for your Friday..     See...</td>\n",
       "    </tr>\n",
       "    <tr>\n",
       "      <td>13</td>\n",
       "      <td>T-STORM OUTLOOK for rest of the night   \\n    ...</td>\n",
       "    </tr>\n",
       "    <tr>\n",
       "      <td>14</td>\n",
       "      <td>T-STORM OUTLOOK for rest of the night \\n     S...</td>\n",
       "    </tr>\n",
       "    <tr>\n",
       "      <td>15</td>\n",
       "      <td>T-STORM OUTLOOK for rest of the night    See m...</td>\n",
       "    </tr>\n",
       "    <tr>\n",
       "      <td>16</td>\n",
       "      <td>T-STORM OUTLOOK for Thursday    See maps and R...</td>\n",
       "    </tr>\n",
       "    <tr>\n",
       "      <td>17</td>\n",
       "      <td>T-STORM OUTLOOK for Thursday    See maps and R...</td>\n",
       "    </tr>\n",
       "    <tr>\n",
       "      <td>18</td>\n",
       "      <td>SEVERE STORM OUTLOOK for rest of the night   S...</td>\n",
       "    </tr>\n",
       "    <tr>\n",
       "      <td>19</td>\n",
       "      <td>SEVERE STORM OUTLOOK for rest of the night   S...</td>\n",
       "    </tr>\n",
       "    <tr>\n",
       "      <td>20</td>\n",
       "      <td>SEVERE STORM OUTLOOK for rest of the night   S...</td>\n",
       "    </tr>\n",
       "    <tr>\n",
       "      <td>21</td>\n",
       "      <td>T-STORM OUTLOOK for your Wednesday   See maps ...</td>\n",
       "    </tr>\n",
       "    <tr>\n",
       "      <td>22</td>\n",
       "      <td>T-STORM OUTLOOK for your Wednesday   See maps ...</td>\n",
       "    </tr>\n",
       "    <tr>\n",
       "      <td>23</td>\n",
       "      <td>SEVERE STORM OUTLOOK for rest of the night   S...</td>\n",
       "    </tr>\n",
       "    <tr>\n",
       "      <td>24</td>\n",
       "      <td>SEVERE STORM OUTLOOK for rest of the night   S...</td>\n",
       "    </tr>\n",
       "    <tr>\n",
       "      <td>25</td>\n",
       "      <td>SEVERE STORM OUTLOOK for rest of the night   S...</td>\n",
       "    </tr>\n",
       "    <tr>\n",
       "      <td>26</td>\n",
       "      <td>SEVERE STORM OUTLOOK for rest of the night   S...</td>\n",
       "    </tr>\n",
       "    <tr>\n",
       "      <td>27</td>\n",
       "      <td>SEVERE STORM OUTLOOK for this evening  See map...</td>\n",
       "    </tr>\n",
       "    <tr>\n",
       "      <td>28</td>\n",
       "      <td>correction:\" SEVERE STORM OUTLOOK for this eve...</td>\n",
       "    </tr>\n",
       "    <tr>\n",
       "      <td>29</td>\n",
       "      <td>SEVERE STORM OUTLOOK for this afternoon  See m...</td>\n",
       "    </tr>\n",
       "    <tr>\n",
       "      <td>30</td>\n",
       "      <td>SEVERE STORM OUTLOOK for this evening  See map...</td>\n",
       "    </tr>\n",
       "    <tr>\n",
       "      <td>31</td>\n",
       "      <td>SEVERE STORM OUTLOOK for this afternoon  See m...</td>\n",
       "    </tr>\n",
       "    <tr>\n",
       "      <td>32</td>\n",
       "      <td>SEVERE STORM OUTLOOK for your Tuesday    See m...</td>\n",
       "    </tr>\n",
       "    <tr>\n",
       "      <td>33</td>\n",
       "      <td>SEVERE STORM OUTLOOK for your Tuesday    See m...</td>\n",
       "    </tr>\n",
       "    <tr>\n",
       "      <td>34</td>\n",
       "      <td>SEVERE STORM OUTLOOK for your Tuesday    See m...</td>\n",
       "    </tr>\n",
       "    <tr>\n",
       "      <td>35</td>\n",
       "      <td>T-STORMS OUTLOOK for rest of the night    See ...</td>\n",
       "    </tr>\n",
       "    <tr>\n",
       "      <td>36</td>\n",
       "      <td>T-STORMS OUTLOOK for rest of the night    See ...</td>\n",
       "    </tr>\n",
       "    <tr>\n",
       "      <td>37</td>\n",
       "      <td>T-STORMS OUTLOOK for rest of the night    See ...</td>\n",
       "    </tr>\n",
       "    <tr>\n",
       "      <td>38</td>\n",
       "      <td>T-STORMS OUTLOOK for your Monday    See maps a...</td>\n",
       "    </tr>\n",
       "    <tr>\n",
       "      <td>39</td>\n",
       "      <td>T-STORMS OUTLOOK for your Monday    See maps a...</td>\n",
       "    </tr>\n",
       "    <tr>\n",
       "      <td>40</td>\n",
       "      <td>T-STORMS OUTLOOK for rest of the night    See ...</td>\n",
       "    </tr>\n",
       "    <tr>\n",
       "      <td>41</td>\n",
       "      <td>T-STORMS OUTLOOK for rest of the night    See ...</td>\n",
       "    </tr>\n",
       "    <tr>\n",
       "      <td>42</td>\n",
       "      <td>T-STORMS OUTLOOK for Sunday    See maps and Ra...</td>\n",
       "    </tr>\n",
       "    <tr>\n",
       "      <td>43</td>\n",
       "      <td>T-STORMS OUTLOOK for Sunday    See maps and Ra...</td>\n",
       "    </tr>\n",
       "    <tr>\n",
       "      <td>44</td>\n",
       "      <td>T-STORMS OUTLOOK for this evening \\n    See ma...</td>\n",
       "    </tr>\n",
       "    <tr>\n",
       "      <td>45</td>\n",
       "      <td>T-STORMS OUTLOOK for this evening    See maps ...</td>\n",
       "    </tr>\n",
       "  </tbody>\n",
       "</table>\n",
       "</div>"
      ],
      "text/plain": [
       "                                       List of Tweets\n",
       "0   SEVERE STORM OUTLOOK for rest of the night    ...\n",
       "1   SEVERE STORM OUTLOOK for rest of the night    ...\n",
       "2   SEVERE STORM OUTLOOK for afternoon and evening...\n",
       "3   SEVERE STORM OUTLOOK for afternoon and evening...\n",
       "4   SEVERE STORM OUTLOOK for afternoon and evening...\n",
       "5   SEVERE STORM OUTLOOK for this afternoon     Se...\n",
       "6   SEVERE STORM OUTLOOK for this afternoon     Se...\n",
       "7   SEVERE STORM OUTLOOK for your Saturday.     Se...\n",
       "8   SEVERE STORM OUTLOOK for your Saturday.     Se...\n",
       "9   SEVERE STORM OUTLOOK for rest of the night.   ...\n",
       "10  SEVERE STORM OUTLOOK for rest of the night.   ...\n",
       "11  SEVERE STORM OUTLOOK for rest of the night.   ...\n",
       "12  SEVERE STORM OUTLOOK for your Friday..     See...\n",
       "13  T-STORM OUTLOOK for rest of the night   \\n    ...\n",
       "14  T-STORM OUTLOOK for rest of the night \\n     S...\n",
       "15  T-STORM OUTLOOK for rest of the night    See m...\n",
       "16  T-STORM OUTLOOK for Thursday    See maps and R...\n",
       "17  T-STORM OUTLOOK for Thursday    See maps and R...\n",
       "18  SEVERE STORM OUTLOOK for rest of the night   S...\n",
       "19  SEVERE STORM OUTLOOK for rest of the night   S...\n",
       "20  SEVERE STORM OUTLOOK for rest of the night   S...\n",
       "21  T-STORM OUTLOOK for your Wednesday   See maps ...\n",
       "22  T-STORM OUTLOOK for your Wednesday   See maps ...\n",
       "23  SEVERE STORM OUTLOOK for rest of the night   S...\n",
       "24  SEVERE STORM OUTLOOK for rest of the night   S...\n",
       "25  SEVERE STORM OUTLOOK for rest of the night   S...\n",
       "26  SEVERE STORM OUTLOOK for rest of the night   S...\n",
       "27  SEVERE STORM OUTLOOK for this evening  See map...\n",
       "28  correction:\" SEVERE STORM OUTLOOK for this eve...\n",
       "29  SEVERE STORM OUTLOOK for this afternoon  See m...\n",
       "30  SEVERE STORM OUTLOOK for this evening  See map...\n",
       "31  SEVERE STORM OUTLOOK for this afternoon  See m...\n",
       "32  SEVERE STORM OUTLOOK for your Tuesday    See m...\n",
       "33  SEVERE STORM OUTLOOK for your Tuesday    See m...\n",
       "34  SEVERE STORM OUTLOOK for your Tuesday    See m...\n",
       "35  T-STORMS OUTLOOK for rest of the night    See ...\n",
       "36  T-STORMS OUTLOOK for rest of the night    See ...\n",
       "37  T-STORMS OUTLOOK for rest of the night    See ...\n",
       "38  T-STORMS OUTLOOK for your Monday    See maps a...\n",
       "39  T-STORMS OUTLOOK for your Monday    See maps a...\n",
       "40  T-STORMS OUTLOOK for rest of the night    See ...\n",
       "41  T-STORMS OUTLOOK for rest of the night    See ...\n",
       "42  T-STORMS OUTLOOK for Sunday    See maps and Ra...\n",
       "43  T-STORMS OUTLOOK for Sunday    See maps and Ra...\n",
       "44  T-STORMS OUTLOOK for this evening \\n    See ma...\n",
       "45  T-STORMS OUTLOOK for this evening    See maps ..."
      ]
     },
     "execution_count": 10,
     "metadata": {},
     "output_type": "execute_result"
    }
   ],
   "source": [
    "tweet_pd = pd.DataFrame(data=t,\n",
    "                columns=['List of Tweets'])\n",
    "tweet_pd"
   ]
  },
  {
   "cell_type": "code",
   "execution_count": 11,
   "metadata": {},
   "outputs": [
    {
     "data": {
      "text/plain": [
       "['severe storm outlook for rest of the night see maps and radar maps and zoom in at',\n",
       " 'severe storm outlook for rest of the night see maps and radar maps and zoom in at',\n",
       " 'severe storm outlook for afternoon and evening see maps and radar maps and zoom in at',\n",
       " 'severe storm outlook for afternoon and evening see maps and radar maps and zoom in at',\n",
       " 'severe storm outlook for afternoon and evening see maps and radar maps and zoom in at',\n",
       " 'severe storm outlook for this afternoon see maps and radar maps and zoom in at',\n",
       " 'severe storm outlook for this afternoon see maps and radar maps and zoom in at',\n",
       " 'severe storm outlook for your saturday see maps and radar maps and zoom in at',\n",
       " 'severe storm outlook for your saturday see maps and radar maps and zoom in at',\n",
       " 'severe storm outlook for rest of the night see maps and radar maps and zoom in at',\n",
       " 'severe storm outlook for rest of the night see maps and radar maps and zoom in at',\n",
       " 'severe storm outlook for rest of the night see maps and radar maps and zoom in at',\n",
       " 'severe storm outlook for your friday see maps and radar maps and zoom in at',\n",
       " 'tstorm outlook for rest of the night see maps and radar maps and zoom in at',\n",
       " 'tstorm outlook for rest of the night see maps and radar maps and zoom in at',\n",
       " 'tstorm outlook for rest of the night see maps and radar maps and zoom in at',\n",
       " 'tstorm outlook for thursday see maps and radar maps and zoom in at wx',\n",
       " 'tstorm outlook for thursday see maps and radar maps and zoom in at wx',\n",
       " 'severe storm outlook for rest of the night see maps and radar maps and zoom in at',\n",
       " 'severe storm outlook for rest of the night see maps and radar maps and zoom in at',\n",
       " 'severe storm outlook for rest of the night see maps and radar maps and zoom in at',\n",
       " 'tstorm outlook for your wednesday see maps and radar maps and zoom in at wx',\n",
       " 'tstorm outlook for your wednesday see maps and radar maps and zoom in at wx',\n",
       " 'severe storm outlook for rest of the night see maps and radar maps and zoom i n at',\n",
       " 'severe storm outlook for rest of the night see maps and radar maps and zoom in at',\n",
       " 'severe storm outlook for rest of the night see maps and radar maps and zoom in at',\n",
       " 'severe storm outlook for rest of the night see maps and radar maps and zoom in at',\n",
       " 'severe storm outlook for this evening see maps and radar maps and zoom in at wx',\n",
       " 'correction severe storm outlook for this evening see maps and radar maps and zoom in at',\n",
       " 'severe storm outlook for this afternoon see maps and radar maps and zoom in at',\n",
       " 'severe storm outlook for this evening see maps and radar maps and zoom in at wx',\n",
       " 'severe storm outlook for this afternoon see maps and radar maps and zoom in at',\n",
       " 'severe storm outlook for your tuesday see maps and radar maps and zoom in at',\n",
       " 'severe storm outlook for your tuesday see maps and radar maps and zoom in at',\n",
       " 'severe storm outlook for your tuesday see maps and radar maps and zoom in at',\n",
       " 'tstorms outlook for rest of the night see maps and radar maps and zoom in at',\n",
       " 'tstorms outlook for rest of the night see maps and radar maps and zoom in at',\n",
       " 'tstorms outlook for rest of the night see maps and radar maps and zoom in at',\n",
       " 'tstorms outlook for your monday see maps and radar maps and zoom in at wx',\n",
       " 'tstorms outlook for your monday see maps and radar maps and zoom in at wx',\n",
       " 'tstorms outlook for rest of the night see maps and radar maps and zoom in at',\n",
       " 'tstorms outlook for rest of the night see maps and radar maps and zoom in at',\n",
       " 'tstorms outlook for sunday see maps and radar maps and zoom in at wx news',\n",
       " 'tstorms outlook for sunday see maps and radar maps and zoom in at wx news',\n",
       " 'tstorms outlook for this evening see maps and radar maps and zoom in at wx',\n",
       " 'tstorms outlook for this evening see maps and radar maps and zoom in at wx']"
      ]
     },
     "execution_count": 11,
     "metadata": {},
     "output_type": "execute_result"
    }
   ],
   "source": [
    "def remove_url(txt):\n",
    "    '''Removes the URLs found in a text string\n",
    "    Parameters\n",
    "    ----------\n",
    "    txt: string(A text string that you want to parse and\n",
    "    remove urls)\n",
    "    \n",
    "    Returns\n",
    "    -------\n",
    "    The same txt string with the urls removed'''\n",
    "    \n",
    "    return \" \".join(re.sub(\"([^0-9A-Za-z \\t])|(\\w+:\\/\\/\\S+)\", \"\", txt).split())\n",
    "\n",
    "tweets_nourls = [remove_url(tweet) for tweet in t]\n",
    "tweets_no_urls = [tweet.lower() for tweet in tweets_nourls]\n",
    "'''It is important to text cleanup by addressing case issues in which the words are\n",
    "kept in lower case'''\n",
    "tweets_no_urls"
   ]
  },
  {
   "cell_type": "code",
   "execution_count": 12,
   "metadata": {
    "scrolled": true
   },
   "outputs": [
    {
     "data": {
      "text/plain": [
       "{'correction severe storm outlook for this evening see maps and radar maps and zoom in at',\n",
       " 'severe storm outlook for afternoon and evening see maps and radar maps and zoom in at',\n",
       " 'severe storm outlook for rest of the night see maps and radar maps and zoom i n at',\n",
       " 'severe storm outlook for rest of the night see maps and radar maps and zoom in at',\n",
       " 'severe storm outlook for this afternoon see maps and radar maps and zoom in at',\n",
       " 'severe storm outlook for this evening see maps and radar maps and zoom in at wx',\n",
       " 'severe storm outlook for your friday see maps and radar maps and zoom in at',\n",
       " 'severe storm outlook for your saturday see maps and radar maps and zoom in at',\n",
       " 'severe storm outlook for your tuesday see maps and radar maps and zoom in at',\n",
       " 'tstorm outlook for rest of the night see maps and radar maps and zoom in at',\n",
       " 'tstorm outlook for thursday see maps and radar maps and zoom in at wx',\n",
       " 'tstorm outlook for your wednesday see maps and radar maps and zoom in at wx',\n",
       " 'tstorms outlook for rest of the night see maps and radar maps and zoom in at',\n",
       " 'tstorms outlook for sunday see maps and radar maps and zoom in at wx news',\n",
       " 'tstorms outlook for this evening see maps and radar maps and zoom in at wx',\n",
       " 'tstorms outlook for your monday see maps and radar maps and zoom in at wx'}"
      ]
     },
     "execution_count": 12,
     "metadata": {},
     "output_type": "execute_result"
    }
   ],
   "source": [
    "'''This function can be used to return only a set of unique words'''\n",
    "set(tweets_no_urls)"
   ]
  },
  {
   "cell_type": "code",
   "execution_count": 13,
   "metadata": {},
   "outputs": [
    {
     "data": {
      "text/plain": [
       "[['severe',\n",
       "  'storm',\n",
       "  'outlook',\n",
       "  'for',\n",
       "  'rest',\n",
       "  'of',\n",
       "  'the',\n",
       "  'night',\n",
       "  'see',\n",
       "  'maps',\n",
       "  'and',\n",
       "  'radar',\n",
       "  'maps',\n",
       "  'and',\n",
       "  'zoom',\n",
       "  'in',\n",
       "  'at'],\n",
       " ['severe',\n",
       "  'storm',\n",
       "  'outlook',\n",
       "  'for',\n",
       "  'rest',\n",
       "  'of',\n",
       "  'the',\n",
       "  'night',\n",
       "  'see',\n",
       "  'maps',\n",
       "  'and',\n",
       "  'radar',\n",
       "  'maps',\n",
       "  'and',\n",
       "  'zoom',\n",
       "  'in',\n",
       "  'at']]"
      ]
     },
     "execution_count": 13,
     "metadata": {},
     "output_type": "execute_result"
    }
   ],
   "source": [
    "#Creating a list of lists containing lowercase words for each tweet\n",
    "words_in_tweet = [tweet.split() for tweet in tweets_no_urls]\n",
    "words_in_tweet[:2]"
   ]
  },
  {
   "cell_type": "code",
   "execution_count": 14,
   "metadata": {},
   "outputs": [
    {
     "data": {
      "text/plain": [
       "[('and', 95),\n",
       " ('maps', 92),\n",
       " ('outlook', 46),\n",
       " ('for', 46),\n",
       " ('see', 46),\n",
       " ('radar', 46),\n",
       " ('zoom', 46),\n",
       " ('at', 46),\n",
       " ('in', 45),\n",
       " ('severe', 28),\n",
       " ('storm', 28),\n",
       " ('rest', 20),\n",
       " ('of', 20),\n",
       " ('the', 20),\n",
       " ('night', 20)]"
      ]
     },
     "execution_count": 14,
     "metadata": {},
     "output_type": "execute_result"
    }
   ],
   "source": [
    "'''Used iteritools to flatten the list, so that all words\n",
    "across the tweets are in one list'''\n",
    "all_words_no_urls = list(itertools.chain(*words_in_tweet))\n",
    "\n",
    "#Create Counter\n",
    "counts_no_url = collections.Counter(all_words_no_urls)\n",
    "\n",
    "'''collection.Counter object has a useful built-in method\n",
    "most_common that will return the most commonly used words\n",
    "and the number of times that they are used'''\n",
    "counts_no_url.most_common(15)\n",
    "\n",
    "\n"
   ]
  },
  {
   "cell_type": "code",
   "execution_count": 15,
   "metadata": {},
   "outputs": [
    {
     "data": {
      "text/html": [
       "<div>\n",
       "<style scoped>\n",
       "    .dataframe tbody tr th:only-of-type {\n",
       "        vertical-align: middle;\n",
       "    }\n",
       "\n",
       "    .dataframe tbody tr th {\n",
       "        vertical-align: top;\n",
       "    }\n",
       "\n",
       "    .dataframe thead th {\n",
       "        text-align: right;\n",
       "    }\n",
       "</style>\n",
       "<table border=\"1\" class=\"dataframe\">\n",
       "  <thead>\n",
       "    <tr style=\"text-align: right;\">\n",
       "      <th></th>\n",
       "      <th>words</th>\n",
       "      <th>count</th>\n",
       "    </tr>\n",
       "  </thead>\n",
       "  <tbody>\n",
       "    <tr>\n",
       "      <td>0</td>\n",
       "      <td>and</td>\n",
       "      <td>95</td>\n",
       "    </tr>\n",
       "    <tr>\n",
       "      <td>1</td>\n",
       "      <td>maps</td>\n",
       "      <td>92</td>\n",
       "    </tr>\n",
       "    <tr>\n",
       "      <td>2</td>\n",
       "      <td>outlook</td>\n",
       "      <td>46</td>\n",
       "    </tr>\n",
       "    <tr>\n",
       "      <td>3</td>\n",
       "      <td>for</td>\n",
       "      <td>46</td>\n",
       "    </tr>\n",
       "    <tr>\n",
       "      <td>4</td>\n",
       "      <td>see</td>\n",
       "      <td>46</td>\n",
       "    </tr>\n",
       "  </tbody>\n",
       "</table>\n",
       "</div>"
      ],
      "text/plain": [
       "     words  count\n",
       "0      and     95\n",
       "1     maps     92\n",
       "2  outlook     46\n",
       "3      for     46\n",
       "4      see     46"
      ]
     },
     "execution_count": 15,
     "metadata": {},
     "output_type": "execute_result"
    }
   ],
   "source": [
    "'''Pandas data frame is created for analysis and plotting \n",
    "that includes only the top 15 most commonly used words'''\n",
    "clean_tweet_no_urls = pd.DataFrame(counts_no_url.most_common(15),\n",
    "                                  columns=['words','count'])\n",
    "\n",
    "clean_tweet_no_urls.head()"
   ]
  },
  {
   "cell_type": "code",
   "execution_count": 16,
   "metadata": {
    "scrolled": true
   },
   "outputs": [
    {
     "data": {
      "image/png": "[encoded data removed]",
      "text/plain": [
       "<Figure size 576x576 with 1 Axes>"
      ]
     },
     "metadata": {},
     "output_type": "display_data"
    }
   ],
   "source": [
    "'''Using this, we can create a horizontal bar graph of the\n",
    "top 15 most common words in the tweets'''\n",
    "\n",
    "fig,ax = plt.subplots(figsize=(8,8))\n",
    "\n",
    "#Plot a horizontal bar graph\n",
    "\n",
    "clean_tweet_no_urls.sort_values(by='count').plot.barh(x='words',\n",
    "                        y='count',\n",
    "                        ax=ax,\n",
    "                        color=\"purple\")\n",
    "\n",
    "ax.set_title(\"Common Words Found in Tweets (Including All Words)\")\n",
    "\n",
    "plt.show()"
   ]
  },
  {
   "cell_type": "code",
   "execution_count": 17,
   "metadata": {},
   "outputs": [
    {
     "name": "stderr",
     "output_type": "stream",
     "text": [
      "[nltk_data] Downloading package stopwords to\n",
      "[nltk_data]     /Users/aakashvardhan/nltk_data...\n",
      "[nltk_data]   Package stopwords is already up-to-date!\n"
     ]
    },
    {
     "data": {
      "text/plain": [
       "['so',\n",
       " 'is',\n",
       " 'mightn',\n",
       " 'who',\n",
       " 'above',\n",
       " 'such',\n",
       " 'wouldn',\n",
       " 'into',\n",
       " 'through',\n",
       " 'from']"
      ]
     },
     "execution_count": 17,
     "metadata": {},
     "output_type": "execute_result"
    }
   ],
   "source": [
    "'''Now to perform additional clean-up, such as removing irrelevant\n",
    "words that do not add meaningful information to the text\n",
    "you are trying to analyze, which are referred to as \"stop words\"'''\n",
    "\n",
    "nltk.download('stopwords')\n",
    "stop_words = set(stopwords.words('english'))\n",
    "list(stop_words)[0:10]"
   ]
  },
  {
   "cell_type": "code",
   "execution_count": 18,
   "metadata": {},
   "outputs": [
    {
     "data": {
      "text/plain": [
       "['severe',\n",
       " 'storm',\n",
       " 'outlook',\n",
       " 'rest',\n",
       " 'night',\n",
       " 'see',\n",
       " 'maps',\n",
       " 'radar',\n",
       " 'maps',\n",
       " 'zoom']"
      ]
     },
     "execution_count": 18,
     "metadata": {},
     "output_type": "execute_result"
    }
   ],
   "source": [
    "'''Creating a list containing lowercase words for each tweet\n",
    "in addition to comparing the words in the original tweet\n",
    "to the words in the tweet after the stop words are removed'''\n",
    "\n",
    "tweets_no_sw = [[word for word in tweet_words if not word in stop_words]\n",
    "               for tweet_words in words_in_tweet]\n",
    "tweets_no_sw[0]"
   ]
  },
  {
   "cell_type": "code",
   "execution_count": 19,
   "metadata": {},
   "outputs": [
    {
     "data": {
      "text/plain": [
       "[('maps', 92),\n",
       " ('outlook', 46),\n",
       " ('see', 46),\n",
       " ('radar', 46),\n",
       " ('zoom', 46),\n",
       " ('severe', 28),\n",
       " ('storm', 28),\n",
       " ('rest', 20),\n",
       " ('night', 20),\n",
       " ('wx', 12),\n",
       " ('tstorms', 11),\n",
       " ('evening', 8),\n",
       " ('afternoon', 7),\n",
       " ('tstorm', 7),\n",
       " ('tuesday', 3)]"
      ]
     },
     "execution_count": 19,
     "metadata": {},
     "output_type": "execute_result"
    }
   ],
   "source": [
    "all_words_nsw = list(itertools.chain(*tweets_no_sw))\n",
    "counts_nsw = collections.Counter(all_words_nsw)\n",
    "counts_nsw.most_common(15)"
   ]
  },
  {
   "cell_type": "code",
   "execution_count": 20,
   "metadata": {},
   "outputs": [
    {
     "data": {
      "image/png": "[encoded data removed]",
      "text/plain": [
       "<Figure size 576x576 with 1 Axes>"
      ]
     },
     "metadata": {},
     "output_type": "display_data"
    }
   ],
   "source": [
    "clean_tweets_nsw = pd.DataFrame(counts_nsw.most_common(15),\n",
    "                               columns=['words','count'])\n",
    "\n",
    "fig,ax = plt.subplots(figsize=(8,8))\n",
    "\n",
    "clean_tweets_nsw.sort_values(by='count').plot.barh(x='words',\n",
    "                            y='count',\n",
    "                            ax=ax,\n",
    "                            color=\"purple\")\n",
    "\n",
    "ax.set_title(\"Common Words in Tweets (Without Stop Words)\")\n",
    "\n",
    "plt.show()"
   ]
  },
  {
   "cell_type": "code",
   "execution_count": 21,
   "metadata": {},
   "outputs": [],
   "source": [
    "\n",
    "#Remove collection words\n",
    "collection_words = ['flashfloods','flash','floods']\n",
    "tweets_nsw_nc = [[w for w in word if not w in collection_words] for word in tweets_no_sw]"
   ]
  },
  {
   "cell_type": "code",
   "execution_count": 22,
   "metadata": {},
   "outputs": [
    {
     "data": {
      "text/plain": [
       "[('severe', 'storm'),\n",
       " ('storm', 'outlook'),\n",
       " ('outlook', 'rest'),\n",
       " ('rest', 'night'),\n",
       " ('night', 'see'),\n",
       " ('see', 'maps'),\n",
       " ('maps', 'radar'),\n",
       " ('radar', 'maps'),\n",
       " ('maps', 'zoom')]"
      ]
     },
     "execution_count": 22,
     "metadata": {},
     "output_type": "execute_result"
    }
   ],
   "source": [
    "#Create list of lists containing bigrams in tweets\n",
    "terms_bigram = [list(bigrams(tweet)) for tweet in tweets_nsw_nc]\n",
    "\n",
    "#View Bigrams for the first tweet\n",
    "terms_bigram[0]"
   ]
  },
  {
   "cell_type": "code",
   "execution_count": 23,
   "metadata": {},
   "outputs": [
    {
     "data": {
      "text/plain": [
       "'severe storm outlook for rest of the night see maps and radar maps and zoom in at'"
      ]
     },
     "execution_count": 23,
     "metadata": {},
     "output_type": "execute_result"
    }
   ],
   "source": [
    "# Original tweet without URLs\n",
    "tweets_no_urls[0]"
   ]
  },
  {
   "cell_type": "code",
   "execution_count": 24,
   "metadata": {},
   "outputs": [
    {
     "data": {
      "text/plain": [
       "['severe',\n",
       " 'storm',\n",
       " 'outlook',\n",
       " 'rest',\n",
       " 'night',\n",
       " 'see',\n",
       " 'maps',\n",
       " 'radar',\n",
       " 'maps',\n",
       " 'zoom']"
      ]
     },
     "execution_count": 24,
     "metadata": {},
     "output_type": "execute_result"
    }
   ],
   "source": [
    "# Clean Tweet\n",
    "tweets_nsw_nc[0]"
   ]
  },
  {
   "cell_type": "code",
   "execution_count": 25,
   "metadata": {},
   "outputs": [
    {
     "data": {
      "text/plain": [
       "[(('see', 'maps'), 46),\n",
       " (('maps', 'radar'), 46),\n",
       " (('radar', 'maps'), 46),\n",
       " (('maps', 'zoom'), 46),\n",
       " (('severe', 'storm'), 28),\n",
       " (('storm', 'outlook'), 28),\n",
       " (('outlook', 'rest'), 20),\n",
       " (('rest', 'night'), 20),\n",
       " (('night', 'see'), 20),\n",
       " (('zoom', 'wx'), 12),\n",
       " (('tstorms', 'outlook'), 11),\n",
       " (('evening', 'see'), 8),\n",
       " (('outlook', 'afternoon'), 7),\n",
       " (('tstorm', 'outlook'), 7),\n",
       " (('outlook', 'evening'), 5),\n",
       " (('afternoon', 'see'), 4),\n",
       " (('afternoon', 'evening'), 3),\n",
       " (('outlook', 'tuesday'), 3),\n",
       " (('tuesday', 'see'), 3),\n",
       " (('outlook', 'saturday'), 2)]"
      ]
     },
     "execution_count": 25,
     "metadata": {},
     "output_type": "execute_result"
    }
   ],
   "source": [
    "'''We will be using a counter to capture the bigrams as dictionary keys and\n",
    "their counts are as dictionary values'''\n",
    "# Flatten list of bigrams in clean tweets\n",
    "bigrams = list(itertools.chain(*terms_bigram))\n",
    "\n",
    "# Create counter of words in clean bigrams\n",
    "bigram_counts = collections.Counter(bigrams)\n",
    "\n",
    "bigram_counts.most_common(20)"
   ]
  },
  {
   "cell_type": "code",
   "execution_count": 26,
   "metadata": {},
   "outputs": [
    {
     "data": {
      "text/html": [
       "<div>\n",
       "<style scoped>\n",
       "    .dataframe tbody tr th:only-of-type {\n",
       "        vertical-align: middle;\n",
       "    }\n",
       "\n",
       "    .dataframe tbody tr th {\n",
       "        vertical-align: top;\n",
       "    }\n",
       "\n",
       "    .dataframe thead th {\n",
       "        text-align: right;\n",
       "    }\n",
       "</style>\n",
       "<table border=\"1\" class=\"dataframe\">\n",
       "  <thead>\n",
       "    <tr style=\"text-align: right;\">\n",
       "      <th></th>\n",
       "      <th>bigram</th>\n",
       "      <th>count</th>\n",
       "    </tr>\n",
       "  </thead>\n",
       "  <tbody>\n",
       "    <tr>\n",
       "      <td>0</td>\n",
       "      <td>(see, maps)</td>\n",
       "      <td>46</td>\n",
       "    </tr>\n",
       "    <tr>\n",
       "      <td>1</td>\n",
       "      <td>(maps, radar)</td>\n",
       "      <td>46</td>\n",
       "    </tr>\n",
       "    <tr>\n",
       "      <td>2</td>\n",
       "      <td>(radar, maps)</td>\n",
       "      <td>46</td>\n",
       "    </tr>\n",
       "    <tr>\n",
       "      <td>3</td>\n",
       "      <td>(maps, zoom)</td>\n",
       "      <td>46</td>\n",
       "    </tr>\n",
       "    <tr>\n",
       "      <td>4</td>\n",
       "      <td>(severe, storm)</td>\n",
       "      <td>28</td>\n",
       "    </tr>\n",
       "    <tr>\n",
       "      <td>5</td>\n",
       "      <td>(storm, outlook)</td>\n",
       "      <td>28</td>\n",
       "    </tr>\n",
       "    <tr>\n",
       "      <td>6</td>\n",
       "      <td>(outlook, rest)</td>\n",
       "      <td>20</td>\n",
       "    </tr>\n",
       "    <tr>\n",
       "      <td>7</td>\n",
       "      <td>(rest, night)</td>\n",
       "      <td>20</td>\n",
       "    </tr>\n",
       "    <tr>\n",
       "      <td>8</td>\n",
       "      <td>(night, see)</td>\n",
       "      <td>20</td>\n",
       "    </tr>\n",
       "    <tr>\n",
       "      <td>9</td>\n",
       "      <td>(zoom, wx)</td>\n",
       "      <td>12</td>\n",
       "    </tr>\n",
       "    <tr>\n",
       "      <td>10</td>\n",
       "      <td>(tstorms, outlook)</td>\n",
       "      <td>11</td>\n",
       "    </tr>\n",
       "    <tr>\n",
       "      <td>11</td>\n",
       "      <td>(evening, see)</td>\n",
       "      <td>8</td>\n",
       "    </tr>\n",
       "    <tr>\n",
       "      <td>12</td>\n",
       "      <td>(outlook, afternoon)</td>\n",
       "      <td>7</td>\n",
       "    </tr>\n",
       "    <tr>\n",
       "      <td>13</td>\n",
       "      <td>(tstorm, outlook)</td>\n",
       "      <td>7</td>\n",
       "    </tr>\n",
       "    <tr>\n",
       "      <td>14</td>\n",
       "      <td>(outlook, evening)</td>\n",
       "      <td>5</td>\n",
       "    </tr>\n",
       "    <tr>\n",
       "      <td>15</td>\n",
       "      <td>(afternoon, see)</td>\n",
       "      <td>4</td>\n",
       "    </tr>\n",
       "    <tr>\n",
       "      <td>16</td>\n",
       "      <td>(afternoon, evening)</td>\n",
       "      <td>3</td>\n",
       "    </tr>\n",
       "    <tr>\n",
       "      <td>17</td>\n",
       "      <td>(outlook, tuesday)</td>\n",
       "      <td>3</td>\n",
       "    </tr>\n",
       "    <tr>\n",
       "      <td>18</td>\n",
       "      <td>(tuesday, see)</td>\n",
       "      <td>3</td>\n",
       "    </tr>\n",
       "    <tr>\n",
       "      <td>19</td>\n",
       "      <td>(outlook, saturday)</td>\n",
       "      <td>2</td>\n",
       "    </tr>\n",
       "  </tbody>\n",
       "</table>\n",
       "</div>"
      ],
      "text/plain": [
       "                  bigram  count\n",
       "0            (see, maps)     46\n",
       "1          (maps, radar)     46\n",
       "2          (radar, maps)     46\n",
       "3           (maps, zoom)     46\n",
       "4        (severe, storm)     28\n",
       "5       (storm, outlook)     28\n",
       "6        (outlook, rest)     20\n",
       "7          (rest, night)     20\n",
       "8           (night, see)     20\n",
       "9             (zoom, wx)     12\n",
       "10    (tstorms, outlook)     11\n",
       "11        (evening, see)      8\n",
       "12  (outlook, afternoon)      7\n",
       "13     (tstorm, outlook)      7\n",
       "14    (outlook, evening)      5\n",
       "15      (afternoon, see)      4\n",
       "16  (afternoon, evening)      3\n",
       "17    (outlook, tuesday)      3\n",
       "18        (tuesday, see)      3\n",
       "19   (outlook, saturday)      2"
      ]
     },
     "execution_count": 26,
     "metadata": {},
     "output_type": "execute_result"
    }
   ],
   "source": [
    "#Created a pandas dataframe from the counter\n",
    "bigram_df = pd.DataFrame(bigram_counts.most_common(20),\n",
    "                             columns=['bigram', 'count'])\n",
    "\n",
    "bigram_df"
   ]
  },
  {
   "cell_type": "code",
   "execution_count": 29,
   "metadata": {},
   "outputs": [
    {
     "data": {
      "image/png": "[encoded data removed]",
      "text/plain": [
       "<Figure size 720x576 with 1 Axes>"
      ]
     },
     "metadata": {},
     "output_type": "display_data"
    }
   ],
   "source": [
    "'''This dataframe can be used to visualise the top 20\n",
    "occurring bigrams as networks using the package networkx'''\n",
    "# Create dictionary of bigrams and their counts\n",
    "d = bigram_df.set_index('bigram').T.to_dict('records')\n",
    "# Create network plot \n",
    "G = networkx.Graph()\n",
    "\n",
    "# Create connections between nodes\n",
    "for k, v in d[0].items():\n",
    "    G.add_edge(k[0], k[1], weight=(v * 10))\n",
    "\n",
    "G.add_node(\"china\", weight=100)\n",
    "fig, ax = plt.subplots(figsize=(10, 8))\n",
    "\n",
    "pos = networkx.spring_layout(G, k=1)\n",
    "\n",
    "# Plot networks\n",
    "networkx.draw_networkx(G, pos,\n",
    "                 font_size=16,\n",
    "                 width=3,\n",
    "                 edge_color='grey',\n",
    "                 node_color='purple',\n",
    "                 with_labels = False,\n",
    "                 ax=ax)\n",
    "\n",
    "# Create offset labels\n",
    "for key, value in pos.items():\n",
    "    x, y = value[0]+.135, value[1]+.045\n",
    "    ax.text(x, y,\n",
    "            s=key,\n",
    "            bbox=dict(facecolor='red', alpha=0.25),\n",
    "            horizontalalignment='center', fontsize=13)\n",
    "    \n",
    "plt.show()"
   ]
  },
  {
   "cell_type": "code",
   "execution_count": null,
   "metadata": {},
   "outputs": [],
   "source": []
  }
 ],
 "metadata": {
  "kernelspec": {
   "display_name": "research-env",
   "language": "python",
   "name": "research-env"
  },
  "language_info": {
   "codemirror_mode": {
    "name": "ipython",
    "version": 3
   },
   "file_extension": ".py",
   "mimetype": "text/x-python",
   "name": "python",
   "nbconvert_exporter": "python",
   "pygments_lexer": "ipython3",
   "version": "3.7.4"
  }
 },
 "nbformat": 4,
 "nbformat_minor": 2
}
