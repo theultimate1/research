{
 "cells": [
  {
   "cell_type": "markdown",
   "metadata": {},
   "source": [
    "## Data Cleaning and Preprocessing"
   ]
  },
  {
   "cell_type": "code",
   "execution_count": 2,
   "metadata": {},
   "outputs": [
    {
     "name": "stderr",
     "output_type": "stream",
     "text": [
      "Using TensorFlow backend.\n"
     ]
    }
   ],
   "source": [
    "import numpy as np\n",
    "from keras.preprocessing.text import Tokenizer\n",
    "from keras.preprocessing.sequence import pad_sequences\n",
    "from keras.models import Sequential\n",
    "from keras.layers import Dense\n",
    "from keras.layers import Flatten\n",
    "from keras.layers import Embedding\n",
    "from keras.models import Sequential, Model, load_model\n",
    "from keras.layers.embeddings import Embedding\n",
    "from keras.layers import Flatten, Dense, Dropout, Convolution1D, MaxPooling1D, SpatialDropout1D, Input \n",
    "from keras.layers import GlobalMaxPooling1D, concatenate, LSTM, Bidirectional\n",
    "from keras.optimizers import Adam\n",
    "from keras.utils import np_utils\n",
    "from keras.callbacks import ModelCheckpoint\n",
    "import tensorflow as tf\n",
    "import pandas as pd\n",
    "import matplotlib.pyplot as plt\n",
    "import matplotlib as mpl\n",
    "import scipy.stats as stats\n",
    "import string\n",
    "import re\n",
    "from sklearn.base import BaseEstimator, TransformerMixin\n",
    "\n",
    "def reset_graph(seed=42):\n",
    "    tf.reset_default_graph()\n",
    "    tf.set_random_seed(seed)\n",
    "    np.random.seed(seed)"
   ]
  },
  {
   "cell_type": "code",
   "execution_count": 3,
   "metadata": {},
   "outputs": [],
   "source": [
    "# Text cleaner found on github: https://github.com/martinpella/twitter-airlines/blob/master/utils.py\n",
    "class TextCleaner(BaseEstimator, TransformerMixin):    \n",
    "    def remove_mentions(self, text):        \n",
    "        return re.sub(r'@\\w+', '', text)\n",
    "    \n",
    "    def remove_urls(self, text):        \n",
    "        return re.sub(r'http.?://[^\\s]+[\\s]?', '', text)\n",
    "    \n",
    "    def only_characters(self, text):\n",
    "        return re.sub('[^a-zA-Z\\s]', '', text)\n",
    "    \n",
    "    def remove_extra_spaces(self, text):\n",
    "        text = re.sub(\"\\s+\", ' ', text)\n",
    "        text = text.lstrip()\n",
    "        return text.rstrip()\n",
    "    \n",
    "    def to_lower(self, text):\n",
    "        return text.lower()\n",
    "    \n",
    "    def fix_words(self, text):\n",
    "        text = re.sub(r'\\bthx\\b', 'thanks', text)\n",
    "        text = re.sub(r'\\bu\\b', 'you', text)\n",
    "        text = re.sub(r'\\bhrs\\b', 'hours', text)\n",
    "        text = re.sub(r'\\baa\\b', 'a', text)\n",
    "        text = re.sub(r'\\bflightr\\b', 'flight', text)\n",
    "        text = re.sub(r'\\bur\\b', 'your', text)\n",
    "        text = re.sub(r'\\bhr\\b', 'hour', text)\n",
    "        text = re.sub(r'\\bthru\\b', 'through', text)\n",
    "        text = re.sub(r'\\br\\b', 'are', text)\n",
    "        text = re.sub(r'\\bppl\\b', 'people', text)\n",
    "        text = re.sub(r'\\btix\\b', 'fix', text)\n",
    "        text = re.sub(r'\\bplz\\b', 'please', text)\n",
    "        text = re.sub(r'\\bflightd\\b', 'flighted', text)\n",
    "        text = re.sub(r'\\btmrw\\b', 'tomorrow', text)\n",
    "        text = re.sub(r'\\bthx\\b', 'thanks', text)\n",
    "        text = re.sub(r'\\bpls\\b', 'please', text)\n",
    "        text = re.sub(r'\\bfyi\\b', 'for your information', text)\n",
    "        \n",
    "        text = re.sub(r'\\bheyyyy\\b', 'hey', text)\n",
    "        text = re.sub(r'\\bguyyyys\\b', 'guys', text)\n",
    "        text = re.sub(r'\\byall\\b', 'you all', text)\n",
    "        text = re.sub(r'\\basap\\b', 'as soon as possible', text)\n",
    "        text = re.sub(r'\\bbtw\\b', 'by the way', text)\n",
    "        text = re.sub(r'\\bdm\\b', 'direct message', text)\n",
    "        text = re.sub(r'\\bcudtomers\\b', 'customers', text)\n",
    "        text = re.sub(r'\\bwtf\\b', 'what the fuck', text)\n",
    "        text = re.sub(r'\\biphone\\b', 'phone', text)\n",
    "        text = re.sub(r'\\bmins\\b', 'minutes', text)\n",
    "        text = re.sub(r'\\btv\\b', 'television', text)\n",
    "        text = re.sub(r'\\bokay\\b', 'ok', text)\n",
    "        text = re.sub(r'\\bfeb\\b', 'february', text)\n",
    "        text = re.sub(r'\\byr\\b', 'year', text)\n",
    "        text = re.sub(r'\\bshes\\b', 'she is', text)\n",
    "        text = re.sub(r'\\bnope\\b', 'no', text)\n",
    "        text = re.sub(r'\\bhes\\b', 'he is', text)\n",
    "        text = re.sub(r'\\btill\\b', 'until', text)\n",
    "        text = re.sub(r'\\bomg\\b', 'oh my god', text)\n",
    "        text = re.sub(r'\\btho\\b', 'though', text)\n",
    "        text = re.sub(r'\\bnothappy\\b', 'not happy', text)\n",
    "        return re.sub(r'\\bthankyou\\b', 'thank you', text)\n",
    "        \n",
    "    def fit(self, X, y=None, **fit_params):\n",
    "        return self\n",
    "    \n",
    "    def transform(self, X, **transform_params):        \n",
    "        clean_X = X.apply(self.remove_mentions).apply(self.remove_urls).apply(self.only_characters).apply(self.remove_extra_spaces).apply(self.to_lower).apply(self.fix_words)\n",
    "        return clean_X"
   ]
  },
  {
   "cell_type": "code",
   "execution_count": 4,
   "metadata": {},
   "outputs": [
    {
     "data": {
      "text/html": [
       "<div>\n",
       "<style scoped>\n",
       "    .dataframe tbody tr th:only-of-type {\n",
       "        vertical-align: middle;\n",
       "    }\n",
       "\n",
       "    .dataframe tbody tr th {\n",
       "        vertical-align: top;\n",
       "    }\n",
       "\n",
       "    .dataframe thead th {\n",
       "        text-align: right;\n",
       "    }\n",
       "</style>\n",
       "<table border=\"1\" class=\"dataframe\">\n",
       "  <thead>\n",
       "    <tr style=\"text-align: right;\">\n",
       "      <th></th>\n",
       "      <th>classification</th>\n",
       "      <th>binary_class</th>\n",
       "      <th>text</th>\n",
       "    </tr>\n",
       "  </thead>\n",
       "  <tbody>\n",
       "    <tr>\n",
       "      <th>0</th>\n",
       "      <td>relevant</td>\n",
       "      <td>1</td>\n",
       "      <td>Sun, Sand And Sewage: Report Shows Many U.S. B...</td>\n",
       "    </tr>\n",
       "    <tr>\n",
       "      <th>1</th>\n",
       "      <td>relevant</td>\n",
       "      <td>1</td>\n",
       "      <td>Many U.S. Beaches Are Unsafe For Swimming, Rep...</td>\n",
       "    </tr>\n",
       "    <tr>\n",
       "      <th>2</th>\n",
       "      <td>relevant</td>\n",
       "      <td>1</td>\n",
       "      <td>Many U.S. Beaches Are Unsafe For Swimming, Rep...</td>\n",
       "    </tr>\n",
       "    <tr>\n",
       "      <th>3</th>\n",
       "      <td>relevant</td>\n",
       "      <td>1</td>\n",
       "      <td>Sun, Sand And Sewage: Report Shows Many U.S. B...</td>\n",
       "    </tr>\n",
       "    <tr>\n",
       "      <th>4</th>\n",
       "      <td>relevant</td>\n",
       "      <td>1</td>\n",
       "      <td>Sun, Sand And Sewage: Report Shows Many U.S. B...</td>\n",
       "    </tr>\n",
       "  </tbody>\n",
       "</table>\n",
       "</div>"
      ],
      "text/plain": [
       "  classification  binary_class  \\\n",
       "0       relevant             1   \n",
       "1       relevant             1   \n",
       "2       relevant             1   \n",
       "3       relevant             1   \n",
       "4       relevant             1   \n",
       "\n",
       "                                                text  \n",
       "0  Sun, Sand And Sewage: Report Shows Many U.S. B...  \n",
       "1  Many U.S. Beaches Are Unsafe For Swimming, Rep...  \n",
       "2  Many U.S. Beaches Are Unsafe For Swimming, Rep...  \n",
       "3  Sun, Sand And Sewage: Report Shows Many U.S. B...  \n",
       "4  Sun, Sand And Sewage: Report Shows Many U.S. B...  "
      ]
     },
     "execution_count": 4,
     "metadata": {},
     "output_type": "execute_result"
    }
   ],
   "source": [
    "# load the data\n",
    "relevant_tweets = pd.read_hdf('datasets/relevant_tweets.h5', 'relevant_tweets')\n",
    "relevant_tweets['classification'] = 'relevant'\n",
    "relevant_tweets['binary_class'] = np.ones(len(relevant_tweets)).astype(int)\n",
    "relevant_tweets = relevant_tweets[['classification', 'binary_class', 'text']]\n",
    "irrelevant_tweets = pd.read_hdf('datasets/not_relevant_tweets.h5', 'not_relevant_tweets')\n",
    "irrelevant_tweets['classification'] = 'irrelevant'\n",
    "irrelevant_tweets['binary_class'] = np.zeros(len(irrelevant_tweets)).astype(int)\n",
    "irrelevant_tweets = irrelevant_tweets[['classification', 'binary_class', 'text']]\n",
    "df = pd.concat([relevant_tweets, irrelevant_tweets]).reset_index()\n",
    "df = df.iloc[:, 1:]\n",
    "df.head()"
   ]
  },
  {
   "cell_type": "code",
   "execution_count": 5,
   "metadata": {},
   "outputs": [
    {
     "data": {
      "text/html": [
       "<div>\n",
       "<style scoped>\n",
       "    .dataframe tbody tr th:only-of-type {\n",
       "        vertical-align: middle;\n",
       "    }\n",
       "\n",
       "    .dataframe tbody tr th {\n",
       "        vertical-align: top;\n",
       "    }\n",
       "\n",
       "    .dataframe thead th {\n",
       "        text-align: right;\n",
       "    }\n",
       "</style>\n",
       "<table border=\"1\" class=\"dataframe\">\n",
       "  <thead>\n",
       "    <tr style=\"text-align: right;\">\n",
       "      <th></th>\n",
       "      <th>classification</th>\n",
       "      <th>binary_class</th>\n",
       "      <th>text</th>\n",
       "      <th>cleaned_text</th>\n",
       "    </tr>\n",
       "  </thead>\n",
       "  <tbody>\n",
       "    <tr>\n",
       "      <th>0</th>\n",
       "      <td>relevant</td>\n",
       "      <td>1</td>\n",
       "      <td>Sun, Sand And Sewage: Report Shows Many U.S. B...</td>\n",
       "      <td>sun sand and sewage report shows many us beach...</td>\n",
       "    </tr>\n",
       "    <tr>\n",
       "      <th>1</th>\n",
       "      <td>relevant</td>\n",
       "      <td>1</td>\n",
       "      <td>Many U.S. Beaches Are Unsafe For Swimming, Rep...</td>\n",
       "      <td>many us beaches are unsafe for swimming report...</td>\n",
       "    </tr>\n",
       "    <tr>\n",
       "      <th>2</th>\n",
       "      <td>relevant</td>\n",
       "      <td>1</td>\n",
       "      <td>Many U.S. Beaches Are Unsafe For Swimming, Rep...</td>\n",
       "      <td>many us beaches are unsafe for swimming report...</td>\n",
       "    </tr>\n",
       "    <tr>\n",
       "      <th>3</th>\n",
       "      <td>relevant</td>\n",
       "      <td>1</td>\n",
       "      <td>Sun, Sand And Sewage: Report Shows Many U.S. B...</td>\n",
       "      <td>sun sand and sewage report shows many us beach...</td>\n",
       "    </tr>\n",
       "    <tr>\n",
       "      <th>4</th>\n",
       "      <td>relevant</td>\n",
       "      <td>1</td>\n",
       "      <td>Sun, Sand And Sewage: Report Shows Many U.S. B...</td>\n",
       "      <td>sun sand and sewage report shows many us beach...</td>\n",
       "    </tr>\n",
       "  </tbody>\n",
       "</table>\n",
       "</div>"
      ],
      "text/plain": [
       "  classification  binary_class  \\\n",
       "0       relevant             1   \n",
       "1       relevant             1   \n",
       "2       relevant             1   \n",
       "3       relevant             1   \n",
       "4       relevant             1   \n",
       "\n",
       "                                                text  \\\n",
       "0  Sun, Sand And Sewage: Report Shows Many U.S. B...   \n",
       "1  Many U.S. Beaches Are Unsafe For Swimming, Rep...   \n",
       "2  Many U.S. Beaches Are Unsafe For Swimming, Rep...   \n",
       "3  Sun, Sand And Sewage: Report Shows Many U.S. B...   \n",
       "4  Sun, Sand And Sewage: Report Shows Many U.S. B...   \n",
       "\n",
       "                                        cleaned_text  \n",
       "0  sun sand and sewage report shows many us beach...  \n",
       "1  many us beaches are unsafe for swimming report...  \n",
       "2  many us beaches are unsafe for swimming report...  \n",
       "3  sun sand and sewage report shows many us beach...  \n",
       "4  sun sand and sewage report shows many us beach...  "
      ]
     },
     "execution_count": 5,
     "metadata": {},
     "output_type": "execute_result"
    }
   ],
   "source": [
    "# Clean the text\n",
    "tc = TextCleaner()\n",
    "df['cleaned_text'] = tc.transform(df['text'])\n",
    "df.head()"
   ]
  },
  {
   "cell_type": "code",
   "execution_count": 6,
   "metadata": {},
   "outputs": [
    {
     "data": {
      "text/html": [
       "<div>\n",
       "<style scoped>\n",
       "    .dataframe tbody tr th:only-of-type {\n",
       "        vertical-align: middle;\n",
       "    }\n",
       "\n",
       "    .dataframe tbody tr th {\n",
       "        vertical-align: top;\n",
       "    }\n",
       "\n",
       "    .dataframe thead th {\n",
       "        text-align: right;\n",
       "    }\n",
       "</style>\n",
       "<table border=\"1\" class=\"dataframe\">\n",
       "  <thead>\n",
       "    <tr style=\"text-align: right;\">\n",
       "      <th></th>\n",
       "      <th>classification</th>\n",
       "      <th>binary_class</th>\n",
       "      <th>text</th>\n",
       "      <th>cleaned_text</th>\n",
       "      <th>tokenized</th>\n",
       "    </tr>\n",
       "  </thead>\n",
       "  <tbody>\n",
       "    <tr>\n",
       "      <th>0</th>\n",
       "      <td>relevant</td>\n",
       "      <td>1</td>\n",
       "      <td>Sun, Sand And Sewage: Report Shows Many U.S. B...</td>\n",
       "      <td>sun sand and sewage report shows many us beach...</td>\n",
       "      <td>[sun, sand, and, sewage, report, shows, many, ...</td>\n",
       "    </tr>\n",
       "    <tr>\n",
       "      <th>1</th>\n",
       "      <td>relevant</td>\n",
       "      <td>1</td>\n",
       "      <td>Many U.S. Beaches Are Unsafe For Swimming, Rep...</td>\n",
       "      <td>many us beaches are unsafe for swimming report...</td>\n",
       "      <td>[many, us, beaches, are, unsafe, for, swimming...</td>\n",
       "    </tr>\n",
       "    <tr>\n",
       "      <th>2</th>\n",
       "      <td>relevant</td>\n",
       "      <td>1</td>\n",
       "      <td>Many U.S. Beaches Are Unsafe For Swimming, Rep...</td>\n",
       "      <td>many us beaches are unsafe for swimming report...</td>\n",
       "      <td>[many, us, beaches, are, unsafe, for, swimming...</td>\n",
       "    </tr>\n",
       "    <tr>\n",
       "      <th>3</th>\n",
       "      <td>relevant</td>\n",
       "      <td>1</td>\n",
       "      <td>Sun, Sand And Sewage: Report Shows Many U.S. B...</td>\n",
       "      <td>sun sand and sewage report shows many us beach...</td>\n",
       "      <td>[sun, sand, and, sewage, report, shows, many, ...</td>\n",
       "    </tr>\n",
       "    <tr>\n",
       "      <th>4</th>\n",
       "      <td>relevant</td>\n",
       "      <td>1</td>\n",
       "      <td>Sun, Sand And Sewage: Report Shows Many U.S. B...</td>\n",
       "      <td>sun sand and sewage report shows many us beach...</td>\n",
       "      <td>[sun, sand, and, sewage, report, shows, many, ...</td>\n",
       "    </tr>\n",
       "  </tbody>\n",
       "</table>\n",
       "</div>"
      ],
      "text/plain": [
       "  classification  binary_class  \\\n",
       "0       relevant             1   \n",
       "1       relevant             1   \n",
       "2       relevant             1   \n",
       "3       relevant             1   \n",
       "4       relevant             1   \n",
       "\n",
       "                                                text  \\\n",
       "0  Sun, Sand And Sewage: Report Shows Many U.S. B...   \n",
       "1  Many U.S. Beaches Are Unsafe For Swimming, Rep...   \n",
       "2  Many U.S. Beaches Are Unsafe For Swimming, Rep...   \n",
       "3  Sun, Sand And Sewage: Report Shows Many U.S. B...   \n",
       "4  Sun, Sand And Sewage: Report Shows Many U.S. B...   \n",
       "\n",
       "                                        cleaned_text  \\\n",
       "0  sun sand and sewage report shows many us beach...   \n",
       "1  many us beaches are unsafe for swimming report...   \n",
       "2  many us beaches are unsafe for swimming report...   \n",
       "3  sun sand and sewage report shows many us beach...   \n",
       "4  sun sand and sewage report shows many us beach...   \n",
       "\n",
       "                                           tokenized  \n",
       "0  [sun, sand, and, sewage, report, shows, many, ...  \n",
       "1  [many, us, beaches, are, unsafe, for, swimming...  \n",
       "2  [many, us, beaches, are, unsafe, for, swimming...  \n",
       "3  [sun, sand, and, sewage, report, shows, many, ...  \n",
       "4  [sun, sand, and, sewage, report, shows, many, ...  "
      ]
     },
     "execution_count": 6,
     "metadata": {},
     "output_type": "execute_result"
    }
   ],
   "source": [
    "re_tok = re.compile(f'([{string.punctuation}“”¨«»®´·º½¾¿¡§£₤‘’])')\n",
    "\n",
    "def tokenize(s): \n",
    "    return re_tok.sub(r' \\1 ', s).split()\n",
    "\n",
    "df['tokenized'] = df['cleaned_text'].apply(lambda row: tokenize(row))\n",
    "df.head()"
   ]
  },
  {
   "cell_type": "code",
   "execution_count": 7,
   "metadata": {},
   "outputs": [
    {
     "name": "stdout",
     "output_type": "stream",
     "text": [
      "62688\n"
     ]
    },
    {
     "data": {
      "text/html": [
       "<div>\n",
       "<style scoped>\n",
       "    .dataframe tbody tr th:only-of-type {\n",
       "        vertical-align: middle;\n",
       "    }\n",
       "\n",
       "    .dataframe tbody tr th {\n",
       "        vertical-align: top;\n",
       "    }\n",
       "\n",
       "    .dataframe thead th {\n",
       "        text-align: right;\n",
       "    }\n",
       "</style>\n",
       "<table border=\"1\" class=\"dataframe\">\n",
       "  <thead>\n",
       "    <tr style=\"text-align: right;\">\n",
       "      <th></th>\n",
       "      <th>classification</th>\n",
       "      <th>binary_class</th>\n",
       "      <th>text</th>\n",
       "      <th>cleaned_text</th>\n",
       "      <th>tokenized</th>\n",
       "    </tr>\n",
       "  </thead>\n",
       "  <tbody>\n",
       "    <tr>\n",
       "      <th>0</th>\n",
       "      <td>relevant</td>\n",
       "      <td>1</td>\n",
       "      <td>Sun, Sand And Sewage: Report Shows Many U.S. B...</td>\n",
       "      <td>sun sand and sewage report shows many us beach...</td>\n",
       "      <td>[sun, sand, and, sewage, report, shows, many, ...</td>\n",
       "    </tr>\n",
       "    <tr>\n",
       "      <th>1</th>\n",
       "      <td>relevant</td>\n",
       "      <td>1</td>\n",
       "      <td>Many U.S. Beaches Are Unsafe For Swimming, Rep...</td>\n",
       "      <td>many us beaches are unsafe for swimming report...</td>\n",
       "      <td>[many, us, beaches, are, unsafe, for, swimming...</td>\n",
       "    </tr>\n",
       "    <tr>\n",
       "      <th>2</th>\n",
       "      <td>relevant</td>\n",
       "      <td>1</td>\n",
       "      <td>Many U.S. Beaches Are Unsafe For Swimming, Rep...</td>\n",
       "      <td>many us beaches are unsafe for swimming report...</td>\n",
       "      <td>[many, us, beaches, are, unsafe, for, swimming...</td>\n",
       "    </tr>\n",
       "    <tr>\n",
       "      <th>3</th>\n",
       "      <td>relevant</td>\n",
       "      <td>1</td>\n",
       "      <td>Sun, Sand And Sewage: Report Shows Many U.S. B...</td>\n",
       "      <td>sun sand and sewage report shows many us beach...</td>\n",
       "      <td>[sun, sand, and, sewage, report, shows, many, ...</td>\n",
       "    </tr>\n",
       "    <tr>\n",
       "      <th>4</th>\n",
       "      <td>relevant</td>\n",
       "      <td>1</td>\n",
       "      <td>Thanks, EPA.\\n\\nSun, Sand And Sewage: Report S...</td>\n",
       "      <td>thanks epa sun sand and sewage report shows ma...</td>\n",
       "      <td>[thanks, epa, sun, sand, and, sewage, report, ...</td>\n",
       "    </tr>\n",
       "  </tbody>\n",
       "</table>\n",
       "</div>"
      ],
      "text/plain": [
       "  classification  binary_class  \\\n",
       "0       relevant             1   \n",
       "1       relevant             1   \n",
       "2       relevant             1   \n",
       "3       relevant             1   \n",
       "4       relevant             1   \n",
       "\n",
       "                                                text  \\\n",
       "0  Sun, Sand And Sewage: Report Shows Many U.S. B...   \n",
       "1  Many U.S. Beaches Are Unsafe For Swimming, Rep...   \n",
       "2  Many U.S. Beaches Are Unsafe For Swimming, Rep...   \n",
       "3  Sun, Sand And Sewage: Report Shows Many U.S. B...   \n",
       "4  Thanks, EPA.\\n\\nSun, Sand And Sewage: Report S...   \n",
       "\n",
       "                                        cleaned_text  \\\n",
       "0  sun sand and sewage report shows many us beach...   \n",
       "1  many us beaches are unsafe for swimming report...   \n",
       "2  many us beaches are unsafe for swimming report...   \n",
       "3  sun sand and sewage report shows many us beach...   \n",
       "4  thanks epa sun sand and sewage report shows ma...   \n",
       "\n",
       "                                           tokenized  \n",
       "0  [sun, sand, and, sewage, report, shows, many, ...  \n",
       "1  [many, us, beaches, are, unsafe, for, swimming...  \n",
       "2  [many, us, beaches, are, unsafe, for, swimming...  \n",
       "3  [sun, sand, and, sewage, report, shows, many, ...  \n",
       "4  [thanks, epa, sun, sand, and, sewage, report, ...  "
      ]
     },
     "execution_count": 7,
     "metadata": {},
     "output_type": "execute_result"
    }
   ],
   "source": [
    "df = df.drop_duplicates(subset = ['cleaned_text']).reset_index()\n",
    "df = df.iloc[:, 1:]\n",
    "print(len(df))\n",
    "df.head()"
   ]
  },
  {
   "cell_type": "code",
   "execution_count": 8,
   "metadata": {},
   "outputs": [],
   "source": [
    "from nltk.corpus import stopwords"
   ]
  },
  {
   "cell_type": "code",
   "execution_count": 9,
   "metadata": {},
   "outputs": [],
   "source": [
    "import collections\n",
    "stop = set(stopwords.words('english'))\n",
    "stop.update(['amp', 'rt', 'cc'])\n",
    "stop = stop - set(['no', 'not'])\n",
    "\n",
    "def remove_stopwords(row):\n",
    "    return [t for t in row if t not in stop]\n",
    "\n",
    "df['tokenized'] = df['tokenized'].apply(lambda row: remove_stopwords(row))\n",
    "\n",
    "df = df[['classification', 'binary_class', 'text', 'tokenized']]\n",
    "vocab_counter = collections.Counter()"
   ]
  },
  {
   "cell_type": "code",
   "execution_count": 10,
   "metadata": {},
   "outputs": [
    {
     "name": "stdout",
     "output_type": "stream",
     "text": [
      "<class 'list'>\n"
     ]
    },
    {
     "data": {
      "text/plain": [
       "['sun', 'sand']"
      ]
     },
     "execution_count": 10,
     "metadata": {},
     "output_type": "execute_result"
    }
   ],
   "source": [
    "tokens = np.array(df['tokenized']).reshape(-1, 1)\n",
    "words = []\n",
    "for i in range(len(tokens)):\n",
    "    tweet = tokens[i]\n",
    "    for j in range(len(tweet)):\n",
    "        new_word = tweet[j]\n",
    "        words.append(new_word)\n",
    "\n",
    "print(type(words))\n",
    "indivs = []\n",
    "for tweet in range(len(words)):\n",
    "    t = words[tweet]\n",
    "    for j in range(len(t)):\n",
    "        indivs.append(t[j])\n",
    "indivs[:2]"
   ]
  },
  {
   "cell_type": "code",
   "execution_count": 11,
   "metadata": {},
   "outputs": [
    {
     "name": "stdout",
     "output_type": "stream",
     "text": [
      "10001\n"
     ]
    }
   ],
   "source": [
    "vocabulary_size = 10000\n",
    "from collections import Counter\n",
    "\n",
    "# UNK = unknown words, HST = hashtag, EMT = emoticon, URL is self-explanatory, THDL = Twitter handle\n",
    "vocabulary = [(\"<UNK>\", None)] + [(\"<PAD>\", None)] + Counter(indivs).most_common(vocabulary_size - 1)\n",
    "vocabulary = np.array([word for word, _ in vocabulary])\n",
    "dictionary = {word: code for code, word in enumerate(vocabulary)}\n",
    "data = np.array([dictionary.get(word, 0) for word in indivs])\n",
    "print(len(vocabulary))\n",
    "#print(len(data))"
   ]
  },
  {
   "cell_type": "code",
   "execution_count": 12,
   "metadata": {},
   "outputs": [
    {
     "name": "stdout",
     "output_type": "stream",
     "text": [
      "53 0 13.877185426237876\n"
     ]
    }
   ],
   "source": [
    "lengths = df['tokenized'].apply(lambda x: len(x))\n",
    "print(max(lengths), min(lengths), np.mean(lengths))"
   ]
  },
  {
   "cell_type": "code",
   "execution_count": 13,
   "metadata": {},
   "outputs": [],
   "source": [
    "word_to_id = {w:i for i, w in enumerate(vocabulary[:25000])}"
   ]
  },
  {
   "cell_type": "code",
   "execution_count": 17,
   "metadata": {},
   "outputs": [
    {
     "name": "stdout",
     "output_type": "stream",
     "text": [
      "<class 'dict'>\n",
      "{'<UNK>': 0, '<PAD>': 1, 'water': 2, 'not': 3, 'flood': 4, 'flash': 5, 'like': 6, 'no': 7, 'oil': 8, 'spill': 9, 'im': 10, 'people': 11, 'dont': 12, 'one': 13, 'warning': 14, 'get': 15, 'know': 16, 'time': 17, 'pm': 18, 'would': 19, 'contamination': 20, 'drought': 21, 'watch': 22, 'us': 23, 'see': 24, 'think': 25, 'good': 26, 'even': 27, 'still': 28, 'go': 29, 'well': 30, 'thats': 31, 'love': 32, 'want': 33, 'county': 34, 'much': 35, 'back': 36, 'could': 37, 'really': 38, 'also': 39, 'make': 40, 'de': 41, 'sanitation': 42, 'algae': 43, 'got': 44, 'drinking': 45, 'going': 46, 'way': 47, 'new': 48, 'cant': 49, 'right': 50, 'said': 51, 'never': 52, 'waste': 53, 'today': 54, 'bloom': 55, 'say': 56, 'take': 57, 'work': 58, 'day': 59, 'years': 60, 'first': 61, 'youre': 62, 'please': 63, 'need': 64, 'many': 65, 'via': 66, 'que': 67, 'didnt': 68, 'issued': 69, 'last': 70, 'look': 71, 'life': 72, 'sewage': 73, 'july': 74, 'rain': 75, 'clean': 76, 'help': 77, 'cdt': 78, 'trump': 79, 'great': 80, 'year': 81, 'la': 82, 'better': 83, 'use': 84, 'news': 85, 'every': 86, 'ive': 87, 'area': 88, 'always': 89, 'lake': 90, 'world': 91, 'man': 92, 'around': 93, 'come': 94, 'something': 95, 'made': 96, 'nws': 97, 'best': 98, 'flooding': 99, 'weather': 100, 'shit': 101, 'two': 102, 'may': 103, 'someone': 104, 'leak': 105, 'due': 106, 'doesnt': 107, 'bad': 108, 'oh': 109, 'sure': 110, 'thing': 111, 'food': 112, 'feel': 113, 'effect': 114, 'stop': 115, 'city': 116, 'things': 117, 'pipe': 118, 'big': 119, 'keep': 120, 'edt': 121, 'ever': 122, 'theres': 123, 'since': 124, 'lol': 125, 'god': 126, 'read': 127, 'another': 128, 'live': 129, 'river': 130, 'ecoli': 131, 'getting': 132, 'yes': 133, 'though': 134, 'ok': 135, 'says': 136, 'health': 137, 'next': 138, 'home': 139, 'country': 140, 'lot': 141, 'put': 142, 'state': 143, 'done': 144, 'money': 145, 'without': 146, 'e': 147, 'tell': 148, 'ill': 149, 'hope': 150, 'let': 151, 'nothing': 152, 'little': 153, 'give': 154, 'find': 155, 'everyone': 156, 'care': 157, 'thought': 158, 'actually': 159, 'week': 160, 'gonna': 161, 'flashflood': 162, 'used': 163, 'already': 164, 'issues': 165, 'anything': 166, 'toxic': 167, 'theyre': 168, 'long': 169, 'morning': 170, 'away': 171, 'public': 172, 'million': 173, 'person': 174, 'real': 175, 'show': 176, 'thank': 177, 'cause': 178, 'days': 179, 'areas': 180, 'call': 181, 'high': 182, 'continues': 183, 'alert': 184, 'change': 185, 'school': 186, 'part': 187, 'trying': 188, 'anyone': 189, 'safe': 190, 'old': 191, 'enough': 192, 'isnt': 193, 'heavy': 194, 'possible': 195, 'fuck': 196, 'point': 197, 'place': 198, 'thanks': 199, 'end': 200, 'free': 201, 'support': 202, 'white': 203, 'gt': 204, 'california': 205, 'happy': 206, 'maybe': 207, 'left': 208, 'system': 209, 'mean': 210, 'hard': 211, 'everything': 212, 'night': 213, 'must': 214, 'saying': 215, 'told': 216, 'start': 217, 'south': 218, 'found': 219, 'hate': 220, 'problem': 221, 'eu': 222, 'climate': 223, 'times': 224, 'near': 225, 'might': 226, 'wrong': 227, 'kids': 228, 'th': 229, 'looking': 230, 'children': 231, 'including': 232, 'full': 233, 'remember': 234, 'yet': 235, 'making': 236, 'believe': 237, 'story': 238, 'road': 239, 'w': 240, 'st': 241, 'across': 242, 'wont': 243, 'needs': 244, 'government': 245, 'coming': 246, 'team': 247, 'try': 248, 'makes': 249, 'family': 250, 'game': 251, 'house': 252, 'human': 253, 'job': 254, 'access': 255, 'learn': 256, 'beach': 257, 'friends': 258, 'co': 259, 'ago': 260, 'black': 261, 'talking': 262, 'check': 263, 'top': 264, 'n': 265, 'seen': 266, 'report': 267, 'least': 268, 'video': 269, 'went': 270, 'play': 271, 'national': 272, 'yeah': 273, 'stay': 274, 'environment': 275, 'bc': 276, 'service': 277, 'power': 278, 'post': 279, 'hours': 280, 'en': 281, 'different': 282, 'looks': 283, 'se': 284, 'understand': 285, 'pay': 286, 'far': 287, 'fucking': 288, 'hot': 289, 'pfas': 290, 'wait': 291, 'jul': 292, 'talk': 293, 'whats': 294, 'summer': 295, 'using': 296, 'issue': 297, 'working': 298, 'racist': 299, 'whole': 300, 'called': 301, 'guy': 302, 'ass': 303, 'tonight': 304, 'id': 305, 'literally': 306, 'chemical': 307, 'closed': 308, 'storm': 309, 'groundwater': 310, 'beaches': 311, 'counties': 312, 'india': 313, 'wasnt': 314, 'president': 315, 'chevron': 316, 'lets': 317, 'local': 318, 'tweet': 319, 'media': 320, 'hit': 321, 'sorry': 322, 'risk': 323, 'tuesday': 324, 'name': 325, 'guys': 326, 'saw': 327, 'came': 328, 'women': 329, 'supply': 330, 'gulf': 331, 'ask': 332, 'girl': 333, 'company': 334, 'warnings': 335, 'fact': 336, 'twitter': 337, 'else': 338, 'probably': 339, 'less': 340, 'soon': 341, 'reports': 342, 'drink': 343, 'reason': 344, 'na': 345, 'el': 346, 'pretty': 347, 'face': 348, 'hell': 349, 'started': 350, 'etc': 351, 'monday': 352, 'true': 353, 'others': 354, 'rainfall': 355, 'ms': 356, 'emergency': 357, 'close': 358, 'along': 359, 'coast': 360, 'north': 361, 'barry': 362, 'leave': 363, 'treatment': 364, 'gallons': 365, 'crisis': 366, 'business': 367, 'fun': 368, 'head': 369, 'open': 370, 'central': 371, 'nice': 372, 'matter': 373, 'kind': 374, 'gets': 375, 'friend': 376, 'sea': 377, 'run': 378, 'save': 379, 'update': 380, 'severe': 381, 'fire': 382, 'follow': 383, 'taking': 384, 'wants': 385, 'major': 386, 'important': 387, 'gas': 388, 'environmental': 389, 'car': 390, 'hear': 391, 'line': 392, 'affected': 393, 'able': 394, 'turn': 395, 'comes': 396, 'hour': 397, 'means': 398, 'bring': 399, 'wanted': 400, 'thinking': 401, 'happened': 402, 'response': 403, 'poor': 404, 'wouldnt': 405, 'almost': 406, 'idea': 407, 'heat': 408, 'ground': 409, 'running': 410, 'instead': 411, 'wanna': 412, 'goes': 413, 'bit': 414, 'dead': 415, 'k': 416, 'lost': 417, 'took': 418, 'parts': 419, 'small': 420, 'park': 421, 'living': 422, 'asked': 423, 'case': 424, 'damn': 425, 'mind': 426, 'massive': 427, 'community': 428, 'party': 429, 'seems': 430, 'energy': 431, 'amazing': 432, 'buy': 433, 'america': 434, 'die': 435, 'august': 436, 'caused': 437, 'red': 438, 'wish': 439, 'months': 440, 'southern': 441, 'phone': 442, 'past': 443, 'tomorrow': 444, 'following': 445, 'future': 446, 'deal': 447, 'together': 448, 'west': 449, 'guess': 450, 'air': 451, 'weeks': 452, 'hey': 453, 'oilspill': 454, 'land': 455, 'arent': 456, 'season': 457, 'plan': 458, 'da': 459, 'sad': 460, 'watermanagement': 461, 'heart': 462, 'gave': 463, 'either': 464, 'stuff': 465, 'plastic': 466, 'shows': 467, 'level': 468, 'huge': 469, 'body': 470, 'latest': 471, 'residents': 472, 'baby': 473, 'likely': 474, 'side': 475, 'eat': 476, 'green': 477, 'quality': 478, 'drive': 479, 'social': 480, 'list': 481, 'message': 482, 'control': 483, 'watching': 484, 'mom': 485, 'men': 486, 'gone': 487, 'states': 488, 'mississippi': 489, 'ready': 490, 'management': 491, 'law': 492, 'knew': 493, 'single': 494, 'ya': 495, 'dog': 496, 'win': 497, 'east': 498, 'wash': 499, 'move': 500, 'action': 501, 'levels': 502, 'woman': 503, 'playing': 504, 'ocean': 505, 'half': 506, 'late': 507, 'american': 508, 'island': 509, 'especially': 510, 'situation': 511, 'continue': 512, 'month': 513, 'climatechange': 514, 'question': 515, 'roads': 516, 'send': 517, 'yesterday': 518, 'group': 519, 'heard': 520, 'evening': 521, 'communities': 522, 'later': 523, 'services': 524, 'knows': 525, 'street': 526, 'aint': 527, 'b': 528, 'beautiful': 529, 'order': 530, 'become': 531, 'happen': 532, 'history': 533, 'ones': 534, 'kern': 535, 'worse': 536, 'police': 537, 'music': 538, 'fine': 539, 'spills': 540, 'damage': 541, 'havent': 542, 'main': 543, 'hi': 544, 'worst': 545, 'swimming': 546, 'fix': 547, 'minutes': 548, 'hand': 549, 'information': 550, 'miss': 551, 'al': 552, 'agree': 553, 'afternoon': 554, 'remains': 555, 'exactly': 556, 'site': 557, 'course': 558, 'chance': 559, 'un': 560, 'crazy': 561, 'act': 562, 'needed': 563, 'sunday': 564, 'provide': 565, 'closure': 566, 'rest': 567, 'office': 568, 'lmao': 569, 'early': 570, 'set': 571, 'per': 572, 'industry': 573, 'hair': 574, 'flooded': 575, 'bitch': 576, 'baltimore': 577, 'lives': 578, 'funny': 579, 'vote': 580, 'sir': 581, 'threat': 582, 'large': 583, 'alertgt': 584, 'protect': 585, 'project': 586, 'child': 587, 'event': 588, 'floods': 589, 'entire': 590, 'heres': 591, 'room': 592, 'fight': 593, 'biggest': 594, 'wednesday': 595, 'cool': 596, 'infrastructure': 597, 'three': 598, 'em': 599, 'safety': 600, 'clear': 601, 'listen': 602, 'shut': 603, 'book': 604, 'definitely': 605, 'ar': 606, 'sense': 607, 'break': 608, 'words': 609, 'storms': 610, 'behind': 611, 'girls': 612, 'seeing': 613, 'asking': 614, 'lack': 615, 'song': 616, 'son': 617, 'sick': 618, 'imagine': 619, 'spilled': 620, 'number': 621, 'mdt': 622, 'given': 623, 'stupid': 624, 'conditions': 625, 'wow': 626, 'systems': 627, 'share': 628, 'account': 629, 'nearly': 630, 'sleep': 631, 'sometimes': 632, 'second': 633, 'low': 634, 'movie': 635, 'source': 636, 'tried': 637, 'several': 638, 'include': 639, 'moment': 640, 'por': 641, 'visit': 642, 'hands': 643, 'x': 644, 'alone': 645, 'blue': 646, 'uk': 647, 'whatever': 648, 'wonder': 649, 'bill': 650, 'record': 651, 'plant': 652, 'giving': 653, 'mad': 654, 'building': 655, 'young': 656, 'study': 657, 'bottle': 658, 'basic': 659, 'taken': 660, 'serious': 661, 'rather': 662, 'meet': 663, 'article': 664, 'link': 665, 'global': 666, 'couldnt': 667, 'los': 668, 'cut': 669, 'research': 670, 'available': 671, 'waters': 672, 'cities': 673, 'town': 674, 'development': 675, 'fan': 676, 'hygiene': 677, 'rivers': 678, 'feeling': 679, 'natural': 680, 'avoid': 681, 'data': 682, 'within': 683, 'officials': 684, 'q': 685, 'expected': 686, 'lead': 687, 'largest': 688, 'experience': 689, 'boy': 690, 'rights': 691, 'c': 692, 'front': 693, 'truth': 694, 'problems': 695, 'idk': 696, 'waiting': 697, 'age': 698, 'valley': 699, 'outside': 700, 'attention': 701, 'cute': 702, 'contaminated': 703, 'pollution': 704, 'erie': 705, 'finally': 706, 'impact': 707, 'es': 708, 'harmful': 709, 'inches': 710, 'direct': 711, 'yo': 712, 'info': 713, 'kill': 714, 'works': 715, 'potential': 716, 'killed': 717, 'mine': 718, 'disaster': 719, 'stand': 720, 'excited': 721, 'moving': 722, 'daily': 723, 'com': 724, 'games': 725, 'reported': 726, 'dangerous': 727, 'thursday': 728, 'drop': 729, 'based': 730, 'deep': 731, 'sent': 732, 'worth': 733, 'youve': 734, 'weekend': 735, 'met': 736, 'para': 737, 'super': 738, 'military': 739, 'gun': 740, 'causing': 741, 'telling': 742, 'parents': 743, 'space': 744, 'tropical': 745, 'takes': 746, 'death': 747, 'portions': 748, 'plants': 749, 'word': 750, 'glad': 751, 'bro': 752, 'calling': 753, 'notice': 754, 'fish': 755, 'class': 756, 'war': 757, 'amount': 758, 'ca': 759, 'resources': 760, 'advisory': 761, 'pa': 762, 'often': 763, 'whos': 764, 'gotta': 765, 'join': 766, 'jobs': 767, 'fresh': 768, 'couple': 769, 'arkansas': 770, 'education': 771, 'department': 772, 'arwx': 773, 'plus': 774, 'happens': 775, 'lots': 776, 'security': 777, 'absolutely': 778, 'western': 779, 'eyes': 780, 'contact': 781, 'questions': 782, 'lie': 783, 'currently': 784, 'proud': 785, 'san': 786, 'fans': 787, 'speak': 788, 'stream': 789, 'forget': 790, 'northern': 791, 'earth': 792, 'inside': 793, 'honestly': 794, 'easy': 795, 'countries': 796, 'saturday': 797, 'expect': 798, 'light': 799, 'seem': 800, 'dry': 801, 'middle': 802, 'um': 803, 'tax': 804, 'political': 805, 'district': 806, 'television': 807, 'cannot': 808, 'pipeline': 809, 'bed': 810, 'add': 811, 'known': 812, 'current': 813, 'result': 814, 'canyon': 815, 'forward': 816, 'cost': 817, 'chennai': 818, 'recent': 819, 'l': 820, 'photo': 821, 'litres': 822, 'weve': 823, 'cold': 824, 'science': 825, 'shouldnt': 826, 'according': 827, 'rd': 828, 'favorite': 829, 'cleaning': 830, 'nation': 831, 'chemicals': 832, 'dude': 833, 'strong': 834, 'straight': 835, 'places': 836, 'normal': 837, 'type': 838, 'sa': 839, 'enjoy': 840, 'dream': 841, 'hold': 842, 'fake': 843, 'felt': 844, 'aug': 845, 'art': 846, 'private': 847, 'process': 848, 'lo': 849, 'looked': 850, 'companies': 851, 'africa': 852, 'democrats': 853, 'region': 854, 'fast': 855, 'mi': 856, 'americans': 857, 'seriously': 858, 'reading': 859, 'app': 860, 'turned': 861, 'self': 862, 'dad': 863, 'deserve': 864, 'fall': 865, 'short': 866, 'supposed': 867, 'con': 868, 'kid': 869, 'ice': 870, 'toilet': 871, 'sun': 872, 'sound': 873, 'quite': 874, 'eating': 875, 'locations': 876, 'bay': 877, 'millions': 878, 'diesel': 879, 'train': 880, 'common': 881, 'youll': 882, 'anymore': 883, 'te': 884, 'usa': 885, 'canada': 886, 'bluegreen': 887, 'mexico': 888, 'step': 889, 'obama': 890, 'changed': 891, 'farmers': 892, 'hurt': 893, 'market': 894, 'date': 895, 'nd': 896, 'le': 897, 'perfect': 898, 'thunderstorms': 899, 'details': 900, 'picture': 901, 'general': 902, 'p': 903, 'mother': 904, 'ways': 905, 'build': 906, 'awesome': 907, 'population': 908, 'lies': 909, 'tap': 910, 'meeting': 911, 'walk': 912, 'sign': 913, 'blame': 914, 'billion': 915, 'schools': 916, 'test': 917, 'trust': 918, 'paid': 919, 'sounds': 920, 'h': 921, 'create': 922, 'unless': 923, 'pool': 924, 'solution': 925, 'answer': 926, 'lt': 927, 'however': 928, 'store': 929, 'opinion': 930, 'online': 931, 'caught': 932, 'responsible': 933, 'govt': 934, 'higher': 935, 'ny': 936, 'updates': 937, 'platform': 938, 'address': 939, 'cleanup': 940, 'production': 941, 'birthday': 942, 'happening': 943, 'jesus': 944, 'recently': 945, 'towards': 946, 'technology': 947, 'longer': 948, 'citizens': 949, 'pra': 950, 'actual': 951, 'five': 952, 'none': 953, 'campaign': 954, 'di': 955, 'completely': 956, 'respect': 957, 'skin': 958, 'tweets': 959, 'starting': 960, 'weird': 961, 'training': 962, 'cover': 963, 'allowed': 964, 'patagonia': 965, 'nj': 966, 'nobody': 967, 'died': 968, 'missing': 969, 'friday': 970, 'meant': 971, 'loved': 972, 'raw': 973, 'florida': 974, 'joke': 975, 'posted': 976, 'four': 977, 'smart': 978, 'worked': 979, 'born': 980, 'trash': 981, 'pass': 982, 'interesting': 983, 'decades': 984, 'kinda': 985, 'force': 986, 'tired': 987, 'thousands': 988, 'earlier': 989, 'played': 990, 'medical': 991, 'despite': 992, 'mr': 993, 'form': 994, 'causes': 995, 'washington': 996, 'center': 997, 'stopped': 998, 'soil': 999, 'totally': 1000, 'folks': 1001, 'key': 1002, 'policy': 1003, 'thunderstorm': 1004, 'dc': 1005, 'proper': 1006, 'vs': 1007, 'block': 1008, 'lakes': 1009, 'lying': 1010, 'forever': 1011, 'fair': 1012, 'pain': 1013, 'facilities': 1014, 'special': 1015, 'paper': 1016, 'mention': 1017, 'realize': 1018, 'example': 1019, 'united': 1020, 'race': 1021, 'series': 1022, 'photos': 1023, 'f': 1024, 'wife': 1025, 'concern': 1026, 'improve': 1027, 'prevent': 1028, 'putting': 1029, 'comment': 1030, 'scene': 1031, 'treated': 1032, 'mais': 1033, 'round': 1034, 'minister': 1035, 'treat': 1036, 'spend': 1037, 'character': 1038, 'boys': 1039, 'jackson': 1040, 'feet': 1041, 'anyway': 1042, 'las': 1043, 'economy': 1044, 'dumb': 1045, 'members': 1046, 'forecast': 1047, 'wells': 1048, 'brought': 1049, 'rural': 1050, 'chile': 1051, 'grow': 1052, 'cancer': 1053, 'results': 1054, 'racism': 1055, 'traffic': 1056, 'spent': 1057, 'shame': 1058, 'paying': 1059, 'products': 1060, 'supplies': 1061, 'rains': 1062, 'ne': 1063, 'lower': 1064, 'track': 1065, 'az': 1066, 'federal': 1067, 'hospital': 1068, 'helping': 1069, 'door': 1070, 'haha': 1071, 'kept': 1072, 'hibernia': 1073, 'fighting': 1074, 'certain': 1075, 'tornado': 1076, 'view': 1077, 'choose': 1078, 'louisiana': 1079, 'listening': 1080, 'nature': 1081, 'electricity': 1082, 'brother': 1083, 'wear': 1084, 'mess': 1085, 'extreme': 1086, 'radar': 1087, 'sudan': 1088, 'ahead': 1089, 'dr': 1090, 'club': 1091, 'leaking': 1092, 'thinks': 1093, 'zero': 1094, 'animals': 1095, 'congress': 1096, 'personal': 1097, 'creek': 1098, 'rock': 1099, 'simple': 1100, 'multiple': 1101, 'total': 1102, 'release': 1103, 'growing': 1104, 'fuel': 1105, 'facts': 1106, 'brain': 1107, 'bottled': 1108, 'sex': 1109, 'episode': 1110, 'difference': 1111, 'remain': 1112, 'wind': 1113, 'scared': 1114, 'ensure': 1115, 'clearly': 1116, 'eye': 1117, 'watched': 1118, 'piece': 1119, 'sources': 1120, 'court': 1121, 'miles': 1122, 'color': 1123, 'families': 1124, 'ko': 1125, 'feels': 1126, 'crude': 1127, 'bought': 1128, 'players': 1129, 'truly': 1130, 'allow': 1131, 'choice': 1132, 'focus': 1133, 'tanker': 1134, 'leader': 1135, 'beyond': 1136, 'mass': 1137, 'crying': 1138, 'cuz': 1139, 'pick': 1140, 'whether': 1141, 'simply': 1142, 'released': 1143, 'laws': 1144, 'created': 1145, 'travel': 1146, 'village': 1147, 'students': 1148, 'salt': 1149, 'usually': 1150, 'increase': 1151, 'flint': 1152, 'watercrisis': 1153, 'wake': 1154, 'official': 1155, 'aware': 1156, 'apparently': 1157, 'cry': 1158, 'camp': 1159, 'field': 1160, 'youd': 1161, 'marine': 1162, 'held': 1163, 'member': 1164, 'michigan': 1165, 'driving': 1166, 'si': 1167, 'como': 1168, 'todays': 1169, 'nigga': 1170, 'indian': 1171, 'pic': 1172, 'fear': 1173, 'trumps': 1174, 'j': 1175, 'father': 1176, 'workers': 1177, 'dear': 1178, 'program': 1179, 'nyc': 1180, 'catch': 1181, 'staff': 1182, 'cat': 1183, 'knowing': 1184, 'concerned': 1185, 'except': 1186, 'beat': 1187, 'honest': 1188, 'missed': 1189, 'australia': 1190, 'blood': 1191, 'shot': 1192, 'flow': 1193, 'dark': 1194, 'ha': 1195, 'surface': 1196, 'lose': 1197, 'voice': 1198, 'sell': 1199, 'among': 1200, 'disease': 1201, 'epa': 1202, 'worry': 1203, 'cars': 1204, 'border': 1205, 'related': 1206, 'nm': 1207, 'interested': 1208, 'claim': 1209, 'hasnt': 1210, 'brown': 1211, 'welcome': 1212, 'garbage': 1213, 'nuclear': 1214, 'smile': 1215, 'bts': 1216, 'attack': 1217, 'bigger': 1218, 'g': 1219, 'sites': 1220, 'star': 1221, 'content': 1222, 'throw': 1223, 'writing': 1224, 'healthy': 1225, 'updated': 1226, 'wall': 1227, 'efforts': 1228, 'killing': 1229, 'cup': 1230, 'decided': 1231, 'mswx': 1232, 'leaving': 1233, 'extra': 1234, 'busy': 1235, 'loves': 1236, 'blooms': 1237, 'adequate': 1238, 'eastern': 1239, 'coffee': 1240, 'spread': 1241, 'fallen': 1242, 'john': 1243, 'planet': 1244, 'dogs': 1245, 'college': 1246, 'farm': 1247, 'theyve': 1248, 'industrial': 1249, 'led': 1250, 'lines': 1251, 'humans': 1252, 'role': 1253, 'remove': 1254, 'helps': 1255, 'homes': 1256, 'station': 1257, 'click': 1258, 'significant': 1259, 'period': 1260, 'lawx': 1261, 'international': 1262, 'leading': 1263, 'reduce': 1264, 'violence': 1265, 'solutions': 1266, 'speaking': 1267, 'calls': 1268, 'mas': 1269, 'non': 1270, 'breaking': 1271, 'broken': 1272, 'forgot': 1273, 'dying': 1274, 'trees': 1275, 'showing': 1276, 'produce': 1277, 'explain': 1278, 'hai': 1279, 'mouth': 1280, 'failed': 1281, 'majority': 1282, 'sister': 1283, 'coal': 1284, 'ordered': 1285, 'dirty': 1286, 'disgusting': 1287, 'base': 1288, 'swim': 1289, 'bridge': 1290, 'bet': 1291, 'everyday': 1292, 'hello': 1293, 'sit': 1294, 'fracking': 1295, 'evidence': 1296, 'gay': 1297, 'election': 1298, 'concerns': 1299, 'china': 1300, 'everybody': 1301, 'everywhere': 1302, 'society': 1303, 'obviously': 1304, 'player': 1305, 'review': 1306, 'dumped': 1307, 'animal': 1308, 'holy': 1309, 'et': 1310, 'os': 1311, 'loss': 1312, 'stories': 1313, 'points': 1314, 'figure': 1315, 'learned': 1316, 'illegal': 1317, 'dan': 1318, 'likes': 1319, 'voted': 1320, 'worlds': 1321, 'amounts': 1322, 'built': 1323, 'streets': 1324, 'v': 1325, 'monsoon': 1326, 'gives': 1327, 'luck': 1328, 'pressure': 1329, 'present': 1330, 'glass': 1331, 'reply': 1332, 'hearing': 1333, 'drown': 1334, 'walking': 1335, 'page': 1336, 'value': 1337, 'english': 1338, 'projects': 1339, 'size': 1340, 'june': 1341, 'holding': 1342, 'cross': 1343, 'unfortunately': 1344, 'slow': 1345, 'das': 1346, 'floor': 1347, 'sweet': 1348, 'peace': 1349, 'website': 1350, 'challenge': 1351, 'queen': 1352, 'board': 1353, 'performance': 1354, 'justice': 1355, 'lucky': 1356, 'rich': 1357, 'scientists': 1358, 'agriculture': 1359, 'poverty': 1360, 'sdg': 1361, 'spring': 1362, 'consider': 1363, 'wildlife': 1364, 'broke': 1365, 'lord': 1366, 'bath': 1367, 'internet': 1368, 'similar': 1369, 'tea': 1370, 'dollars': 1371, 'crime': 1372, 'pipes': 1373, 'appreciate': 1374, 'dems': 1375, 'facing': 1376, 'wild': 1377, 'burst': 1378, 'stuck': 1379, 'union': 1380, 'changes': 1381, 'feed': 1382, 'university': 1383, 'accept': 1384, 'evil': 1385, 'healthcare': 1386, 'texas': 1387, 'mostly': 1388, 'minute': 1389, 'statement': 1390, 'basically': 1391, 'orange': 1392, 'planning': 1393, 'push': 1394, 'sitting': 1395, 'difficult': 1396, 'bottom': 1397, 'goal': 1398, 'hed': 1399, 'books': 1400, 'manager': 1401, 'bacteria': 1402, 'additional': 1403, 'immediately': 1404, 'shower': 1405, 'tu': 1406, 'handle': 1407, 'administration': 1408, 'del': 1409, 'complete': 1410, 'fit': 1411, 'tank': 1412, 'supporting': 1413, 'followers': 1414, 'giant': 1415, 'plenty': 1416, 'price': 1417, 'involved': 1418, 'army': 1419, 'acting': 1420, 'growth': 1421, 'testing': 1422, 'terrible': 1423, 'twice': 1424, 'doubt': 1425, 'groups': 1426, 'daughter': 1427, 'runoff': 1428, 'providing': 1429, 'box': 1430, 'videos': 1431, 'va': 1432, 'burn': 1433, 'urban': 1434, 'rn': 1435, 'radio': 1436, 'sharing': 1437, 'return': 1438, 'reach': 1439, 'album': 1440, 'passed': 1441, 'hole': 1442, 'learning': 1443, 'apply': 1444, 'algal': 1445, 'web': 1446, 'channel': 1447, 'pakistan': 1448, 'highway': 1449, 'events': 1450, 'property': 1451, 'reality': 1452, 'wet': 1453, 'standing': 1454, 'youtube': 1455, 'bunch': 1456, 'king': 1457, 'chicken': 1458, 'opportunity': 1459, 'remote': 1460, 'investigation': 1461, 'thread': 1462, 'kitchen': 1463, 'blocked': 1464, 'quick': 1465, 'montgomery': 1466, 'clark': 1467, 'flowing': 1468, 'protection': 1469, 'starts': 1470, 'grant': 1471, 'fully': 1472, 'horrible': 1473, 'carry': 1474, 'final': 1475, 'liters': 1476, 'film': 1477, 'cash': 1478, 'irrigation': 1479, 'showers': 1480, 'funding': 1481, 'researchers': 1482, 'perhaps': 1483, 'added': 1484, 'removed': 1485, 'beginning': 1486, 'ka': 1487, 'navy': 1488, 'forced': 1489, 'yrs': 1490, 'reasons': 1491, 'watches': 1492, 'moved': 1493, 'original': 1494, 'pictures': 1495, 'image': 1496, 'comments': 1497, 'primary': 1498, 'creating': 1499, 'keeps': 1500, 'bag': 1501, 'culture': 1502, 'table': 1503, 'van': 1504, 'budget': 1505, 'unsafe': 1506, 'hits': 1507, 'mn': 1508, 'jefferson': 1509, 'quickly': 1510, 'possibly': 1511, 'proof': 1512, 'term': 1513, 'positive': 1514, 'keeping': 1515, 'meu': 1516, 'gov': 1517, 'politics': 1518, 'theyll': 1519, 'buying': 1520, 'legal': 1521, 'email': 1522, 'card': 1523, 'pero': 1524, 'includes': 1525, 'ongoing': 1526, 'pro': 1527, 'affecting': 1528, 'cases': 1529, 'leaks': 1530, 'mining': 1531, 'spending': 1532, 'tells': 1533, 'offer': 1534, 'thoughts': 1535, 'filled': 1536, 'write': 1537, 'position': 1538, 'ser': 1539, 'woke': 1540, 'fell': 1541, 'rates': 1542, 'halt': 1543, 'model': 1544, 'milk': 1545, 'laughing': 1546, 'pure': 1547, 'housing': 1548, 'leadership': 1549, 'elected': 1550, 'constantly': 1551, 'relationship': 1552, 'trade': 1553, 'fund': 1554, 'polluted': 1555, 'abuse': 1556, 'waterpollution': 1557, 'republicans': 1558, 'tf': 1559, 'bar': 1560, 'bank': 1561, 'actions': 1562, 'extremely': 1563, 'spot': 1564, 'ran': 1565, 'peoples': 1566, 'uses': 1567, 'knowledge': 1568, 'apart': 1569, 'era': 1570, 'rate': 1571, 'sector': 1572, 'sustainable': 1573, 'mental': 1574, 'oxygen': 1575, 'losing': 1576, 'winning': 1577, 'soap': 1578, 'ball': 1579, 'uma': 1580, 'careful': 1581, 'werent': 1582, 'upon': 1583, 'valid': 1584, 'surprised': 1585, 'league': 1586, 'una': 1587, 'ah': 1588, 'blog': 1589, 'plans': 1590, 'sort': 1591, 'lady': 1592, 'france': 1593, 'bottles': 1594, 'meat': 1595, 'wins': 1596, 'wrote': 1597, 'tbh': 1598, 'york': 1599, 'tour': 1600, 'warm': 1601, 'pregnant': 1602, 'scary': 1603, 'md': 1604, 'fox': 1605, 'note': 1606, 'civil': 1607, 'discuss': 1608, 'runs': 1609, 'effects': 1610, 'trip': 1611, 'progress': 1612, 'rules': 1613, 'nah': 1614, 'customer': 1615, 'essential': 1616, 'camps': 1617, 'received': 1618, 'pray': 1619, 'band': 1620, 'cares': 1621, 'rescue': 1622, 'mo': 1623, 'begin': 1624, 'afraid': 1625, 'certainly': 1626, 'press': 1627, 'bihar': 1628, 'african': 1629, 'gop': 1630, 'construction': 1631, 'correct': 1632, 'diseases': 1633, 'cats': 1634, 'excessive': 1635, 'crews': 1636, 'prepared': 1637, 'excuse': 1638, 'garden': 1639, 'covered': 1640, 'wave': 1641, 'showed': 1642, 'ended': 1643, 'il': 1644, 'alive': 1645, 'design': 1646, 'advice': 1647, 'lovely': 1648, 'effort': 1649, 'highest': 1650, 'reporting': 1651, 'laugh': 1652, 'chicago': 1653, 'clothes': 1654, 'google': 1655, 'je': 1656, 'soul': 1657, 'credit': 1658, 'conservation': 1659, 'fixed': 1660, 'otherwise': 1661, 'fr': 1662, 'fed': 1663, 'easily': 1664, 'ignore': 1665, 'anywhere': 1666, 'purpose': 1667, 'mst': 1668, 'wed': 1669, 'drunk': 1670, 'confused': 1671, 'tiny': 1672, 'businesses': 1673, 'californias': 1674, 'smell': 1675, 'argument': 1676, 'repair': 1677, 'former': 1678, 'shop': 1679, 'poop': 1680, 'ki': 1681, 'loud': 1682, 'brings': 1683, 'cancels': 1684, 'falls': 1685, 'agency': 1686, 'fault': 1687, 'decision': 1688, 'horizon': 1689, 'shooting': 1690, 'wearing': 1691, 'decide': 1692, 'hoping': 1693, 'wi': 1694, 'confirmed': 1695, 'somewhere': 1696, 'danger': 1697, 'teams': 1698, 'worried': 1699, 'pertamina': 1700, 'ship': 1701, 'gallon': 1702, 'conference': 1703, 'required': 1704, 'leaders': 1705, 'touch': 1706, 'speech': 1707, 'guns': 1708, 'sewer': 1709, 'stick': 1710, 'fill': 1711, 'bodies': 1712, 'interview': 1713, 'jail': 1714, 'female': 1715, 'americas': 1716, 'yea': 1717, 'drainage': 1718, 'gotten': 1719, 'pull': 1720, 'ni': 1721, 'signs': 1722, 'although': 1723, 'helped': 1724, 'count': 1725, 'upset': 1726, 'standards': 1727, 'governor': 1728, 'basin': 1729, 'judge': 1730, 'married': 1731, 'emoji': 1732, 'ridiculous': 1733, 'increased': 1734, 'washing': 1735, 'orleans': 1736, 'code': 1737, 'underground': 1738, 'brexit': 1739, 'offshore': 1740, 'opening': 1741, 'charge': 1742, 'absolute': 1743, 'pristine': 1744, 'suffering': 1745, 'mark': 1746, 'expensive': 1747, 'politicians': 1748, 'ideas': 1749, 'depression': 1750, 'hazardous': 1751, 'smh': 1752, 'est': 1753, 'map': 1754, 'saving': 1755, 'sustainability': 1756, 'storage': 1757, 'lil': 1758, 'supporters': 1759, 'economic': 1760, 'benefits': 1761, 'double': 1762, 'ex': 1763, 'product': 1764, 'husband': 1765, 'liked': 1766, 'minha': 1767, 'london': 1768, 'crap': 1769, 'faces': 1770, 'affect': 1771, 'measures': 1772, 'incredible': 1773, 'ke': 1774, 'status': 1775, 'willing': 1776, 'third': 1777, 'relief': 1778, 'threatens': 1779, 'annoying': 1780, 'babies': 1781, 'changing': 1782, 'network': 1783, 'exxon': 1784, 'toilets': 1785, 'gold': 1786, 'republican': 1787, 'written': 1788, 'properly': 1789, 'finish': 1790, 'older': 1791, 'improved': 1792, 'talent': 1793, 'gente': 1794, 'sand': 1795, 'maintenance': 1796, 'islands': 1797, 'hotel': 1798, 'bout': 1799, 'impacts': 1800, 'saved': 1801, 'mix': 1802, 'personally': 1803, 'awful': 1804, 'specific': 1805, 'newsom': 1806, 'europe': 1807, 'abt': 1808, 'songs': 1809, 'taste': 1810, 'taxes': 1811, 'considering': 1812, 'extended': 1813, 'tree': 1814, 'tn': 1815, 'expires': 1816, 'talked': 1817, 'towns': 1818, 'turning': 1819, 'destroy': 1820, 'numbers': 1821, 'turns': 1822, 'newfoundland': 1823, 'nations': 1824, 'council': 1825, 'democrat': 1826, 'ho': 1827, 'solid': 1828, 'somebody': 1829, 'sleeping': 1830, 'ele': 1831, 'foot': 1832, 'warming': 1833, 'location': 1834, 'slowly': 1835, 'chief': 1836, 'boss': 1837, 'risks': 1838, 'approach': 1839, 'directly': 1840, 'wonderful': 1841, 'average': 1842, 'tech': 1843, 'soft': 1844, 'sold': 1845, 'decent': 1846, 'practice': 1847, 'tem': 1848, 'version': 1849, 'became': 1850, 'falling': 1851, 'greatest': 1852, 'hurricane': 1853, 'coastal': 1854, 'raise': 1855, 'onto': 1856, 'highly': 1857, 'spoke': 1858, 'exposed': 1859, 'facility': 1860, 'moon': 1861, 'career': 1862, 'considered': 1863, 'idiot': 1864, 'wheres': 1865, 'attempt': 1866, 'england': 1867, 'dam': 1868, 'greater': 1869, 'swear': 1870, 'dance': 1871, 'artist': 1872, 'raised': 1873, 'costs': 1874, 'conversation': 1875, 'festival': 1876, 'finished': 1877, 'debate': 1878, 'talks': 1879, 'voting': 1880, 'israel': 1881, 'plumbing': 1882, 'vai': 1883, 'drain': 1884, 'mobile': 1885, 'southwest': 1886, 'christian': 1887, 'coverage': 1888, 'lawrence': 1889, 'leaves': 1890, 'liberal': 1891, 'random': 1892, 'serve': 1893, 'victims': 1894, 'matters': 1895, 'james': 1896, 'houses': 1897, 'promise': 1898, 'isso': 1899, 'whose': 1900, 'ban': 1901, 'bs': 1902, 'corrupt': 1903, 'sis': 1904, 'hahaha': 1905, 'somehow': 1906, 'crimes': 1907, 'shall': 1908, 'prove': 1909, 'movies': 1910, 'ride': 1911, 'insurance': 1912, 'becoming': 1913, 'noon': 1914, 'torrential': 1915, 'wayne': 1916, 'rising': 1917, 'dropped': 1918, 'warned': 1919, 'text': 1920, 'mdwx': 1921, 'trouble': 1922, 'limited': 1923, 'demand': 1924, 'crops': 1925, 'wondering': 1926, 'chilean': 1927, 'democratic': 1928, 'russian': 1929, 'bernie': 1930, 'british': 1931, 'shell': 1932, 'ugly': 1933, 'realized': 1934, 'letting': 1935, 'success': 1936, 'popular': 1937, 'hopefully': 1938, 'throughout': 1939, 'extends': 1940, 'earthquake': 1941, 'producing': 1942, 'hundreds': 1943, 'angry': 1944, 'missouri': 1945, 'customers': 1946, 'bringing': 1947, 'dat': 1948, 'goals': 1949, 'finds': 1950, 'false': 1951, 'accident': 1952, 'david': 1953, 'lived': 1954, 'afford': 1955, 'student': 1956, 'option': 1957, 'director': 1958, 'aid': 1959, 'regardless': 1960, 'tickets': 1961, 'bullshit': 1962, 'church': 1963, 'howard': 1964, 'wide': 1965, 'tips': 1966, 'mile': 1967, 'springs': 1968, 'effective': 1969, 'beer': 1970, 'damaged': 1971, 'experts': 1972, 'shelter': 1973, 'weak': 1974, 'suffer': 1975, 'corruption': 1976, 'critical': 1977, 'indeed': 1978, 'tough': 1979, 'sports': 1980, 'teeth': 1981, 'mueller': 1982, 'views': 1983, 'sending': 1984, 'turnarounddontdrown': 1985, 'whenever': 1986, 'airport': 1987, 'upper': 1988, 'cleaned': 1989, 'bus': 1990, 'search': 1991, 'boat': 1992, 'forest': 1993, 'hill': 1994, 'ng': 1995, 'zone': 1996, 'pet': 1997, 'mayor': 1998, 'ends': 1999, 'stress': 2000, 'incident': 2001, 'homeless': 2002, 'unable': 2003, 'freedom': 2004, 'russia': 2005, 'sugar': 2006, 'prices': 2007, 'match': 2008, 'solve': 2009, 'rule': 2010, 'criminal': 2011, 'modi': 2012, 'dia': 2013, 'jersey': 2014, 'pas': 2015, 'rise': 2016, 'colorado': 2017, 'ohio': 2018, 'dump': 2019, 'active': 2020, 'exist': 2021, 'authorities': 2022, 'produced': 2023, 'locals': 2024, 'pride': 2025, 'cap': 2026, 'assessment': 2027, 'foreign': 2028, 'selling': 2029, 'teach': 2030, 'kick': 2031, 'finding': 2032, 'emotional': 2033, 'gender': 2034, 'tested': 2035, 'visible': 2036, 'stan': 2037, 'pop': 2038, 'opened': 2039, 'authority': 2040, 'range': 2041, 'closes': 2042, 'stage': 2043, 'analysis': 2044, 'tryna': 2045, 'parish': 2046, 'pour': 2047, 'excellent': 2048, 'movement': 2049, 'necessary': 2050, 'signed': 2051, 'empty': 2052, 'secret': 2053, 'loving': 2054, 'designed': 2055, 'challenges': 2056, 'bills': 2057, 'nwscswas': 2058, 'muito': 2059, 'develop': 2060, 'washed': 2061, 'rare': 2062, 'six': 2063, 'sd': 2064, 'items': 2065, 'ps': 2066, 'strange': 2067, 'agreed': 2068, 'feelings': 2069, 'climatecrisis': 2070, 'pike': 2071, 'dealing': 2072, 'wisconsin': 2073, 'dallas': 2074, 'compared': 2075, 'enter': 2076, 'wouldve': 2077, 'rig': 2078, 'climateemergency': 2079, 'owner': 2080, 'insane': 2081, 'fat': 2082, 'harvesting': 2083, 'niggas': 2084, 'su': 2085, 'shoot': 2086, 'nearby': 2087, 'ending': 2088, 'download': 2089, 'charles': 2090, 'pennsylvania': 2091, 'alabama': 2092, 'route': 2093, 'section': 2094, 'monitor': 2095, 'owners': 2096, 'benefit': 2097, 'survive': 2098, 'began': 2099, 'nigeria': 2100, 'quiet': 2101, 'visited': 2102, 'understanding': 2103, 'pond': 2104, 'roll': 2105, 'solar': 2106, 'orders': 2107, 'lunch': 2108, 'language': 2109, 'interest': 2110, 'hide': 2111, 'sink': 2112, 'names': 2113, 'mentioned': 2114, 'wanting': 2115, 'arsenic': 2116, 'bitches': 2117, 'ecosearch': 2118, 'noticed': 2119, 'lightning': 2120, 'nasty': 2121, 'itll': 2122, 'sky': 2123, 'developing': 2124, 'regular': 2125, 'kashmir': 2126, 'surprise': 2127, 'mission': 2128, 'volunteers': 2129, 'awareness': 2130, 'monitoring': 2131, 'struggle': 2132, 'cdnpoli': 2133, 'deepwater': 2134, 'surely': 2135, 'forces': 2136, 'sadly': 2137, 'independent': 2138, 'request': 2139, 'responsibility': 2140, 'deserves': 2141, 'failures': 2142, 'immigrants': 2143, 'debt': 2144, 'het': 2145, 'ash': 2146, 'doctor': 2147, 'squad': 2148, 'yellow': 2149, 'atlantic': 2150, 'moves': 2151, 'discussion': 2152, 'impossible': 2153, 'yemen': 2154, 'wv': 2155, 'grown': 2156, 'employees': 2157, 'bb': 2158, 'regulations': 2159, 'anybody': 2160, 'agenda': 2161, 'style': 2162, 'breaks': 2163, 'amazon': 2164, 'les': 2165, 'untreated': 2166, 'pathetic': 2167, 'characters': 2168, 'nada': 2169, 'ai': 2170, 'fucked': 2171, 'steps': 2172, 'monroe': 2173, 'meaning': 2174, 'port': 2175, 'followed': 2176, 'lanes': 2177, 'occurred': 2178, 'dos': 2179, 'santa': 2180, 'enforcement': 2181, 'limit': 2182, 'require': 2183, 'march': 2184, 'des': 2185, 'reached': 2186, 'separate': 2187, 'samples': 2188, 'hang': 2189, 'er': 2190, 'carrying': 2191, 'auspol': 2192, 'vancouver': 2193, 'committed': 2194, 'gift': 2195, 'labour': 2196, 'boris': 2197, 'cape': 2198, 'tx': 2199, 'window': 2200, 'metal': 2201, 'yearold': 2202, 'heads': 2203, 'chat': 2204, 'capital': 2205, 'instagram': 2206, 'screen': 2207, 'fail': 2208, 'gods': 2209, 'valdez': 2210, 'allowing': 2211, 'recycling': 2212, 'governments': 2213, 'senior': 2214, 'op': 2215, 'huh': 2216, 'rid': 2217, 'citizen': 2218, 'linked': 2219, 'provided': 2220, 'connection': 2221, 'modern': 2222, 'faith': 2223, 'een': 2224, 'individual': 2225, 'agricultural': 2226, 'farming': 2227, 'ver': 2228, 'anna': 2229, 'ig': 2230, 'competition': 2231, 'vou': 2232, 'battle': 2233, 'officially': 2234, 'streams': 2235, 'picked': 2236, 'morgan': 2237, 'sees': 2238, 'scale': 2239, 'guide': 2240, 'jan': 2241, 'covering': 2242, 'bio': 2243, 'pdt': 2244, 'tag': 2245, 'min': 2246, 'gain': 2247, 'facebook': 2248, 'cream': 2249, 'drilling': 2250, 'cooking': 2251, 'policies': 2252, 'engineering': 2253, 'operations': 2254, 'beauty': 2255, 'sales': 2256, 'failure': 2257, 'football': 2258, 'defense': 2259, 'guilty': 2260, 'draw': 2261, 'immigration': 2262, 'drinkingwater': 2263, 'cyanobacteria': 2264, 'voc': 2265, 'pics': 2266, 'zimbabwe': 2267, 'downpours': 2268, 'mike': 2269, 'wx': 2270, 'roadways': 2271, 'cell': 2272, 'lane': 2273, 'claims': 2274, 'franklin': 2275, 'jones': 2276, 'immediate': 2277, 'dept': 2278, 'dollar': 2279, 'hero': 2280, 'ist': 2281, 'threatening': 2282, 'increasing': 2283, 'lights': 2284, 'heading': 2285, 'included': 2286, 'respond': 2287, 'provides': 2288, 'pump': 2289, 'edition': 2290, 'kills': 2291, 'materials': 2292, 'accounts': 2293, 'truck': 2294, 'exact': 2295, 'cnn': 2296, 'fossil': 2297, 'exposure': 2298, 'discovered': 2299, 'fishing': 2300, 'generation': 2301, 'arms': 2302, 'poisoning': 2303, 'sucks': 2304, 'lab': 2305, 'victim': 2306, 'machine': 2307, 'algaebloom': 2308, 'ang': 2309, 'ugh': 2310, 'title': 2311, 'beef': 2312, 'cuts': 2313, 'innocent': 2314, 'inland': 2315, 'grand': 2316, 'alerts': 2317, 'shocking': 2318, 'letter': 2319, 'destroyed': 2320, 'neither': 2321, 'associated': 2322, 'fl': 2323, 'mountain': 2324, 'pets': 2325, 'deaths': 2326, 'reservoir': 2327, 'houston': 2328, 'sides': 2329, 'eventually': 2330, 'pushing': 2331, 'fool': 2332, 'experienced': 2333, 'municipal': 2334, 'drains': 2335, 'regulators': 2336, 'weight': 2337, 'successful': 2338, 'wine': 2339, 'indigenous': 2340, 'journey': 2341, 'hazmat': 2342, 'trans': 2343, 'ate': 2344, 'digital': 2345, 'wasted': 2346, 'filter': 2347, 'brand': 2348, 'medicine': 2349, 'brothers': 2350, 'chris': 2351, 'bags': 2352, 'joe': 2353, 'salmonella': 2354, 'teacher': 2355, 'ji': 2356, 'und': 2357, 'dick': 2358, 'numerous': 2359, 'managed': 2360, 'mountains': 2361, 'yep': 2362, 'utah': 2363, 'protected': 2364, 'vulnerable': 2365, 'potentially': 2366, 'expert': 2367, 'globalwarming': 2368, 'terms': 2369, 'previous': 2370, 'ga': 2371, 'pulled': 2372, 'temperatures': 2373, 'reaching': 2374, 'temperature': 2375, 'heatwave': 2376, 'becomes': 2377, 'java': 2378, 'practices': 2379, 'stock': 2380, 'register': 2381, 'ability': 2382, 'programs': 2383, 'farms': 2384, 'financial': 2385, 'developed': 2386, 'seaweed': 2387, 'hat': 2388, 'singing': 2389, 'democracy': 2390, 'shortage': 2391, 'annual': 2392, 'prime': 2393, 'quit': 2394, 'powerful': 2395, 'clubs': 2396, 'enjoyed': 2397, 'alright': 2398, 'michael': 2399, 'depletion': 2400, 'pessoas': 2401, 'receive': 2402, 'estimated': 2403, 'occurring': 2404, 'prevention': 2405, 'southeast': 2406, 'sale': 2407, 'artists': 2408, 'odisha': 2409, 'dumping': 2410, 'japan': 2411, 'shed': 2412, 'obvious': 2413, 'electric': 2414, 'reaction': 2415, 'suggest': 2416, 'cards': 2417, 'species': 2418, 'birds': 2419, 'bakersfield': 2420, 'waterways': 2421, 'checked': 2422, 'canadian': 2423, 'percent': 2424, 'crew': 2425, 'bear': 2426, 'committee': 2427, 'cheap': 2428, 'minimum': 2429, 'refuse': 2430, 'importance': 2431, 'shirt': 2432, 'yg': 2433, 'prison': 2434, 'tons': 2435, 'precious': 2436, 'options': 2437, 'prefer': 2438, 'opinions': 2439, 'male': 2440, 'du': 2441, 'daddy': 2442, 'admit': 2443, 'senate': 2444, 'disagree': 2445, 'muslim': 2446, 'todo': 2447, 'spots': 2448, 'barely': 2449, 'atlanta': 2450, 'roadway': 2451, 'seek': 2452, 'tears': 2453, 'vegas': 2454, 'types': 2455, 'condition': 2456, 'colbert': 2457, 'puts': 2458, 'taylor': 2459, 'basement': 2460, 'theyd': 2461, 'contain': 2462, 'suddenly': 2463, 'activity': 2464, 'mixed': 2465, 'consequences': 2466, 'stars': 2467, 'professional': 2468, 'easier': 2469, 'bless': 2470, 'foods': 2471, 'steve': 2472, 'plot': 2473, 'drama': 2474, 'cast': 2475, 'adult': 2476, 'illegals': 2477, 'fly': 2478, 'congratulations': 2479, 'brilliant': 2480, 'ticket': 2481, 'pacific': 2482, 'guard': 2483, 'jump': 2484, 'widespread': 2485, 'nc': 2486, 'columbia': 2487, 'posts': 2488, 'regarding': 2489, 'smith': 2490, 'devastating': 2491, 'bruh': 2492, 'officers': 2493, 'ft': 2494, 'af': 2495, 'ten': 2496, 'agua': 2497, 'grateful': 2498, 'posting': 2499, 'scarcity': 2500, 'leads': 2501, 'assistance': 2502, 'fantastic': 2503, 'shoes': 2504, 'maintain': 2505, 'thousand': 2506, 'operation': 2507, 'billions': 2508, 'liberals': 2509, 'yang': 2510, 'cleanwater': 2511, 'voters': 2512, 'asks': 2513, 'dress': 2514, 'bases': 2515, 'contract': 2516, 'savewater': 2517, 'votes': 2518, 'fertilizer': 2519, 'income': 2520, 'porque': 2521, 'sin': 2522, 'pq': 2523, 'taught': 2524, 'maam': 2525, 'caution': 2526, 'roof': 2527, 'seconds': 2528, 'belt': 2529, 'continued': 2530, 'recovery': 2531, 'occur': 2532, 'warn': 2533, 'pr': 2534, 'century': 2535, 'initiative': 2536, 'crop': 2537, 'chill': 2538, 'poison': 2539, 'negative': 2540, 'capacity': 2541, 'ima': 2542, 'ring': 2543, 'charges': 2544, 'crash': 2545, 'grew': 2546, 'winner': 2547, 'concentration': 2548, 'activities': 2549, 'boyfriend': 2550, 'potable': 2551, 'skills': 2552, 'inadequate': 2553, 'stomach': 2554, 'doctors': 2555, 'radioactive': 2556, 'topic': 2557, 'younger': 2558, 'ou': 2559, 'dreams': 2560, 'propaganda': 2561, 'virginia': 2562, 'polluting': 2563, 'punjab': 2564, 'bomb': 2565, 'safely': 2566, 'officer': 2567, 'lauderdale': 2568, 'enjoying': 2569, 'ministry': 2570, 'clinton': 2571, 'mate': 2572, 'path': 2573, 'wood': 2574, 'investment': 2575, 'foundation': 2576, 'worldwide': 2577, 'owned': 2578, 'partner': 2579, 'september': 2580, 'murder': 2581, 'indias': 2582, 'ecosystem': 2583, 'engineer': 2584, 'session': 2585, 'concrete': 2586, 'physical': 2587, 'eh': 2588, 'mistake': 2589, 'organic': 2590, 'illness': 2591, 'dinner': 2592, 'usual': 2593, 'candidate': 2594, 'balls': 2595, 'mama': 2596, 'ik': 2597, 'sexual': 2598, 'dem': 2599, 'concert': 2600, 'drug': 2601, 'cages': 2602, 'vida': 2603, 'protecting': 2604, 'apple': 2605, 'floating': 2606, 'ky': 2607, 'located': 2608, 'mt': 2609, 'southwestern': 2610, 'commit': 2611, 'fuckin': 2612, 'christ': 2613, 'restaurant': 2614, 'prince': 2615, 'shared': 2616, 'retweet': 2617, 'parking': 2618, 'lied': 2619, 'assume': 2620, 'blind': 2621, 'boring': 2622, 'chiles': 2623, 'contained': 2624, 'standard': 2625, 'tweeting': 2626, 'liquid': 2627, 'protest': 2628, 'fined': 2629, 'speaks': 2630, 'smoke': 2631, 'abandoned': 2632, 'rep': 2633, 'flight': 2634, 'quote': 2635, 'particular': 2636, 'accepted': 2637, 'adults': 2638, 'european': 2639, 'liar': 2640, 'chose': 2641, 'max': 2642, 'loveisland': 2643, 'muslims': 2644, 'solo': 2645, 'maga': 2646, 'minor': 2647, 'resource': 2648, 'degree': 2649, 'dust': 2650, 'reminder': 2651, 'tracking': 2652, 'express': 2653, 'sat': 2654, 'ia': 2655, 'rice': 2656, 'gross': 2657, 'continuing': 2658, 'studies': 2659, 'besides': 2660, 'cyclone': 2661, 'bird': 2662, 'announced': 2663, 'exercise': 2664, 'spirit': 2665, 'meanwhile': 2666, 'resulted': 2667, 'ye': 2668, 'recall': 2669, 'larger': 2670, 'oversight': 2671, 'answers': 2672, 'equipment': 2673, 'barrels': 2674, 'october': 2675, 'harm': 2676, 'connected': 2677, 'remind': 2678, 'transport': 2679, 'dirtiest': 2680, 'au': 2681, 'material': 2682, 'uh': 2683, 'ich': 2684, 'sdgs': 2685, 'mistakes': 2686, 'religion': 2687, 'johnson': 2688, 'cancelled': 2689, 'hitting': 2690, 'deliver': 2691, 'swept': 2692, 'nbc': 2693, 'anxiety': 2694, 'dating': 2695, 'villages': 2696, 'reducing': 2697, 'explosion': 2698, 'host': 2699, 'complain': 2700, 'palm': 2701, 'closer': 2702, 'hall': 2703, 'camera': 2704, 'adding': 2705, 'collection': 2706, 'leaked': 2707, 'ad': 2708, 'destroying': 2709, 'bin': 2710, 'humanity': 2711, 'blow': 2712, 'pc': 2713, 'strategy': 2714, 'kindly': 2715, 'moments': 2716, 'workshop': 2717, 'prior': 2718, 'paul': 2719, 'unique': 2720, 'professor': 2721, 'suck': 2722, 'fecal': 2723, 'tests': 2724, 'nutrients': 2725, 'disappointed': 2726, 'lakeerie': 2727, 'birth': 2728, 'der': 2729, 'comfortable': 2730, 'mal': 2731, 'glasses': 2732, 'cops': 2733, 'neighborhood': 2734, 'whoever': 2735, 'asleep': 2736, 'southeastern': 2737, 'njwx': 2738, 'tune': 2739, 'reduced': 2740, 'debris': 2741, 'identify': 2742, 'mob': 2743, 'logic': 2744, 'situations': 2745, 'carbon': 2746, 'arrived': 2747, 'snow': 2748, 'flat': 2749, 'slightly': 2750, 'rose': 2751, 'unit': 2752, 'speed': 2753, 'published': 2754, 'chinese': 2755, 'catastrophic': 2756, 'indonesia': 2757, 'drivers': 2758, 'bathroom': 2759, 'shift': 2760, 'subject': 2761, 'angeles': 2762, 'investigating': 2763, 'bp': 2764, 'wastewater': 2765, 'unknown': 2766, 'various': 2767, 'ignorant': 2768, 'freshwater': 2769, 'pollute': 2770, 'parliament': 2771, 'switch': 2772, 'imo': 2773, 'tom': 2774, 'yung': 2775, 'utilities': 2776, 'plays': 2777, 'wedding': 2778, 'drinks': 2779, 'seat': 2780, 'assault': 2781, 'rape': 2782, 'hates': 2783, 'tudo': 2784, 'prayers': 2785, 'bucket': 2786, 'overnight': 2787, 'scott': 2788, 'generally': 2789, 'northeast': 2790, 'zones': 2791, 'wise': 2792, 'someones': 2793, 'surrounding': 2794, 'impacted': 2795, 'downtown': 2796, 'ireland': 2797, 'bangladesh': 2798, 'stone': 2799, 'dig': 2800, 'spreading': 2801, 'offers': 2802, 'entirely': 2803, 'australian': 2804, 'anger': 2805, 'icymi': 2806, 'ac': 2807, 'corporate': 2808, 'shown': 2809, 'lazy': 2810, 'parties': 2811, 'documentary': 2812, 'corporation': 2813, 'context': 2814, 'planned': 2815, 'complaining': 2816, 'dare': 2817, 'lang': 2818, 'clown': 2819, 'socialism': 2820, 'socialist': 2821, 'blessed': 2822, 'enemy': 2823, 'quando': 2824, 'girlfriend': 2825, 'youth': 2826, 'delivery': 2827, 'highways': 2828, 'broadcast': 2829, 'setting': 2830, 'lincoln': 2831, 'metro': 2832, 'adams': 2833, 'transfer': 2834, 'foi': 2835, 'northwestern': 2836, 'triggered': 2837, 'manage': 2838, 'sight': 2839, 'screaming': 2840, 'gym': 2841, 'outta': 2842, 'areal': 2843, 'partners': 2844, 'lifted': 2845, 'supported': 2846, 'podcast': 2847, 'steam': 2848, 'restoration': 2849, 'seemed': 2850, 'universe': 2851, 'perfectly': 2852, 'rat': 2853, 'dublin': 2854, 'countrys': 2855, 'litre': 2856, 'spotted': 2857, 'intelligence': 2858, 'impression': 2859, 'ie': 2860, 'concept': 2861, 'foam': 2862, 'breath': 2863, 'fashion': 2864, 'master': 2865, 'resistance': 2866, 'droughts': 2867, 'religious': 2868, 'tsunami': 2869, 'privilege': 2870, 'trains': 2871, 'passing': 2872, 'stretch': 2873, 'locally': 2874, 'picking': 2875, 'avenue': 2876, 'notes': 2877, 'particularly': 2878, 'warren': 2879, 'mf': 2880, 'expecting': 2881, 'inch': 2882, 'eight': 2883, 'golden': 2884, 'hwy': 2885, 'hence': 2886, 'drops': 2887, 'allen': 2888, 'potus': 2889, 'shouldve': 2890, 'calcasieu': 2891, 'threats': 2892, 'restrictions': 2893, 'nashville': 2894, 'threw': 2895, 'mnwx': 2896, 'joined': 2897, 'cleveland': 2898, 'heating': 2899, 'therefore': 2900, 'target': 2901, 'pushed': 2902, 'discover': 2903, 'fellow': 2904, 'curious': 2905, 'friendly': 2906, 'defiance': 2907, 'blast': 2908, 'loose': 2909, 'ceo': 2910, 'sensitive': 2911, 'nonsense': 2912, 'profile': 2913, 'opportunities': 2914, 'bbc': 2915, 'donald': 2916, 'recommend': 2917, 'apologize': 2918, 'patients': 2919, 'breakfast': 2920, 'achieve': 2921, 'distribution': 2922, 'marketing': 2923, 'bias': 2924, 'fruit': 2925, 'grade': 2926, 'hurts': 2927, 'tl': 2928, 'mug': 2929, 'thirsty': 2930, 'audience': 2931, 'cummings': 2932, 'joy': 2933, 'rajasthan': 2934, 'personality': 2935, 'fazer': 2936, 'mishaps': 2937, 'ter': 2938, 'pizza': 2939, 'germany': 2940, 'colour': 2941, 'outbreak': 2942, 'scar': 2943, 'til': 2944, 'parishes': 2945, 'alwx': 2946, 'fields': 2947, 'desert': 2948, 'abc': 2949, 'capable': 2950, 'regional': 2951, 'teachers': 2952, 'locked': 2953, 'valuable': 2954, 'favor': 2955, 'cos': 2956, 'attacks': 2957, 'stated': 2958, 'shopping': 2959, 'boston': 2960, 'appears': 2961, 'stronger': 2962, 'anniversary': 2963, 'magic': 2964, 'finger': 2965, 'nightmare': 2966, 'depends': 2967, 'shocked': 2968, 'closing': 2969, 'tanks': 2970, 'ravaged': 2971, 'lips': 2972, 'consumption': 2973, 'thus': 2974, 'promote': 2975, 'believes': 2976, 'duty': 2977, 'affects': 2978, 'balance': 2979, 'parks': 2980, 'coach': 2981, 'struggling': 2982, 'charged': 2983, 'ponds': 2984, 'nazis': 2985, 'denied': 2986, 'gujarat': 2987, 'womens': 2988, 'anti': 2989, 'shitty': 2990, 'patient': 2991, 'relevant': 2992, 'rainwater': 2993, 'sisters': 2994, 'hungry': 2995, 'sm': 2996, 'defend': 2997, 'oceans': 2998, 'harder': 2999, 'declared': 3000, 'brooklyn': 3001, 'phones': 3002, 'calm': 3003, 'freaking': 3004, 'madison': 3005, 'covers': 3006, 'identified': 3007, 'nmwx': 3008, 'temporary': 3009, 'pocket': 3010, 'vision': 3011, 'funds': 3012, 'resulting': 3013, 'alberta': 3014, 'values': 3015, 'intense': 3016, 'boom': 3017, 'plane': 3018, 'experiencing': 3019, 'flag': 3020, 'fears': 3021, 'threatened': 3022, 'illinois': 3023, 'mississippis': 3024, 'golf': 3025, 'faster': 3026, 'fountain': 3027, 'paint': 3028, 'hurting': 3029, 'staying': 3030, 'winona': 3031, 'lmfao': 3032, 'priority': 3033, 'named': 3034, 'canadas': 3035, 'award': 3036, 'toxins': 3037, 'senator': 3038, 'hows': 3039, 'images': 3040, 'upcoming': 3041, 'background': 3042, 'tool': 3043, 'purchase': 3044, 'bowl': 3045, 'angel': 3046, 'behavior': 3047, 'z': 3048, 'ela': 3049, 'supports': 3050, 'iran': 3051, 'allows': 3052, 'mp': 3053, 'connect': 3054, 'jordan': 3055, 'israeli': 3056, 'hlpf': 3057, 'overall': 3058, 'happiness': 3059, 'vc': 3060, 'baton': 3061, 'bands': 3062, 'viewing': 3063, 'belong': 3064, 'ruin': 3065, 'lesson': 3066, 'ladies': 3067, 'jamp': 3068, 'buffalo': 3069, 'seven': 3070, 'ave': 3071, 'walked': 3072, 'elizabeth': 3073, 'trailer': 3074, 'nola': 3075, 'detected': 3076, 'direction': 3077, 'package': 3078, 'tackle': 3079, 'iowa': 3080, 'naturally': 3081, 'fb': 3082, 'repeat': 3083, 'ignored': 3084, 'km': 3085, 'coconut': 3086, 'detection': 3087, 'commercial': 3088, 'makeup': 3089, 'domestic': 3090, 'lessons': 3091, 'jokes': 3092, 'tribe': 3093, 'honey': 3094, 'opposite': 3095, 'wing': 3096, 'cake': 3097, 'ed': 3098, 'colony': 3099, 'bjp': 3100, 'bread': 3101, 'drawing': 3102, 'wasting': 3103, 'suppose': 3104, 'labor': 3105, 'todos': 3106, 'vegan': 3107, 'defending': 3108, 'talented': 3109, 'boil': 3110, 'narrative': 3111, 'winds': 3112, 'vehicles': 3113, 'alarm': 3114, 'inspiration': 3115, 'ct': 3116, 'hills': 3117, 'lee': 3118, 'regions': 3119, 'abq': 3120, 'isolated': 3121, 'odd': 3122, 'clay': 3123, 'mary': 3124, 'neelum': 3125, 'localized': 3126, 'vehicle': 3127, 'loan': 3128, 'possibility': 3129, 'mm': 3130, 'pissed': 3131, 'whilst': 3132, 'george': 3133, 'leh': 3134, 'peter': 3135, 'presence': 3136, 'encourage': 3137, 'division': 3138, 'winter': 3139, 'tweeted': 3140, 'burning': 3141, 'lawsuit': 3142, 'equal': 3143, 'incidents': 3144, 'offered': 3145, 'explains': 3146, 'decade': 3147, 'treating': 3148, 'nasa': 3149, 'cutting': 3150, 'requires': 3151, 'innovation': 3152, 'represent': 3153, 'application': 3154, 'ads': 3155, 'streaming': 3156, 'discussing': 3157, 'centre': 3158, 'lay': 3159, 'pack': 3160, 'den': 3161, 'holiday': 3162, 'usage': 3163, 'ir': 3164, 'criminals': 3165, 'antifa': 3166, 'blah': 3167, 'ro': 3168, 'mundo': 3169, 'marriage': 3170, 'delete': 3171, 'nem': 3172, 'vezes': 3173, 'mph': 3174, 'xd': 3175, 'spell': 3176, 'definition': 3177, 'everyones': 3178, 'toward': 3179, 'bright': 3180, 'pawx': 3181, 'stations': 3182, 'lafayette': 3183, 'lch': 3184, 'estimates': 3185, 'alcohol': 3186, 'improving': 3187, 'nevada': 3188, 'normally': 3189, 'addition': 3190, 'focused': 3191, 'destruction': 3192, 'kentucky': 3193, 'neworleans': 3194, 'remnants': 3195, 'boiling': 3196, 'paso': 3197, 'andor': 3198, 'badly': 3199, 'fuels': 3200, 'regulation': 3201, 'agencies': 3202, 'firm': 3203, 'captain': 3204, 'ao': 3205, 'fingers': 3206, 'remediation': 3207, 'split': 3208, 'everytime': 3209, 'library': 3210, 'pays': 3211, 'discharge': 3212, 'advantage': 3213, 'protections': 3214, 'indians': 3215, 'collect': 3216, 'informed': 3217, 'estate': 3218, 'disposal': 3219, 'hidden': 3220, 'arm': 3221, 'decisions': 3222, 'departments': 3223, 'corner': 3224, 'deeply': 3225, 'flush': 3226, 'tape': 3227, 'forgive': 3228, 'anyways': 3229, 'exciting': 3230, 'emotions': 3231, 'nutrition': 3232, 'nwsc': 3233, 'mood': 3234, 'hillary': 3235, 'casa': 3236, 'nunca': 3237, 'vacation': 3238, 'sw': 3239, 'creeks': 3240, 'noaa': 3241, 'philadelphia': 3242, 'rouge': 3243, 'driven': 3244, 'prepare': 3245, 'martin': 3246, 'expiring': 3247, 'lately': 3248, 'asia': 3249, 'promised': 3250, 'slide': 3251, 'executive': 3252, 'irish': 3253, 'predicted': 3254, 'praying': 3255, 'resident': 3256, 'cheese': 3257, 'yup': 3258, 'urged': 3259, 'neighbors': 3260, 'ap': 3261, 'visiting': 3262, 'legit': 3263, 'grass': 3264, 'highlights': 3265, 'profit': 3266, 'fires': 3267, 'alot': 3268, 'penguins': 3269, 'somalia': 3270, 'jakarta': 3271, 'iraq': 3272, 'tide': 3273, 'kiss': 3274, 'firefighting': 3275, 'fines': 3276, 'superior': 3277, 'eg': 3278, 'load': 3279, 'hilarious': 3280, 'timeline': 3281, 'sport': 3282, 'poisoned': 3283, 'bf': 3284, 'panel': 3285, 'shoulder': 3286, 'weapons': 3287, 'memory': 3288, 'cholera': 3289, 'legend': 3290, 'sake': 3291, 'clothing': 3292, 'fraud': 3293, 'hay': 3294, 'organization': 3295, 'universal': 3296, 'ja': 3297, 'banned': 3298, 'genuinely': 3299, 'celebrating': 3300, 'bbnaija': 3301, 'ako': 3302, 'settlements': 3303, 'omar': 3304, 'bible': 3305, 'ben': 3306, 'exo': 3307, 'grab': 3308, 'raining': 3309, 'scotland': 3310, 'rio': 3311, 'hail': 3312, 'sudden': 3313, 'bell': 3314, 'waking': 3315, 'elections': 3316, 'attacked': 3317, 'throwing': 3318, 'reminds': 3319, 'northwest': 3320, 'elevated': 3321, 'baldwin': 3322, 'faced': 3323, 'ton': 3324, 'shortly': 3325, 'stayed': 3326, 'midnight': 3327, 'delta': 3328, 'degrees': 3329, 'puerto': 3330, 'kit': 3331, 'somerset': 3332, 'cycle': 3333, 'contribute': 3334, 'pants': 3335, 'core': 3336, 'seal': 3337, 'pouring': 3338, 'wit': 3339, 'teaching': 3340, 'bother': 3341, 'nick': 3342, 'french': 3343, 'extent': 3344, 'pair': 3345, 'dodge': 3346, 'utility': 3347, 'trained': 3348, 'blaming': 3349, 'petroleum': 3350, 'candidates': 3351, 'delays': 3352, 'juice': 3353, 'ships': 3354, 'shipping': 3355, 'harry': 3356, 'perspective': 3357, 'existence': 3358, 'naked': 3359, 'netflix': 3360, 'wars': 3361, 'stormwater': 3362, 'suit': 3363, 'spray': 3364, 'clue': 3365, 'nos': 3366, 'replace': 3367, 'fixing': 3368, 'uranium': 3369, 'investigate': 3370, 'permanent': 3371, 'argue': 3372, 'eggs': 3373, 'cook': 3374, 'contaminants': 3375, 'chlorine': 3376, 'addressing': 3377, 'deliberately': 3378, 'dams': 3379, 'legally': 3380, 'recorded': 3381, 'household': 3382, 'fandom': 3383, 'affordable': 3384, 'sim': 3385, 'diet': 3386, 'arrested': 3387, 'traditional': 3388, 'ladakh': 3389, 'stood': 3390, 'pussy': 3391, 'rude': 3392, 'esse': 3393, 'apartment': 3394, 'totals': 3395, 'nywx': 3396, 'kidding': 3397, 'damaging': 3398, 'waves': 3399, 'surrounded': 3400, 'moms': 3401, 'amber': 3402, 'pose': 3403, 'thankful': 3404, 'fav': 3405, 'nw': 3406, 'lit': 3407, 'delayed': 3408, 'favourite': 3409, 'mans': 3410, 'strength': 3411, 'replaced': 3412, 'increases': 3413, 'classic': 3414, 'prairie': 3415, 'exists': 3416, 'tip': 3417, 'mckittrick': 3418, 'cbc': 3419, 'forcing': 3420, 'rap': 3421, 'lawmakers': 3422, 'factor': 3423, 'approved': 3424, 'logo': 3425, 'rely': 3426, 'phase': 3427, 'sexy': 3428, 'buddy': 3429, 'searching': 3430, 'beings': 3431, 'conservative': 3432, 'stopping': 3433, 'aside': 3434, 'generations': 3435, 'surgery': 3436, 'esto': 3437, 'reference': 3438, 'seasons': 3439, 'deny': 3440, 'disney': 3441, 'moral': 3442, 'kenya': 3443, 'par': 3444, 'haryana': 3445, 'launch': 3446, 'bathing': 3447, 'kim': 3448, 'chocolate': 3449, 'ugx': 3450, 'fridge': 3451, 'cuando': 3452, 'bored': 3453, 'nicobar': 3454, 'laying': 3455, 'minds': 3456, 'sharp': 3457, 'traveling': 3458, 'tnwx': 3459, 'mercer': 3460, 'nights': 3461, 'deadly': 3462, 'wa': 3463, 'nh': 3464, 'collapse': 3465, 'province': 3466, 'flows': 3467, 'hazard': 3468, 'refused': 3469, 'rico': 3470, 'hospitals': 3471, 'hun': 3472, 'constant': 3473, 'creative': 3474, 'launched': 3475, 'shutdown': 3476, 'trending': 3477, 'allah': 3478, 'cows': 3479, 'suspect': 3480, 'alternative': 3481, 'confirm': 3482, 'corporations': 3483, 'harvest': 3484, 'believed': 3485, 'comparison': 3486, 'records': 3487, 'holds': 3488, 'tongue': 3489, 'attitude': 3490, 'fired': 3491, 'existing': 3492, 'nervous': 3493, 'adorable': 3494, 'joint': 3495, 'factory': 3496, 'commission': 3497, 'biden': 3498, 'useless': 3499, 'korea': 3500, 'deals': 3501, 'terrorist': 3502, 'waterscarcity': 3503, 'nazi': 3504, 'flying': 3505, 'matt': 3506, 'salad': 3507, 'score': 3508, 'cousin': 3509, 'recharge': 3510, 'leg': 3511, 'dancing': 3512, 'crush': 3513, 'vez': 3514, 'pulling': 3515, 'agora': 3516, 'essa': 3517, 'andaman': 3518, 'ainda': 3519, 'karnataka': 3520, 'knock': 3521, 'accuweather': 3522, 'outlook': 3523, 'northeastern': 3524, 'driver': 3525, 'hadnt': 3526, 'junction': 3527, 'dakota': 3528, 'plain': 3529, 'thick': 3530, 'reopened': 3531, 'urgent': 3532, 'floodwaters': 3533, 'ks': 3534, 'placed': 3535, 'qu': 3536, 'este': 3537, 'menos': 3538, 'weekly': 3539, 'accurate': 3540, 'silent': 3541, 'anne': 3542, 'advised': 3543, 'spurs': 3544, 'mercury': 3545, 'listened': 3546, 'wiwx': 3547, 'edge': 3548, 'ta': 3549, 'completed': 3550, 'accountable': 3551, 'ag': 3552, 'scandal': 3553, 'lifetime': 3554, 'individuals': 3555, 'claimed': 3556, 'grandma': 3557, 'november': 3558, 'enbridge': 3559, 'explode': 3560, 'previously': 3561, 'chain': 3562, 'ab': 3563, 'native': 3564, 'preventing': 3565, 'trial': 3566, 'buildings': 3567, 'leaky': 3568, 'safer': 3569, 'links': 3570, 'handling': 3571, 'smaller': 3572, 'agents': 3573, 'tries': 3574, 'author': 3575, 'legs': 3576, 'finance': 3577, 'legislation': 3578, 'desalination': 3579, 'failing': 3580, 'rs': 3581, 'crowd': 3582, 'hiring': 3583, 'idiots': 3584, 'task': 3585, 'sam': 3586, 'vast': 3587, 'reliable': 3588, 'compare': 3589, 'waterquality': 3590, 'specifically': 3591, 'ear': 3592, 'horror': 3593, 'hatred': 3594, 'thailand': 3595, 'sobre': 3596, 'steal': 3597, 'dairy': 3598, 'jews': 3599, 'confidence': 3600, 'asylum': 3601, 'jealous': 3602, 'butt': 3603, 'shape': 3604, 'mirror': 3605, 'mano': 3606, 'hug': 3607, 'complex': 3608, 'mngr': 3609, 'cus': 3610, 'humidity': 3611, 'tennessee': 3612, 'prize': 3613, 'portion': 3614, 'begins': 3615, 'feature': 3616, 'mud': 3617, 'rip': 3618, 'incredibly': 3619, 'cowx': 3620, 'fayette': 3621, 'nose': 3622, 'cells': 3623, 'mon': 3624, 'tenho': 3625, 'independence': 3626, 'anytime': 3627, 'piss': 3628, 'helpful': 3629, 'baseball': 3630, 'row': 3631, 'injured': 3632, 'assam': 3633, 'healing': 3634, 'jo': 3635, 'brave': 3636, 'bien': 3637, 'hundred': 3638, 'basis': 3639, 'acceptable': 3640, 'solvents': 3641, 'oops': 3642, 'sentence': 3643, 'suffered': 3644, 'reveals': 3645, 'ss': 3646, 'function': 3647, 'button': 3648, 'wrap': 3649, 'attacking': 3650, 'harris': 3651, 'forgotten': 3652, 'hypocrisy': 3653, 'amendment': 3654, 'paris': 3655, 'genius': 3656, 'steel': 3657, 'households': 3658, 'pointing': 3659, 'joining': 3660, 'loads': 3661, 'sample': 3662, 'meter': 3663, 'gang': 3664, 'programme': 3665, 'wo': 3666, 'ages': 3667, 'schedule': 3668, 'install': 3669, 'choices': 3670, 'drugs': 3671, 'rating': 3672, 'outdoor': 3673, 'sindh': 3674, 'diarrhea': 3675, 'offering': 3676, 'nuts': 3677, 'murraydarling': 3678, 'jack': 3679, 'claiming': 3680, 'cara': 3681, 'debut': 3682, 'kkk': 3683, 'statements': 3684, 'advisories': 3685, 'hawaii': 3686, 'moisture': 3687, 'inc': 3688, 'mixture': 3689, 'essex': 3690, 'april': 3691, 'dropping': 3692, 'thunder': 3693, 'salary': 3694, 'respected': 3695, 'satellite': 3696, 'bluff': 3697, 'luckily': 3698, 'fe': 3699, 'fort': 3700, 'mainly': 3701, 'filling': 3702, 'horse': 3703, 'greenwood': 3704, 'assuming': 3705, 'describe': 3706, 'ohwx': 3707, 'landing': 3708, 'checking': 3709, 'guardian': 3710, 'citys': 3711, 'cooler': 3712, 'pockets': 3713, 'computer': 3714, 'routine': 3715, 'underway': 3716, 'association': 3717, 'oilandgas': 3718, 'patagonian': 3719, 'seeking': 3720, 'selangor': 3721, 'asian': 3722, 'proposed': 3723, 'tonnes': 3724, 'silly': 3725, 'childhood': 3726, 'opposition': 3727, 'fought': 3728, 'butter': 3729, 'pipelines': 3730, 'cheaper': 3731, 'vessel': 3732, 'funded': 3733, 'agreement': 3734, 'saudi': 3735, 'pot': 3736, 'footage': 3737, 'taxpayers': 3738, 'behaviour': 3739, 'marina': 3740, 'shortages': 3741, 'congrats': 3742, 'violent': 3743, 'tan': 3744, 'sus': 3745, 'understood': 3746, 'dudes': 3747, 'fantasy': 3748, 'delhi': 3749, 'als': 3750, 'ba': 3751, 'outbreaks': 3752, 'centers': 3753, 'mil': 3754, 'impurity': 3755, 'survey': 3756, 'pretend': 3757, 'shock': 3758, 'tony': 3759, 'cow': 3760, 'secure': 3761, 'nicht': 3762, 'municipalities': 3763, 'comfort': 3764, 'category': 3765, 'invite': 3766, 'jimin': 3767, 'gf': 3768, 'bem': 3769, 'snowfall': 3770, 'miami': 3771, 'employee': 3772, 'plains': 3773, 'plymouth': 3774, 'german': 3775, 'moderate': 3776, 'custer': 3777, 'reminded': 3778, 'supreme': 3779, 'couldve': 3780, 'secondary': 3781, 'ii': 3782, 'britain': 3783, 'typical': 3784, 'nine': 3785, 'measure': 3786, 'integrity': 3787, 'xx': 3788, 'amid': 3789, 'midwest': 3790, 'iron': 3791, 'donate': 3792, 'feeding': 3793, 'persons': 3794, 'monster': 3795, 'depth': 3796, 'cm': 3797, 'tone': 3798, 'guessing': 3799, 'ford': 3800, 'rough': 3801, 'waterislife': 3802, 'convince': 3803, 'gon': 3804, 'sewerage': 3805, 'kalamazoo': 3806, 'grey': 3807, 'promoting': 3808, 'desperate': 3809, 'hiding': 3810, 'method': 3811, 'legacy': 3812, 'cruel': 3813, 'brands': 3814, 'fishermen': 3815, 'promises': 3816, 'tankers': 3817, 'metals': 3818, 'penalty': 3819, 'plastics': 3820, 'mercy': 3821, 'adam': 3822, 'supporter': 3823, 'net': 3824, 'conflict': 3825, 'relationships': 3826, 'pleased': 3827, 'shine': 3828, 'acts': 3829, 'insult': 3830, 'bye': 3831, 'pleasure': 3832, 'installed': 3833, 'signing': 3834, 'applications': 3835, 'tear': 3836, 'dans': 3837, 'qui': 3838, 'neck': 3839, 'silence': 3840, 'classes': 3841, 'constitution': 3842, 'trend': 3843, 'adventure': 3844, 'ashamed': 3845, 'dj': 3846, 'mesmo': 3847, 'accused': 3848, 'offended': 3849, 'educated': 3850, 'stands': 3851, 'agent': 3852, 'nickname': 3853, 'jumping': 3854, 'bom': 3855, 'deleted': 3856, 'coisas': 3857, 'sempre': 3858, 'crises': 3859, 'asshole': 3860, 'aim': 3861, 'prone': 3862, 'putnam': 3863, 'ultimate': 3864, 'sioux': 3865, 'memories': 3866, 'clip': 3867, 'mail': 3868, 'cloud': 3869, 'closures': 3870, 'headed': 3871, 'tstorm': 3872, 'announce': 3873, 'bike': 3874, 'petition': 3875, 'appear': 3876, 'appropriate': 3877, 'ontario': 3878, 'ups': 3879, 'trucks': 3880, 'sigh': 3881, 'equally': 3882, 'flowers': 3883, 'hearts': 3884, 'pink': 3885, 'chaos': 3886, 'responding': 3887, 'preparedness': 3888, 'biodiversity': 3889, 'root': 3890, 'dumps': 3891, 'elite': 3892, 'pumping': 3893, 'economics': 3894, 'cleaner': 3895, 'complaint': 3896, 'technical': 3897, 'articles': 3898, 'requirements': 3899, 'strike': 3900, 'snake': 3901, 'praise': 3902, 'purposes': 3903, 'useful': 3904, 'privacy': 3905, 'criticism': 3906, 'ignoring': 3907, 'honor': 3908, 'delay': 3909, 'breathing': 3910, 'referring': 3911, 'hahahaha': 3912, 'parent': 3913, 'limits': 3914, 'carried': 3915, 'tyson': 3916, 'leakage': 3917, 'pin': 3918, 'heaven': 3919, 'maharashtra': 3920, 'nails': 3921, 'dozen': 3922, 'educate': 3923, 'canal': 3924, 'ceiling': 3925, 'unlike': 3926, 'detention': 3927, 'discussed': 3928, 'influence': 3929, 'chest': 3930, 'resistant': 3931, 'guests': 3932, 'granted': 3933, 'fee': 3934, 'survival': 3935, 'thrown': 3936, 'reviews': 3937, 'yelling': 3938, 'aoc': 3939, 'meme': 3940, 'murdered': 3941, 'edit': 3942, 'coisa': 3943, 'fortnite': 3944, 'quem': 3945, 'imma': 3946, 'historic': 3947, 'regularly': 3948, 'queens': 3949, 'listed': 3950, 'mill': 3951, 'northbound': 3952, 'sou': 3953, 'excess': 3954, 'blocking': 3955, 'mini': 3956, 'intersection': 3957, 'ramp': 3958, 'doppler': 3959, 'banks': 3960, 'mobility': 3961, 'disasters': 3962, 'districts': 3963, 'copy': 3964, 'hardly': 3965, 'sooo': 3966, 'hoe': 3967, 'models': 3968, 'nigerians': 3969, 'atmosphere': 3970, 'lift': 3971, 'index': 3972, 'transition': 3973, 'windows': 3974, 'peak': 3975, 'olmsted': 3976, 'rolling': 3977, 'dish': 3978, 'friendship': 3979, 'powers': 3980, 'vibes': 3981, 'resolve': 3982, 'volume': 3983, 'governance': 3984, 'markets': 3985, 'accidentally': 3986, 'tourism': 3987, 'explained': 3988, 'drill': 3989, 'impeachment': 3990, 'dope': 3991, 'collected': 3992, 'forms': 3993, 'aquifers': 3994, 'stops': 3995, 'earn': 3996, 'constituents': 3997, 'politician': 3998, 'worker': 3999, 'crack': 4000, 'writes': 4001, 'installation': 4002, 'conservatives': 4003, 'disgrace': 4004, 'tim': 4005, 'radiation': 4006, 'industries': 4007, 'mothers': 4008, 'removing': 4009, 'crucial': 4010, 'intended': 4011, 'mask': 4012, 'bloody': 4013, 'itd': 4014, 'dies': 4015, 'pieces': 4016, 'charity': 4017, 'performing': 4018, 'webinar': 4019, 'watercontamination': 4020, 'attended': 4021, 'log': 4022, 'plumber': 4023, 'sum': 4024, 'jai': 4025, 'hmm': 4026, 'reservoirs': 4027, 'figures': 4028, 'convinced': 4029, 'hollywood': 4030, 'fluoride': 4031, 'toledo': 4032, 'walks': 4033, 'inspired': 4034, 'threaten': 4035, 'bob': 4036, 'tend': 4037, 'positions': 4038, 'uncle': 4039, 'journalist': 4040, 'mum': 4041, 'ancient': 4042, 'winners': 4043, 'hella': 4044, 'lion': 4045, 'convention': 4046, 'cried': 4047, 'luxury': 4048, 'eso': 4049, 'suicide': 4050, 'shootings': 4051, 'nct': 4052, 'mim': 4053, 'sabe': 4054, 'marry': 4055, 'passes': 4056, 'magazine': 4057, 'figured': 4058, 'chances': 4059, 'hudson': 4060, 'noise': 4061, 'francisco': 4062, 'selected': 4063, 'ut': 4064, 'cr': 4065, 'embarrassing': 4066, 'plug': 4067, 'predict': 4068, 'sandoval': 4069, 'combined': 4070, 'tucson': 4071, 'thames': 4072, 'injuries': 4073, 'invest': 4074, 'shake': 4075, 'castle': 4076, 'feedback': 4077, 'rail': 4078, 'harbor': 4079, 'inner': 4080, 'fulton': 4081, 'removal': 4082, 'gardens': 4083, 'responders': 4084, 'hanging': 4085, 'assist': 4086, 'bond': 4087, 'brief': 4088, 'raising': 4089, 'deeper': 4090, 'nail': 4091, 'livestock': 4092, 'properties': 4093, 'bone': 4094, 'shore': 4095, 'entering': 4096, 'smooth': 4097, 'seattle': 4098, 'films': 4099, 'trading': 4100, 'engine': 4101, 'bcpoli': 4102, 'item': 4103, 'highlight': 4104, 'transportation': 4105, 'exclusive': 4106, 'famous': 4107, 'ada': 4108, 'machines': 4109, 'features': 4110, 'illegally': 4111, 'pit': 4112, 'applied': 4113, 'kevin': 4114, 'conscious': 4115, 'pan': 4116, 'interests': 4117, 'arguing': 4118, 'sufficient': 4119, 'closet': 4120, 'ideal': 4121, 'approves': 4122, 'suspected': 4123, 'elsewhere': 4124, 'admin': 4125, 'infection': 4126, 'alarming': 4127, 'comparing': 4128, 'implement': 4129, 'plate': 4130, 'deforestation': 4131, 'innovative': 4132, 'msm': 4133, 'taps': 4134, 'japanese': 4135, 'served': 4136, 'walls': 4137, 'weed': 4138, 'niet': 4139, 'torture': 4140, 'rick': 4141, 'introduced': 4142, 'tommy': 4143, 'internal': 4144, 'soda': 4145, 'sewers': 4146, 'perform': 4147, 'khan': 4148, 'hated': 4149, 'acid': 4150, 'aos': 4151, 'denying': 4152, 'productive': 4153, 'droughthit': 4154, 'harare': 4155, 'veterans': 4156, 'pode': 4157, 'smoking': 4158, 'caring': 4159, 'toda': 4160, 'melhor': 4161, 'dis': 4162, 'stole': 4163, 'smiling': 4164, 'minority': 4165, 'bones': 4166, 'wage': 4167, 'worthy': 4168, 'nfl': 4169, 'amo': 4170, 'miserable': 4171, 'hoje': 4172, 'sharks': 4173, 'experiences': 4174, 'hempstead': 4175, 'scenes': 4176, 'southbound': 4177, 'connecticut': 4178, 'maryland': 4179, 'efficient': 4180, 'drag': 4181, 'carroll': 4182, 'davis': 4183, 'von': 4184, 'rapid': 4185, 'pub': 4186, 'approximately': 4187, 'scars': 4188, 'rescued': 4189, 'outage': 4190, 'display': 4191, 'requested': 4192, 'trap': 4193, 'spanish': 4194, 'evacuation': 4195, 'reduction': 4196, 'rocks': 4197, 'twin': 4198, 'ce': 4199, 'mitigate': 4200, 'georges': 4201, 'unprecedented': 4202, 'bhi': 4203, 'stays': 4204, 'neighbourhood': 4205, 'drone': 4206, 'wishes': 4207, 'earthquakes': 4208, 'diego': 4209, 'babe': 4210, 'mid': 4211, 'jeff': 4212, 'directed': 4213, 'smells': 4214, 'campus': 4215, 'wabasha': 4216, 'spit': 4217, 'muy': 4218, 'eliminate': 4219, 'outrage': 4220, 'container': 4221, 'wisdom': 4222, 'appeal': 4223, 'fluid': 4224, 'environmentally': 4225, 'sands': 4226, 'armed': 4227, 'equivalent': 4228, 'salmon': 4229, 'testimony': 4230, 'epic': 4231, 'filters': 4232, 'aka': 4233, 'longterm': 4234, 'atleast': 4235, 'screw': 4236, 'sanders': 4237, 'humanitarian': 4238, 'premier': 4239, 'ini': 4240, 'extraction': 4241, 'gear': 4242, 'pounds': 4243, 'garlic': 4244, 'stats': 4245, 'ego': 4246, 'guidelines': 4247, 'proved': 4248, 'combat': 4249, 'professionals': 4250, 'leo': 4251, 'celebrate': 4252, 'cups': 4253, 'tools': 4254, 'recreational': 4255, 'technologies': 4256, 'injury': 4257, 'familiar': 4258, 'vile': 4259, 'devil': 4260, 'destination': 4261, 'beds': 4262, 'bars': 4263, 'sanitary': 4264, 'epidemic': 4265, 'aqui': 4266, 'collaboration': 4267, 'idol': 4268, 'pfos': 4269, 'pig': 4270, 'swamp': 4271, 'shots': 4272, 'nitrate': 4273, 'sing': 4274, 'mejor': 4275, 'relate': 4276, 'vegetables': 4277, 'vomiting': 4278, 'painful': 4279, 'mumbai': 4280, 'po': 4281, 'twist': 4282, 'passion': 4283, 'nahi': 4284, 'fbi': 4285, 'cheat': 4286, 'hypocrite': 4287, 'vaccines': 4288, 'deadline': 4289, 'accepting': 4290, 'kicked': 4291, 'lock': 4292, 'luv': 4293, 'sec': 4294, 'snap': 4295, 'hoes': 4296, 'smiled': 4297, 'luke': 4298, 'sei': 4299, 'evacuated': 4300, 'sc': 4301, 'beats': 4302, 'rapidly': 4303, 'carolina': 4304, 'kywx': 4305, 'assets': 4306, 'surge': 4307, 'overflow': 4308, 'guidance': 4309, 'mode': 4310, 'newton': 4311, 'colfax': 4312, 'yay': 4313, 'warns': 4314, 'expired': 4315, 'globe': 4316, 'described': 4317, 'stadium': 4318, 'preparing': 4319, 'georgia': 4320, 'polk': 4321, 'arundel': 4322, 'hmmm': 4323, 'thomas': 4324, 'documents': 4325, 'pd': 4326, 'rainy': 4327, 'setup': 4328, 'advance': 4329, 'settlement': 4330, 'dcwx': 4331, 'screwed': 4332, 'jim': 4333, 'colors': 4334, 'circle': 4335, 'dangers': 4336, 'damages': 4337, 'confirms': 4338, 'cop': 4339, 'slick': 4340, 'trauma': 4341, 'auto': 4342, 'appreciated': 4343, 'custom': 4344, 'shark': 4345, 'sana': 4346, 'sen': 4347, 'throat': 4348, 'operate': 4349, 'shares': 4350, 'obsessed': 4351, 'attend': 4352, 'worries': 4353, 'define': 4354, 'putin': 4355, 'tours': 4356, 'unacceptable': 4357, 'publicly': 4358, 'breakingnews': 4359, 'ignorance': 4360, 'aquifer': 4361, 'landscape': 4362, 'kinds': 4363, 'stealing': 4364, 'proven': 4365, 'phd': 4366, 'cattle': 4367, 'wifi': 4368, 'wondered': 4369, 'registered': 4370, 'presidential': 4371, 'bacterial': 4372, 'courses': 4373, 'humor': 4374, 'inform': 4375, 'repairs': 4376, 'sets': 4377, 'mga': 4378, 'messages': 4379, 'provision': 4380, 'circumstances': 4381, 'breathe': 4382, 'delivered': 4383, 'acho': 4384, 'infections': 4385, 'maar': 4386, 'replies': 4387, 'managing': 4388, 'ensuring': 4389, 'faucet': 4390, 'users': 4391, 'realizing': 4392, 'rhetoric': 4393, 'meals': 4394, 'resign': 4395, 'loyal': 4396, 'estar': 4397, 'delicious': 4398, 'impressive': 4399, 'guest': 4400, 'filtration': 4401, 'dates': 4402, 'regret': 4403, 'koi': 4404, 'epstein': 4405, 'anime': 4406, 'dignity': 4407, 'achievement': 4408, 'rent': 4409, 'wealth': 4410, 'todas': 4411, 'playlist': 4412, 'porn': 4413, 'theory': 4414, 'mis': 4415, 'mentally': 4416, 'radical': 4417, 'lisa': 4418, 'replied': 4419, 'kpop': 4420, 'justify': 4421, 'laughed': 4422, 'dera': 4423, 'pessoa': 4424, 'twitch': 4425, 'btc': 4426, 'blowing': 4427, 'greg': 4428, 'tstorms': 4429, 'grove': 4430, 'bridges': 4431, 'overflowing': 4432, 'slept': 4433, 'runner': 4434, 'restore': 4435, 'jumped': 4436, 'lemme': 4437, 'patch': 4438, 'clarke': 4439, 'rounds': 4440, 'repeatedly': 4441, 'frequent': 4442, 'automatically': 4443, 'nv': 4444, 'separated': 4445, 'bernardino': 4446, 'interior': 4447, 'tier': 4448, 'nowplaying': 4449, 'secretary': 4450, 'guarantee': 4451, 'disrespectful': 4452, 'yankees': 4453, 'creates': 4454, 'scare': 4455, 'walmart': 4456, 'rainbow': 4457, 'asf': 4458, 'scientist': 4459, 'heed': 4460, 'moss': 4461, 'melting': 4462, 'strikes': 4463, 'square': 4464, 'brush': 4465, 'bradley': 4466, 'ops': 4467, 'staring': 4468, 'deck': 4469, 'hopes': 4470, 'temps': 4471, 'tak': 4472, 'combination': 4473, 'crystal': 4474, 'dire': 4475, 'ecosystems': 4476, 'oilwater': 4477, 'reuters': 4478, 'ltd': 4479, 'esp': 4480, 'institute': 4481, 'ourlastchance': 4482, 'journal': 4483, 'hydraulic': 4484, 'signal': 4485, 'sydney': 4486, 'dna': 4487, 'clients': 4488, 'photographer': 4489, 'initial': 4490, 'blocks': 4491, 'meets': 4492, 'command': 4493, 'reduces': 4494, 'specialist': 4495, 'kits': 4496, 'user': 4497, 'coli': 4498, 'puppy': 4499, 'recognize': 4500, 'lands': 4501, 'journalism': 4502, 'settle': 4503, 'pre': 4504, 'hint': 4505, 'follows': 4506, 'shooter': 4507, 'correctly': 4508, 'excuses': 4509, 'physically': 4510, 'saves': 4511, 'poll': 4512, 'prayer': 4513, 'ruined': 4514, 'theme': 4515, 'jet': 4516, 'opposed': 4517, 'robert': 4518, 'desire': 4519, 'hs': 4520, 'loses': 4521, 'sheep': 4522, 'usd': 4523, 'countless': 4524, 'tha': 4525, 'fits': 4526, 'simon': 4527, 'priorities': 4528, 'troops': 4529, 'nationwide': 4530, 'reusable': 4531, 'deserved': 4532, 'dey': 4533, 'teen': 4534, 'deficit': 4535, 'mgmavote': 4536, 'dar': 4537, 'reveal': 4538, 'fountains': 4539, 'tiene': 4540, 'burger': 4541, 'cada': 4542, 'checks': 4543, 'liverpool': 4544, 'creepy': 4545, 'managers': 4546, 'learnt': 4547, 'tall': 4548, 'ward': 4549, 'boo': 4550, 'fascist': 4551, 'trips': 4552, 'lgbt': 4553, 'uncomfortable': 4554, 'coz': 4555, 'swimmers': 4556, 'lacking': 4557, 'worrying': 4558, 'mitch': 4559, 'weapon': 4560, 'misreporting': 4561, 'handed': 4562, 'entitled': 4563, 'titles': 4564, 'unbelievable': 4565, 'lyrics': 4566, 'laptop': 4567, 'whites': 4568, 'stans': 4569, 'freak': 4570, 'yikes': 4571, 'scattered': 4572, 'dozens': 4573, 'burned': 4574, 'nowhere': 4575, 'sevier': 4576, 'exit': 4577, 'extension': 4578, 'kent': 4579, 'township': 4580, 'tropicalstormbarry': 4581, 'jasper': 4582, 'richland': 4583, 'indicated': 4584, 'barbados': 4585, 'stranded': 4586, 'heavily': 4587, 'paradise': 4588, 'efficiency': 4589, 'railway': 4590, 'marshall': 4591, 'pee': 4592, 'arnews': 4593, 'neighborhoods': 4594, 'scientific': 4595, 'drew': 4596, 'grace': 4597, 'travelling': 4598, 'improvements': 4599, 'escape': 4600, 'washingtondc': 4601, 'riding': 4602, 'exposing': 4603, 'monterey': 4604, 'branch': 4605, 'remaining': 4606, 'tracks': 4607, 'expand': 4608, 'restored': 4609, 'kirby': 4610, 'cope': 4611, 'vermont': 4612, 'crawford': 4613, 'returned': 4614, 'studying': 4615, 'dive': 4616, 'royal': 4617, 'structure': 4618, 'yard': 4619, 'payment': 4620, 'endangered': 4621, 'gavin': 4622, 'exxonmobil': 4623, 'corp': 4624, 'violation': 4625, 'investing': 4626, 'harsh': 4627, 'reads': 4628, 'homeowners': 4629, 'handled': 4630, 'marks': 4631, 'lastchancealliance': 4632, 'spilling': 4633, 'boats': 4634, 'timor': 4635, 'headline': 4636, 'duck': 4637, 'emissions': 4638, 'filthy': 4639, 'heritage': 4640, 'containment': 4641, 'farmer': 4642, 'longest': 4643, 'dealt': 4644, 'def': 4645, 'forum': 4646, 'accountability': 4647, 'killer': 4648, 'responses': 4649, 'modelling': 4650, 'backed': 4651, 'error': 4652, 'revealed': 4653, 'capitalism': 4654, 'established': 4655, 'manufacturing': 4656, 'hitler': 4657, 'panic': 4658, 'flesh': 4659, 'announcement': 4660, 'length': 4661, 'advise': 4662, 'refer': 4663, 'arsenal': 4664, 'targets': 4665, 'communist': 4666, 'polluters': 4667, 'comedy': 4668, 'holes': 4669, 'nsw': 4670, 'reporter': 4671, 'brian': 4672, 'rats': 4673, 'vi': 4674, 'impressed': 4675, 'rocket': 4676, 'ties': 4677, 'refuses': 4678, 'object': 4679, 'detroit': 4680, 'netherlands': 4681, 'processing': 4682, 'burden': 4683, 'historical': 4684, 'pp': 4685, 'insecure': 4686, 'catalogue': 4687, 'autism': 4688, 'license': 4689, 'romance': 4690, 'airpollution': 4691, 'someday': 4692, 'treats': 4693, 'sits': 4694, 'microplastics': 4695, 'invited': 4696, 'lawyer': 4697, 'releasing': 4698, 'depressed': 4699, 'scam': 4700, 'fees': 4701, 'refugee': 4702, 'advocate': 4703, 'lifestyle': 4704, 'invented': 4705, 'wishing': 4706, 'bday': 4707, 'beating': 4708, 'attractive': 4709, 'differences': 4710, 'dms': 4711, 'depois': 4712, 'hateful': 4713, 'stranger': 4714, 'retweets': 4715, 'receiving': 4716, 'sf': 4717, 'aftermath': 4718, 'stores': 4719, 'umbrella': 4720, 'commute': 4721, 'shook': 4722, 'delaware': 4723, 'hoax': 4724, 'okx': 4725, 'kings': 4726, 'hwo': 4727, 'bronx': 4728, 'philly': 4729, 'awake': 4730, 'choctaw': 4731, 'forecasts': 4732, 'iberia': 4733, 'rlly': 4734, 'navajo': 4735, 'producers': 4736, 'juan': 4737, 'terrifying': 4738, 'distance': 4739, 'trail': 4740, 'trapped': 4741, 'bernalillo': 4742, 'swift': 4743, 'pine': 4744, 'sub': 4745, 'niagara': 4746, 'prompts': 4747, 'summary': 4748, 'dunno': 4749, 'clouds': 4750, 'quarter': 4751, 'karachi': 4752, 'estimate': 4753, 'attached': 4754, 'engineers': 4755, 'annoyed': 4756, 'spin': 4757, 'highlighted': 4758, 'survived': 4759, 'stretches': 4760, 'minnesota': 4761, 'septic': 4762, 'miller': 4763, 'gates': 4764, 'swing': 4765, 'soldiers': 4766, 'joseph': 4767, 'patience': 4768, 'drying': 4769, 'essentially': 4770, 'toronto': 4771, 'entered': 4772, 'dirt': 4773, 'kelly': 4774, 'occurs': 4775, 'struck': 4776, 'residential': 4777, 'returns': 4778, 'guarello': 4779, 'horrific': 4780, 'nl': 4781, 'cymric': 4782, 'habitat': 4783, 'recovered': 4784, 'ruling': 4785, 'tight': 4786, 'replacement': 4787, 'representative': 4788, 'mar': 4789, 'vital': 4790, 'republic': 4791, 'greed': 4792, 'pl': 4793, 'availability': 4794, 'biological': 4795, 'hire': 4796, 'erosion': 4797, 'hating': 4798, 'contaminate': 4799, 'advocates': 4800, 'typically': 4801, 'processes': 4802, 'chemistry': 4803, 'investigated': 4804, 'client': 4805, 'suits': 4806, 'pt': 4807, 'december': 4808, 'supremacy': 4809, 'effectively': 4810, 'identity': 4811, 'wings': 4812, 'grip': 4813, 'owns': 4814, 'slave': 4815, 'pokemon': 4816, 'factors': 4817, 'fools': 4818, 'believing': 4819, 'planting': 4820, 'welfare': 4821, 'karma': 4822, 'revolution': 4823, 'raises': 4824, 'chair': 4825, 'wore': 4826, 'shout': 4827, 'suggesting': 4828, 'mold': 4829, 'silver': 4830, 'menu': 4831, 'viral': 4832, 'ph': 4833, 'hms': 4834, 'reuse': 4835, 'conspiracy': 4836, 'zu': 4837, 'actress': 4838, 'bat': 4839, 'irrelevant': 4840, 'bully': 4841, 'charlie': 4842, 'ahora': 4843, 'esta': 4844, 'han': 4845, 'doc': 4846, 'sept': 4847, 'anxious': 4848, 'hunt': 4849, 'regards': 4850, 'mystery': 4851, 'engaging': 4852, 'appointment': 4853, 'counter': 4854, 'gained': 4855, 'picks': 4856, 'hashtag': 4857, 'outcome': 4858, 'mere': 4859, 'mps': 4860, 'cheated': 4861, 'abusing': 4862, 'lemon': 4863, 'abortion': 4864, 'hopatcong': 4865, 'medicare': 4866, 'pointed': 4867, 'presidents': 4868, 'females': 4869, 'episodes': 4870, 'bir': 4871, 'johnny': 4872, 'ion': 4873, 'ep': 4874, 'embarrassed': 4875, 'lebron': 4876, 'apology': 4877, 'comic': 4878, 'twins': 4879, 'biased': 4880, 'spoken': 4881, 'elses': 4882, 'yesterdays': 4883, 'massachusetts': 4884, 'downpour': 4885, 'richmond': 4886, 'nebraska': 4887, 'conversations': 4888, 'significantly': 4889, 'hehe': 4890, 'wy': 4891, 'spain': 4892, 'tuned': 4893, 'observed': 4894, 'eagle': 4895, 'broad': 4896, 'instant': 4897, 'colleagues': 4898, 'pueblo': 4899, 'upstream': 4900, 'cawx': 4901, 'memorial': 4902, 'ast': 4903, 'cbs': 4904, 'pattern': 4905, 'asr': 4906, 'resilience': 4907, 'italy': 4908, 'underwater': 4909, 'scenario': 4910, 'jacket': 4911, 'file': 4912, 'pearl': 4913, 'bans': 4914, 'eco': 4915, 'overton': 4916, 'beauregard': 4917, 'audio': 4918, 'cali': 4919, 'drives': 4920, 'championship': 4921, 'fm': 4922, 'hardin': 4923, 'channels': 4924, 'iawx': 4925, 'assembly': 4926, 'muscle': 4927, 'stressed': 4928, 'recover': 4929, 'donation': 4930, 'negligence': 4931, 'backyard': 4932, 'glory': 4933, 'depending': 4934, 'deployed': 4935, 'canadians': 4936, 'terrorists': 4937, 'unemployment': 4938, 'delusional': 4939, 'cabinet': 4940, 'involving': 4941, 'ecological': 4942, 'volunteer': 4943, 'marvel': 4944, 'crossed': 4945, 'trudeau': 4946, 'williams': 4947, 'sludge': 4948, 'exhibition': 4949, 'gal': 4950, 'regulator': 4951, 'sri': 4952, 'venezuela': 4953, 'naman': 4954, 'autonomous': 4955, 'annually': 4956, 'expansion': 4957, 'encouraged': 4958, 'units': 4959, 'jon': 4960, 'addressed': 4961, 'pe': 4962, 'aquatic': 4963, 'lowest': 4964, 'ease': 4965, 'toothpaste': 4966, 'logging': 4967, 'sampling': 4968, 'unfair': 4969, 'literal': 4970, 'bears': 4971, 'norway': 4972, 'techniques': 4973, 'heck': 4974, 'device': 4975, 'membership': 4976, 'associate': 4977, 'nut': 4978, 'smash': 4979, 'meters': 4980, 'tower': 4981, 'cleared': 4982, 'apologies': 4983, 'fourth': 4984, 'lmaoo': 4985, 'adopted': 4986, 'hab': 4987, 'neighbor': 4988, 'seagulls': 4989, 'determine': 4990, 'ml': 4991, 'approval': 4992, 'permit': 4993, 'wherever': 4994, 'mcdonalds': 4995, 'liver': 4996, 'cest': 4997, 'voor': 4998, 'aku': 4999, 'robot': 5000, 'sem': 5001, 'urine': 5002, 'tied': 5003, 'grave': 5004, 'joking': 5005, 'intake': 5006, 'ram': 5007, 'meal': 5008, 'differently': 5009, 'sargassum': 5010, 'idaho': 5011, 'satellites': 5012, 'serving': 5013, 'skill': 5014, 'flower': 5015, 'suggested': 5016, 'beliefs': 5017, 'racial': 5018, 'lawyers': 5019, 'bush': 5020, 'waterconservation': 5021, 'unicef': 5022, 'parched': 5023, 'forgetting': 5024, 'rank': 5025, 'upgrade': 5026, 'skip': 5027, 'progressive': 5028, 'fairly': 5029, 'hindu': 5030, 'queer': 5031, 'achieving': 5032, 'voter': 5033, 'blacks': 5034, 'migrant': 5035, 'kindness': 5036, 'existed': 5037, 'confident': 5038, 'brasil': 5039, 'wheat': 5040, 'dishes': 5041, 'recycled': 5042, 'souls': 5043, 'bi': 5044, 'islam': 5045, 'choosing': 5046, 'fancy': 5047, 'jewish': 5048, 'punch': 5049, 'amor': 5050, 'dayton': 5051, 'ano': 5052, 'jin': 5053, 'collapses': 5054, 'grande': 5055, 'phrase': 5056, 'sht': 5057, 'bristol': 5058, 'manhattan': 5059, 'expanded': 5060, 'temp': 5061, 'louis': 5062, 'lamar': 5063, 'dumbass': 5064, 'imminent': 5065, 'gjt': 5066, 'flights': 5067, 'washes': 5068, 'gorgeous': 5069, 'huerfano': 5070, 'nao': 5071, 'entre': 5072, 'arkansasstormreport': 5073, 'woods': 5074, 'communication': 5075, 'pace': 5076, 'sweat': 5077, 'witness': 5078, 'mount': 5079, 'perry': 5080, 'bedroom': 5081, 'boxes': 5082, 'sandy': 5083, 'hook': 5084, 'trigger': 5085, 'electrical': 5086, 'shade': 5087, 'memes': 5088, 'shops': 5089, 'turkey': 5090, 'speaker': 5091, 'arkadelphia': 5092, 'tonights': 5093, 'doors': 5094, 'coincidence': 5095, 'lexington': 5096, 'sandwich': 5097, 'indonesias': 5098, 'undersea': 5099, 'temporarily': 5100, 'johns': 5101, 'arctic': 5102, 'kerncounty': 5103, 'summit': 5104, 'behalf': 5105, 'painting': 5106, 'scheme': 5107, 'compensation': 5108, 'recycle': 5109, 'kan': 5110, 'substance': 5111, 'valve': 5112, 'piped': 5113, 'guts': 5114, 'contaminating': 5115, 'breeding': 5116, 'pesticides': 5117, 'sauce': 5118, 'corn': 5119, 'towels': 5120, 'bt': 5121, 'grows': 5122, 'alliance': 5123, 'rolled': 5124, 'aggressive': 5125, 'draft': 5126, 'ticking': 5127, 'madness': 5128, 'pumped': 5129, 'practical': 5130, 'globally': 5131, 'consent': 5132, 'demanding': 5133, 'employment': 5134, 'mandatory': 5135, 'realise': 5136, 'largely': 5137, 'conducted': 5138, 'illnesses': 5139, 'sensor': 5140, 'objective': 5141, 'tables': 5142, 'math': 5143, 'sb': 5144, 'closely': 5145, 'sought': 5146, 'idc': 5147, 'regime': 5148, 'deputy': 5149, 'offense': 5150, 'presidency': 5151, 'une': 5152, 'implemented': 5153, 'dutch': 5154, 'earths': 5155, 'refugees': 5156, 'floors': 5157, 'contracts': 5158, 'battery': 5159, 'beside': 5160, 'rubbish': 5161, 'height': 5162, 'brushing': 5163, 'automatic': 5164, 'phosphorus': 5165, 'variety': 5166, 'grocery': 5167, 'pelosi': 5168, 'jungkook': 5169, 'yoongi': 5170, 'initiatives': 5171, 'waterborne': 5172, 'terrorism': 5173, 'mit': 5174, 'awards': 5175, 'journalists': 5176, 'smarter': 5177, 'stolen': 5178, 'lewis': 5179, 'kya': 5180, 'disabled': 5181, 'fame': 5182, 'maintaining': 5183, 'corbyn': 5184, 'complained': 5185, 'mam': 5186, 'overwhelming': 5187, 'constitutional': 5188, 'bold': 5189, 'albums': 5190, 'soccer': 5191, 'trick': 5192, 'ot': 5193, 'connections': 5194, 'ratings': 5195, 'jk': 5196, 'scream': 5197, 'remembered': 5198, 'goodnight': 5199, 'wwe': 5200, 'nominated': 5201, 'mfs': 5202, 'racists': 5203, 'mutuals': 5204, 'branches': 5205, 'victoria': 5206, 'encounter': 5207, 'expands': 5208, 'stormtracker': 5209, 'forrest': 5210, 'concordia': 5211, 'avoyelles': 5212, 'lasting': 5213, 'sdwx': 5214, 'utwx': 5215, 'villagers': 5216, 'territory': 5217, 'symptoms': 5218, 'exhausted': 5219, 'passenger': 5220, 'recreation': 5221, 'cancel': 5222, 'greeley': 5223, 'rutherford': 5224, 'morris': 5225, 'bonus': 5226, 'bucks': 5227, 'oz': 5228, 'chase': 5229, 'wvwx': 5230, 'goods': 5231, 'drove': 5232, 'toll': 5233, 'arrest': 5234, 'posing': 5235, 'fairfax': 5236, 'urge': 5237, 'shooters': 5238, 'hurricanebarry': 5239, 'arizona': 5240, 'suspended': 5241, 'impacting': 5242, 'thankfully': 5243, 'tournament': 5244, 'partly': 5245, 'frozen': 5246, 'alternate': 5247, 'repeated': 5248, 'mars': 5249, 'responded': 5250, 'laundry': 5251, 'ears': 5252, 'stupidity': 5253, 'yemeni': 5254, 'cookies': 5255, 'belief': 5256, 'chevrons': 5257, 'dep': 5258, 'smiles': 5259, 'investors': 5260, 'filed': 5261, 'barrier': 5262, 'prof': 5263, 'hose': 5264, 'breakdown': 5265, 'hearings': 5266, 'purple': 5267, 'divide': 5268, 'straws': 5269, 'needing': 5270, 'compost': 5271, 'obamas': 5272, 'shutting': 5273, 'jam': 5274, 'severely': 5275, 'watershed': 5276, 'explore': 5277, 'sword': 5278, 'endless': 5279, 'stating': 5280, 'digging': 5281, 'contains': 5282, 'touched': 5283, 'accessible': 5284, 'statistics': 5285, 'famine': 5286, 'livelihoods': 5287, 'tory': 5288, 'delivering': 5289, 'poorest': 5290, 'tattoo': 5291, 'complaints': 5292, 'mafia': 5293, 'tragedy': 5294, 'aspects': 5295, 'fries': 5296, 'potato': 5297, 'seats': 5298, 'unnecessary': 5299, 'lap': 5300, 'irony': 5301, 'gaming': 5302, 'bug': 5303, 'roots': 5304, 'containers': 5305, 'fathers': 5306, 'jr': 5307, 'nutrient': 5308, 'tourists': 5309, 'attending': 5310, 'witch': 5311, 'sons': 5312, 'mac': 5313, 'ol': 5314, 'habit': 5315, 'counts': 5316, 'bare': 5317, 'severity': 5318, 'stored': 5319, 'contractor': 5320, 'heater': 5321, 'lettuce': 5322, 'shirts': 5323, 'pollutants': 5324, 'emails': 5325, 'tipo': 5326, 'fights': 5327, 'wat': 5328, 'zijn': 5329, 'commitment': 5330, 'hardest': 5331, 'medium': 5332, 'nagar': 5333, 'android': 5334, 'chosen': 5335, 'mains': 5336, 'blamed': 5337, 'fails': 5338, 'sur': 5339, 'haters': 5340, 'ryan': 5341, 'veto': 5342, 'deprived': 5343, 'jal': 5344, 'pumps': 5345, 'dedicated': 5346, 'engage': 5347, 'mcconnell': 5348, 'algo': 5349, 'korean': 5350, 'races': 5351, 'hoy': 5352, 'novel': 5353, 'disability': 5354, 'conserve': 5355, 'heroes': 5356, 'jay': 5357, 'print': 5358, 'solving': 5359, 'hunger': 5360, 'beneficial': 5361, 'owe': 5362, 'shoe': 5363, 'hindi': 5364, 'contest': 5365, 'messed': 5366, 'nap': 5367, 'cult': 5368, 'ambulance': 5369, 'kasi': 5370, 'cooked': 5371, 'lame': 5372, 'offensive': 5373, 'punishment': 5374, 'kat': 5375, 'reasonable': 5376, 'sisulu': 5377, 'assistant': 5378, 'tshirt': 5379, 'nursing': 5380, 'findings': 5381, 'academy': 5382, 'expose': 5383, 'semana': 5384, 'desde': 5385, 'victory': 5386, 'ffs': 5387, 'slavery': 5388, 'genre': 5389, 'comeback': 5390, 'mentality': 5391, 'hack': 5392, 'mutual': 5393, 'amazed': 5394, 'soo': 5395, 'prob': 5396, 'darkness': 5397, 'droughttolerant': 5398, 'belongs': 5399, 'donations': 5400, 'dragon': 5401, 'handsome': 5402, 'polls': 5403, 'shy': 5404, 'selfish': 5405, 'dormir': 5406, 'ficar': 5407, 'dele': 5408, 'layout': 5409, 'therapist': 5410, 'voy': 5411, 'tourist': 5412, 'gate': 5413, 'cameron': 5414, 'subway': 5415, 'pools': 5416, 'sends': 5417, 'dave': 5418, 'sounded': 5419, 'steady': 5420, 'westchester': 5421, 'ctwx': 5422, 'gila': 5423, 'cave': 5424, 'slight': 5425, 'ron': 5426, 'birdseye': 5427, 'tanto': 5428, 'cheyenne': 5429, 'punk': 5430, 'sunny': 5431, 'courts': 5432, 'henry': 5433, 'deer': 5434, 'ein': 5435, 'mitigation': 5436, 'newly': 5437, 'walker': 5438, 'terror': 5439, 'infested': 5440, 'princess': 5441, 'soaked': 5442, 'pitch': 5443, 'timing': 5444, 'costly': 5445, 'resist': 5446, 'relatively': 5447, 'collins': 5448, 'dawn': 5449, 'dads': 5450, 'meg': 5451, 'belle': 5452, 'heights': 5453, 'ghana': 5454, 'frame': 5455, 'improvement': 5456, 'singer': 5457, 'knee': 5458, 'amen': 5459, 'mineral': 5460, 'permission': 5461, 'cruelty': 5462, 'andrew': 5463, 'drowning': 5464, 'warmer': 5465, 'peaceful': 5466, 'courtesy': 5467, 'tastes': 5468, 'represents': 5469, 'dried': 5470, 'shores': 5471, 'opens': 5472, 'devastated': 5473, 'somewhat': 5474, 'panels': 5475, 'accidents': 5476, 'catastrophe': 5477, 'poured': 5478, 'liter': 5479, 'plugging': 5480, 'climateaction': 5481, 'scratch': 5482, 'expression': 5483, 'litigation': 5484, 'operating': 5485, 'vietnam': 5486, 'whales': 5487, 'gasoline': 5488, 'beans': 5489, 'conduct': 5490, 'refinery': 5491, 'styles': 5492, 'pages': 5493, 'linda': 5494, 'sunshine': 5495, 'cas': 5496, 'backup': 5497, 'rally': 5498, 'bugs': 5499, 'sues': 5500, 'egg': 5501, 'activists': 5502, 'cement': 5503, 'hub': 5504, 'toe': 5505, 'cmon': 5506, 'visits': 5507, 'regs': 5508, 'borders': 5509, 'dyk': 5510, 'birmingham': 5511, 'shadow': 5512, 'conclusion': 5513, 'municipality': 5514, 'straw': 5515, 'downstream': 5516, 'methane': 5517, 'generate': 5518, 'mines': 5519, 'methods': 5520, 'itu': 5521, 'bang': 5522, 'oo': 5523, 'percentage': 5524, 'aliens': 5525, 'virus': 5526, 'achieved': 5527, 'greatlakes': 5528, 'attorney': 5529, 'spoiled': 5530, 'desk': 5531, 'sr': 5532, 'erin': 5533, 'backing': 5534, 'competitive': 5535, 'chapter': 5536, 'idiotic': 5537, 'collecting': 5538, 'proves': 5539, 'relax': 5540, 'mens': 5541, 'bcs': 5542, 'optimistic': 5543, 'acknowledge': 5544, 'loaded': 5545, 'lists': 5546, 'nba': 5547, 'mall': 5548, 'ultimately': 5549, 'purification': 5550, 'thou': 5551, 'wala': 5552, 'filth': 5553, 'successfully': 5554, 'cage': 5555, 'manure': 5556, 'strongly': 5557, 'mondaymotivation': 5558, 'hype': 5559, 'soooo': 5560, 'paani': 5561, 'habs': 5562, 'criticize': 5563, 'utter': 5564, 'wicked': 5565, 'portable': 5566, 'writer': 5567, 'presented': 5568, 'exchange': 5569, 'wastage': 5570, 'demands': 5571, 'fiction': 5572, 'overcome': 5573, 'pat': 5574, 'bot': 5575, 'stable': 5576, 'mucho': 5577, 'intelligent': 5578, 'payments': 5579, 'partnership': 5580, 'cooperation': 5581, 'presenting': 5582, 'nas': 5583, 'wolf': 5584, 'hain': 5585, 'drinkable': 5586, 'reactor': 5587, 'vibe': 5588, 'laughs': 5589, 'dod': 5590, 'liking': 5591, 'landfill': 5592, 'scum': 5593, 'rly': 5594, 'supremacist': 5595, 'elijah': 5596, 'adds': 5597, 'react': 5598, 'gen': 5599, 'motivation': 5600, 'answered': 5601, 'palestinians': 5602, 'nurse': 5603, 'fundamental': 5604, 'meetings': 5605, 'instantly': 5606, 'blankets': 5607, 'aunt': 5608, 'tub': 5609, 'exam': 5610, 'lesbian': 5611, 'wealthy': 5612, 'hora': 5613, 'openly': 5614, 'clips': 5615, 'scored': 5616, 'armys': 5617, 'strangers': 5618, 'lonely': 5619, 'assim': 5620, 'puppet': 5621, 'queria': 5622, 'comics': 5623, 'seu': 5624, 'pedo': 5625, 'aber': 5626, 'screenshots': 5627, 'faz': 5628, 'hm': 5629, 'tue': 5630, 'vawx': 5631, 'anderson': 5632, 'fog': 5633, 'entertainment': 5634, 'hoboken': 5635, 'fairfield': 5636, 'problematic': 5637, 'mills': 5638, 'tragic': 5639, 'webster': 5640, 'auch': 5641, 'interactive': 5642, 'camping': 5643, 'moron': 5644, 'saturated': 5645, 'denver': 5646, 'passengers': 5647, 'cambodia': 5648, 'lighting': 5649, 'drip': 5650, 'unusual': 5651, 'wipe': 5652, 'maria': 5653, 'crossing': 5654, 'douglas': 5655, 'wildfire': 5656, 'confusing': 5657, 'suggests': 5658, 'kno': 5659, 'dewx': 5660, 'sang': 5661, 'wilson': 5662, 'witnessed': 5663, 'lwx': 5664, 'alex': 5665, 'madrid': 5666, 'pleasant': 5667, 'saline': 5668, 'cameras': 5669, 'mentions': 5670, 'prospect': 5671, 'oak': 5672, 'saints': 5673, 'antibiotics': 5674, 'triple': 5675, 'lmaooo': 5676, 'buckets': 5677, 'calhoun': 5678, 'robin': 5679, 'extend': 5680, 'uber': 5681, 'prescott': 5682, 'formed': 5683, 'woah': 5684, 'jason': 5685, 'goodness': 5686, 'gap': 5687, 'pointless': 5688, 'hydro': 5689, 'shawn': 5690, 'spotify': 5691, 'spewing': 5692, 'studio': 5693, 'platforms': 5694, 'absorb': 5695, 'reaches': 5696, 'examples': 5697, 'denial': 5698, 'regulate': 5699, 'pen': 5700, 'welcomes': 5701, 'uae': 5702, 'intentional': 5703, 'caribbean': 5704, 'galaxy': 5705, 'frank': 5706, 'workout': 5707, 'featured': 5708, 'aging': 5709, 'flags': 5710, 'desperately': 5711, 'buried': 5712, 'tar': 5713, 'disturbing': 5714, 'lmaoooo': 5715, 'organizations': 5716, 'pork': 5717, 'jar': 5718, 'banana': 5719, 'stocks': 5720, 'touring': 5721, 'cracked': 5722, 'folk': 5723, 'devices': 5724, 'mindset': 5725, 'grandpa': 5726, 'enhance': 5727, 'reporters': 5728, 'papers': 5729, 'chip': 5730, 'litter': 5731, 'implications': 5732, 'italian': 5733, 'shampoo': 5734, 'pits': 5735, 'syria': 5736, 'deemed': 5737, 'lagi': 5738, 'hood': 5739, 'greatly': 5740, 'socks': 5741, 'pier': 5742, 'stretching': 5743, 'cheating': 5744, 'laid': 5745, 'sabotage': 5746, 'recommended': 5747, 'jane': 5748, 'originally': 5749, 'shield': 5750, 'towel': 5751, 'flip': 5752, 'script': 5753, 'sanctuary': 5754, 'greedy': 5755, 'daughters': 5756, 'wellbeing': 5757, 'sunset': 5758, 'recognition': 5759, 'recognized': 5760, 'advanced': 5761, 'affairs': 5762, 'spreads': 5763, 'strict': 5764, 'basketball': 5765, 'intentionally': 5766, 'plumbers': 5767, 'aspect': 5768, 'guaranteed': 5769, 'copper': 5770, 'spaces': 5771, 'nurses': 5772, 'bakteri': 5773, 'kidney': 5774, 'lbs': 5775, 'forming': 5776, 'concentrations': 5777, 'description': 5778, 'fitness': 5779, 'temple': 5780, 'networks': 5781, 'monsters': 5782, 'consistently': 5783, 'sarah': 5784, 'therapy': 5785, 'spare': 5786, 'manner': 5787, 'bowls': 5788, 'ganga': 5789, 'tactic': 5790, 'nhs': 5791, 'hotels': 5792, 'explaining': 5793, 'congressional': 5794, 'server': 5795, 'tambin': 5796, 'tooth': 5797, 'technically': 5798, 'sacrifice': 5799, 'wages': 5800, 'designs': 5801, 'nie': 5802, 'cultural': 5803, 'chennaiwatercrisis': 5804, 'explanation': 5805, 'nicole': 5806, 'proposal': 5807, 'controlled': 5808, 'gut': 5809, 'coats': 5810, 'apps': 5811, 'ek': 5812, 'hv': 5813, 'cramps': 5814, 'charging': 5815, 'hunter': 5816, 'punished': 5817, 'wh': 5818, 'ownership': 5819, 'merely': 5820, 'condemn': 5821, 'ministers': 5822, 'aw': 5823, 'barbie': 5824, 'beg': 5825, 'inclusive': 5826, 'stunning': 5827, 'kingdom': 5828, 'loans': 5829, 'bombs': 5830, 'hyderabad': 5831, 'minhas': 5832, 'cheer': 5833, 'mute': 5834, 'starbucks': 5835, 'ofc': 5836, 'troll': 5837, 'closeness': 5838, 'foto': 5839, 'scheduled': 5840, 'genuine': 5841, 'whatsoever': 5842, 'petty': 5843, 'wrestling': 5844, 'satan': 5845, 'begging': 5846, 'pela': 5847, 'giveaway': 5848, 'finna': 5849, 'mtvhottest': 5850, 'vid': 5851, 'bullying': 5852, 'sua': 5853, 'moscowmitch': 5854, 'demon': 5855, 'ideology': 5856, 'prompted': 5857, 'restaurants': 5858, 'assess': 5859, 'avoiding': 5860, 'knox': 5861, 'suffolk': 5862, 'flushing': 5863, 'carter': 5864, 'meigs': 5865, 'susceptible': 5866, 'coastline': 5867, 'cousins': 5868, 'periods': 5869, 'rush': 5870, 'canceled': 5871, 'phi': 5872, 'casual': 5873, 'logan': 5874, 'johnston': 5875, 'holmes': 5876, 'winston': 5877, 'albuquerque': 5878, 'zoom': 5879, 'barcelona': 5880, 'resort': 5881, 'newx': 5882, 'cent': 5883, 'blew': 5884, 'sierra': 5885, 'alpine': 5886, 'kswx': 5887, 'gray': 5888, 'ross': 5889, 'lzk': 5890, 'hunterdon': 5891, 'displaced': 5892, 'kansas': 5893, 'firefighters': 5894, 'liberty': 5895, 'unstable': 5896, 'sooner': 5897, 'ashley': 5898, 'tail': 5899, 'lonoke': 5900, 'hotter': 5901, 'unlikely': 5902, 'inw': 5903, 'expectations': 5904, 'carefully': 5905, 'hydrated': 5906, 'damned': 5907, 'atmospheric': 5908, 'float': 5909, 'diamond': 5910, 'caralho': 5911, 'forth': 5912, 'begun': 5913, 'determined': 5914, 'minerals': 5915, 'maritime': 5916, 'continent': 5917, 'whale': 5918, 'karawang': 5919, 'ay': 5920, 'resolution': 5921, 'alaska': 5922, 'tunnel': 5923, 'profits': 5924, 'racing': 5925, 'waited': 5926, 'entrance': 5927, 'recsoenvirospill': 5928, 'carries': 5929, 'spiritual': 5930, 'surveillance': 5931, 'unfortunate': 5932, 'fearing': 5933, 'rotten': 5934, 'indication': 5935, 'bee': 5936, 'penny': 5937, 'chilling': 5938, 'demonstrate': 5939, 'sue': 5940, 'belly': 5941, 'reject': 5942, 'aerial': 5943, 'permanently': 5944, 'cheers': 5945, 'counting': 5946, 'cawater': 5947, 'stewart': 5948, 'fascinating': 5949, 'nigerian': 5950, 'containing': 5951, 'reserves': 5952, 'operator': 5953, 'emotionally': 5954, 'alien': 5955, 'musical': 5956, 'inequality': 5957, 'shipped': 5958, 'isis': 5959, 'credibility': 5960, 'gains': 5961, 'pile': 5962, 'wrapped': 5963, 'magical': 5964, 'dragging': 5965, 'attract': 5966, 'exploded': 5967, 'losses': 5968, 'sessions': 5969, 'tories': 5970, 'shining': 5971, 'trainer': 5972, 'solved': 5973, 'hosting': 5974, 'asset': 5975, 'teens': 5976, 'purchased': 5977, 'submit': 5978, 'bubble': 5979, 'thrilled': 5980, 'underneath': 5981, 'broader': 5982, 'cable': 5983, 'developers': 5984, 'powered': 5985, 'foul': 5986, 'expressed': 5987, 'shorts': 5988, 'btch': 5989, 'overflows': 5990, 'rashes': 5991, 'flushed': 5992, 'bitcoin': 5993, 'packs': 5994, 'candy': 5995, 'healthier': 5996, 'sama': 5997, 'microplastic': 5998, 'diapers': 5999, 'pentagon': 6000, 'screening': 6001, 'handy': 6002, 'xbox': 6003, 'aur': 6004, 'pani': 6005, 'refusing': 6006, 'mw': 6007, 'watertreatment': 6008, 'drank': 6009, 'donors': 6010, 'visual': 6011, 'releases': 6012, 'toxin': 6013, 'newspaper': 6014, 'lurking': 6015, 'dnc': 6016, 'nationalist': 6017, 'messy': 6018, 'afghanistan': 6019, 'stones': 6020, 'packed': 6021, 'bothered': 6022, 'kamala': 6023, 'trillion': 6024, 'pfoa': 6025, 'kidneys': 6026, 'esa': 6027, 'antes': 6028, 'thee': 6029, 'fam': 6030, 'appearance': 6031, 'saber': 6032, 'software': 6033, 'outcomes': 6034, 'cannabis': 6035, 'ti': 6036, 'nova': 6037, 'parece': 6038, 'mandate': 6039, 'clarity': 6040, 'dialogue': 6041, 'tempo': 6042, 'exhausting': 6043, 'soup': 6044, 'resolved': 6045, 'furniture': 6046, 'intentions': 6047, 'baat': 6048, 'forests': 6049, 'interaction': 6050, 'aus': 6051, 'globalgoals': 6052, 'coeur': 6053, 'happily': 6054, 'hind': 6055, 'immigrant': 6056, 'equality': 6057, 'sucked': 6058, 'dreaming': 6059, 'backpack': 6060, 'complicated': 6061, 'whatsapp': 6062, 'promoted': 6063, 'shaking': 6064, 'protects': 6065, 'coward': 6066, 'siempre': 6067, 'clout': 6068, 'enemies': 6069, 'hired': 6070, 'legitimate': 6071, 'pak': 6072, 'abused': 6073, 'bites': 6074, 'sticks': 6075, 'mainstream': 6076, 'minecraft': 6077, 'matches': 6078, 'vous': 6079, 'thy': 6080, 'designer': 6081, 'awkward': 6082, 'sich': 6083, 'representing': 6084, 'rant': 6085, 'bu': 6086, 'texting': 6087, 'creator': 6088, 'backs': 6089, 'realised': 6090, 'empathy': 6091, 'craving': 6092, 'favs': 6093, 'wallace': 6094, 'soy': 6095, 'che': 6096, 'hace': 6097, 'poc': 6098, 'beyonc': 6099, 'vo': 6100, 'terrified': 6101, 'ovie': 6102, 'tacha': 6103, 'fave': 6104, 'dip': 6105, 'climatechangeisreal': 6106, 'venue': 6107, 'txwx': 6108, 'quiz': 6109, 'ncwx': 6110, 'heaviest': 6111, 'incoming': 6112, 'middlesex': 6113, 'shits': 6114, 'shaded': 6115, 'outages': 6116, 'humid': 6117, 'intern': 6118, 'shallow': 6119, 'indicating': 6120, 'covington': 6121, 'hier': 6122, 'platte': 6123, 'monsoons': 6124, 'azwx': 6125, 'carson': 6126, 'indicates': 6127, 'rehabilitation': 6128, 'hasta': 6129, 'sponsored': 6130, 'katv': 6131, 'continuous': 6132, 'motion': 6133, 'outfit': 6134, 'camden': 6135, 'osage': 6136, 'newest': 6137, 'newark': 6138, 'motorists': 6139, 'yt': 6140, 'ingredients': 6141, 'isle': 6142, 'vernon': 6143, 'feliciana': 6144, 'natchez': 6145, 'unexpected': 6146, 'wheel': 6147, 'saint': 6148, 'oregon': 6149, 'atm': 6150, 'tucker': 6151, 'extensive': 6152, 'tyler': 6153, 'neelumvalley': 6154, 'hawk': 6155, 'fewer': 6156, 'nyt': 6157, 'feeder': 6158, 'backwards': 6159, 'ea': 6160, 'waupaca': 6161, 'marathon': 6162, 'tents': 6163, 'womans': 6164, 'boots': 6165, 'diverse': 6166, 'fossilfuels': 6167, 'vessels': 6168, 'seeping': 6169, 'authors': 6170, 'frequently': 6171, 'manmade': 6172, 'endangers': 6173, 'socalled': 6174, 'scrambling': 6175, 'degradation': 6176, 'insight': 6177, 'publichealth': 6178, 'exhaust': 6179, 'instance': 6180, 'eightmile': 6181, 'digest': 6182, 'remembering': 6183, 'motor': 6184, 'mature': 6185, 'reflection': 6186, 'irl': 6187, 'inconvenience': 6188, 'meaningful': 6189, 'coral': 6190, 'reef': 6191, 'lanka': 6192, 'risky': 6193, 'sinks': 6194, 'bins': 6195, 'exploration': 6196, 'critics': 6197, 'ama': 6198, 'onwj': 6199, 'tp': 6200, 'flu': 6201, 'immune': 6202, 'consumer': 6203, 'essay': 6204, 'discount': 6205, 'sectors': 6206, 'kicking': 6207, 'minyak': 6208, 'tattoos': 6209, 'refreshing': 6210, 'focusing': 6211, 'operational': 6212, 'outlets': 6213, 'fate': 6214, 'ahh': 6215, 'childrens': 6216, 'judges': 6217, 'difficulty': 6218, 'disastrous': 6219, 'burnt': 6220, 'feds': 6221, 'mega': 6222, 'detail': 6223, 'arguments': 6224, 'brains': 6225, 'discharges': 6226, 'mana': 6227, 'australias': 6228, 'judging': 6229, 'yelled': 6230, 'bits': 6231, 'edible': 6232, 'nya': 6233, 'diversity': 6234, 'iconic': 6235, 'villain': 6236, 'invested': 6237, 'blows': 6238, 'combo': 6239, 'amy': 6240, 'seed': 6241, 'pres': 6242, 'recipe': 6243, 'angels': 6244, 'introduce': 6245, 'violations': 6246, 'offices': 6247, 'og': 6248, 'presentation': 6249, 'chuck': 6250, 'richard': 6251, 'clueless': 6252, 'supplied': 6253, 'pakistani': 6254, 'sealed': 6255, 'kung': 6256, 'migrants': 6257, 'aap': 6258, 'organisation': 6259, 'mein': 6260, 'cd': 6261, 'ook': 6262, 'christmas': 6263, 'gifts': 6264, 'lakh': 6265, 'tambm': 6266, 'crypto': 6267, 'microbial': 6268, 'feces': 6269, 'depend': 6270, 'uit': 6271, 'bore': 6272, 'threads': 6273, 'giants': 6274, 'mismanagement': 6275, 'slap': 6276, 'theatre': 6277, 'treasure': 6278, 'hydrogen': 6279, 'blade': 6280, 'minorities': 6281, 'packaging': 6282, 'toys': 6283, 'fascism': 6284, 'estado': 6285, 'odds': 6286, 'assholes': 6287, 'incorrect': 6288, 'secrets': 6289, 'wie': 6290, 'npr': 6291, 'wildfires': 6292, 'infected': 6293, 'fc': 6294, 'arabia': 6295, 'presidente': 6296, 'expertise': 6297, 'bharat': 6298, 'philippines': 6299, 'consumers': 6300, 'worship': 6301, 'veces': 6302, 'advertising': 6303, 'realistic': 6304, 'justin': 6305, 'laboratory': 6306, 'shameful': 6307, 'aged': 6308, 'crashed': 6309, 'stairs': 6310, 'lip': 6311, 'hacer': 6312, 'torn': 6313, 'nest': 6314, 'feeds': 6315, 'kar': 6316, 'blonde': 6317, 'zip': 6318, 'shite': 6319, 'bo': 6320, 'addiction': 6321, 'supposedly': 6322, 'genocide': 6323, 'surprising': 6324, 'humanrights': 6325, 'unfollow': 6326, 'eva': 6327, 'disappear': 6328, 'provider': 6329, 'manipulated': 6330, 'donated': 6331, 'forgiveness': 6332, 'knife': 6333, 'molly': 6334, 'ethiopia': 6335, 'intent': 6336, 'assaulted': 6337, 'deaf': 6338, 'lineup': 6339, 'introducing': 6340, 'uno': 6341, 'seekers': 6342, 'savings': 6343, 'inhumane': 6344, 'texts': 6345, 'bitter': 6346, 'intellectual': 6347, 'approached': 6348, 'nausea': 6349, 'supportive': 6350, 'roles': 6351, 'hillyard': 6352, 'rage': 6353, 'guitar': 6354, 'raped': 6355, 'bros': 6356, 'traitor': 6357, 'reflect': 6358, 'blown': 6359, 'infants': 6360, 'defensive': 6361, 'palace': 6362, 'rings': 6363, 'subscribe': 6364, 'questioning': 6365, 'reagan': 6366, 'monthly': 6367, 'yell': 6368, 'nancy': 6369, 'idols': 6370, 'relation': 6371, 'cared': 6372, 'beast': 6373, 'retire': 6374, 'boa': 6375, 'feliz': 6376, 'austin': 6377, 'crosscontamination': 6378, 'kyle': 6379, 'writers': 6380, 'interviews': 6381, 'bullied': 6382, 'coaches': 6383, 'dressed': 6384, 'visto': 6385, 'thin': 6386, 'theater': 6387, 'leaf': 6388, 'flashflooding': 6389, 'clock': 6390, 'terminal': 6391, 'sullivan': 6392, 'heavier': 6393, 'ri': 6394, 'stfu': 6395, 'blessing': 6396, 'landslide': 6397, 'precautions': 6398, 'rained': 6399, 'reserve': 6400, 'peeps': 6401, 'catchment': 6402, 'ecology': 6403, 'cruise': 6404, 'grounds': 6405, 'pago': 6406, 'havoc': 6407, 'wasatch': 6408, 'plates': 6409, 'pilot': 6410, 'luis': 6411, 'patrol': 6412, 'stormalert': 6413, 'hazards': 6414, 'studied': 6415, 'rushing': 6416, 'bulletin': 6417, 'ajk': 6418, 'fiji': 6419, 'monmouth': 6420, 'persist': 6421, 'seeks': 6422, 'males': 6423, 'niece': 6424, 'maui': 6425, 'cleanse': 6426, 'zoo': 6427, 'manchester': 6428, 'ts': 6429, 'trusted': 6430, 'dcweather': 6431, 'spares': 6432, 'dramatic': 6433, 'stages': 6434, 'burns': 6435, 'paz': 6436, 'ouachita': 6437, 'hometown': 6438, 'narrow': 6439, 'reservation': 6440, 'evangeline': 6441, 'assumption': 6442, 'whereas': 6443, 'maker': 6444, 'flex': 6445, 'culprit': 6446, 'struggles': 6447, 'tab': 6448, 'shawano': 6449, 'garage': 6450, 'cherry': 6451, 'dmv': 6452, 'spillage': 6453, 'untouched': 6454, 'proving': 6455, 'malaysia': 6456, 'miner': 6457, 'publication': 6458, 'sodium': 6459, 'sued': 6460, 'rapper': 6461, 'frustrating': 6462, 'ted': 6463, 'regard': 6464, 'observer': 6465, 'husky': 6466, 'transmountain': 6467, 'harbour': 6468, 'oily': 6469, 'loop': 6470, 'lung': 6471, 'answering': 6472, 'lawn': 6473, 'thriving': 6474, 'stem': 6475, 'strip': 6476, 'regulatory': 6477, 'apollo': 6478, 'nb': 6479, 'populations': 6480, 'seas': 6481, 'returning': 6482, 'algoa': 6483, 'filtered': 6484, 'implementation': 6485, 'reopen': 6486, 'pretending': 6487, 'montreal': 6488, 'junior': 6489, 'supplier': 6490, 'recession': 6491, 'jeans': 6492, 'balloon': 6493, 'iceland': 6494, 'productivity': 6495, 'gently': 6496, 'convert': 6497, 'injection': 6498, 'applying': 6499, 'okeechobee': 6500, 'greens': 6501, 'sanctions': 6502, 'migration': 6503, 'timely': 6504, 'wire': 6505, 'quantities': 6506, 'arena': 6507, 'sean': 6508, 'preserve': 6509, 'poshmark': 6510, 'shopmycloset': 6511, 'defined': 6512, 'acted': 6513, 'operators': 6514, 'portland': 6515, 'extract': 6516, 'kaya': 6517, 'assisting': 6518, 'eats': 6519, 'expanding': 6520, 'hum': 6521, 'nonprofit': 6522, 'centuries': 6523, 'loyalty': 6524, 'investments': 6525, 'eliminating': 6526, 'references': 6527, 'mv': 6528, 'pending': 6529, 'tens': 6530, 'clever': 6531, 'coworker': 6532, 'aimed': 6533, 'reactions': 6534, 'stickers': 6535, 'supplying': 6536, 'lobby': 6537, 'melbourne': 6538, 'agar': 6539, 'nur': 6540, 'requiring': 6541, 'tamilnadu': 6542, 'heal': 6543, 'outstanding': 6544, 'typhoid': 6545, 'problema': 6546, 'hepatitis': 6547, 'borne': 6548, 'pasta': 6549, 'measured': 6550, 'evolution': 6551, 'default': 6552, 'stephen': 6553, 'cock': 6554, 'pulls': 6555, 'ge': 6556, 'russians': 6557, 'relaxing': 6558, 'patterns': 6559, 'innovations': 6560, 'commonly': 6561, 'nestle': 6562, 'targeting': 6563, 'meds': 6564, 'whining': 6565, 'consistent': 6566, 'iced': 6567, 'attempts': 6568, 'revenue': 6569, 'fifth': 6570, 'singh': 6571, 'goin': 6572, 'hockey': 6573, 'crore': 6574, 'carrier': 6575, 'vet': 6576, 'topics': 6577, 'nitrogen': 6578, 'eine': 6579, 'urgently': 6580, 'bite': 6581, 'bullet': 6582, 'horses': 6583, 'unity': 6584, 'oldest': 6585, 'artificial': 6586, 'mussels': 6587, 'goa': 6588, 'chairman': 6589, 'shaming': 6590, 'registration': 6591, 'tanzania': 6592, 'disgraceful': 6593, 'basics': 6594, 'smashed': 6595, 'academic': 6596, 'soak': 6597, 'conclusions': 6598, 'cooling': 6599, 'increasingly': 6600, 'jammu': 6601, 'bravo': 6602, 'cure': 6603, 'dalene': 6604, 'sins': 6605, 'selfie': 6606, 'frustrated': 6607, 'federation': 6608, 'voices': 6609, 'grants': 6610, 'tener': 6611, 'encouraging': 6612, 'trophy': 6613, 'committing': 6614, 'prisoners': 6615, 'messing': 6616, 'void': 6617, 'consuming': 6618, 'abundance': 6619, 'overseas': 6620, 'codes': 6621, 'improves': 6622, 'siblings': 6623, 'recording': 6624, 'translation': 6625, 'admitted': 6626, 'tiger': 6627, 'compassion': 6628, 'workshops': 6629, 'convicted': 6630, 'wears': 6631, 'dawg': 6632, 'bid': 6633, 'accent': 6634, 'andy': 6635, 'flop': 6636, 'necessarily': 6637, 'pence': 6638, 'sensible': 6639, 'olds': 6640, 'grind': 6641, 'dedication': 6642, 'pelo': 6643, 'euphoria': 6644, 'eaten': 6645, 'asses': 6646, 'danny': 6647, 'eles': 6648, 'impeach': 6649, 'hip': 6650, 'dass': 6651, 'abusive': 6652, 'mag': 6653, 'mets': 6654, 'landed': 6655, 'clowns': 6656, 'predicts': 6657, 'dishonest': 6658, 'foster': 6659, 'quero': 6660, 'algum': 6661, 'bolsonaro': 6662, 'ariana': 6663, 'jogo': 6664, 'cowards': 6665, 'leftist': 6666, 'falar': 6667, 'thor': 6668, 'boi': 6669, 'sane': 6670, 'nassau': 6671, 'notification': 6672, 'fucks': 6673, 'puddles': 6674, 'badass': 6675, 'soaking': 6676, 'mawx': 6677, 'destructive': 6678, 'lix': 6679, 'nne': 6680, 'viewed': 6681, 'kingston': 6682, 'dragged': 6683, 'wcbi': 6684, 'imagery': 6685, 'needles': 6686, 'roberts': 6687, 'severeweather': 6688, 'cont': 6689, 'interstate': 6690, 'blvd': 6691, 'costilla': 6692, 'headlines': 6693, 'graphic': 6694, 'pima': 6695, 'ak': 6696, 'concerning': 6697, 'criteria': 6698, 'substantial': 6699, 'persistent': 6700, 'corridor': 6701, 'cole': 6702, 'founded': 6703, 'requesting': 6704, 'rogers': 6705, 'emergencies': 6706, 'declare': 6707, 'primarily': 6708, 'alarms': 6709, 'tht': 6710, 'comprehend': 6711, 'privileged': 6712, 'decatur': 6713, 'nepal': 6714, 'poses': 6715, 'vlog': 6716, 'lifting': 6717, 'jams': 6718, 'wales': 6719, 'arx': 6720, 'woodbury': 6721, 'kicks': 6722, 'midst': 6723, 'winnebago': 6724, 'crosse': 6725, 'manistee': 6726, 'goddamn': 6727, 'loser': 6728, 'colored': 6729, 'wth': 6730, 'programming': 6731, 'meltdown': 6732, 'sustained': 6733, 'prolonged': 6734, 'upside': 6735, 'renewables': 6736, 'inability': 6737, 'sciences': 6738, 'grief': 6739, 'bound': 6740, 'filming': 6741, 'adaptation': 6742, 'motorway': 6743, 'feinstein': 6744, 'importantly': 6745, 'pertaminas': 6746, 'basra': 6747, 'aluminum': 6748, 'remained': 6749, 'libs': 6750, 'sells': 6751, 'airlines': 6752, 'creatures': 6753, 'fabulous': 6754, 'visitors': 6755, 'contaminant': 6756, 'tesla': 6757, 'mouse': 6758, 'aja': 6759, 'singapore': 6760, 'robbed': 6761, 'sickening': 6762, 'coalition': 6763, 'regulated': 6764, 'misleading': 6765, 'fever': 6766, 'blanket': 6767, 'jakpost': 6768, 'admire': 6769, 'oils': 6770, 'convo': 6771, 'dengan': 6772, 'awhile': 6773, 'letters': 6774, 'sheet': 6775, 'sme': 6776, 'chips': 6777, 'experiment': 6778, 'tainted': 6779, 'ripped': 6780, 'enormous': 6781, 'honduras': 6782, 'awarded': 6783, 'probe': 6784, 'featuring': 6785, 'acute': 6786, 'identifying': 6787, 'beaten': 6788, 'climb': 6789, 'decline': 6790, 'spider': 6791, 'workplace': 6792, 'speakers': 6793, 'entry': 6794, 'livelihood': 6795, 'dari': 6796, 'chairs': 6797, 'trends': 6798, 'serves': 6799, 'quebec': 6800, 'transit': 6801, 'sincerely': 6802, 'catching': 6803, 'farmington': 6804, 'spoil': 6805, 'burgers': 6806, 'herald': 6807, 'theft': 6808, 'sticking': 6809, 'contribution': 6810, 'incompetent': 6811, 'rarely': 6812, 'liars': 6813, 'personnel': 6814, 'subs': 6815, 'decrease': 6816, 'mortality': 6817, 'alongside': 6818, 'conducting': 6819, 'installing': 6820, 'booth': 6821, 'om': 6822, 'focuses': 6823, 'goat': 6824, 'ref': 6825, 'tolerant': 6826, 'gracias': 6827, 'warrior': 6828, 'toddlers': 6829, 'listeria': 6830, 'applies': 6831, 'distributed': 6832, 'egypt': 6833, 'processed': 6834, 'recalled': 6835, 'tout': 6836, 'parade': 6837, 'courage': 6838, 'embrace': 6839, 'introduction': 6840, 'dependent': 6841, 'requirement': 6842, 'curse': 6843, 'baking': 6844, 'bump': 6845, 'bangalore': 6846, 'grid': 6847, 'abroad': 6848, 'brutal': 6849, 'rejected': 6850, 'tolerance': 6851, 'cinema': 6852, 'hostile': 6853, 'knees': 6854, 'poo': 6855, 'sip': 6856, 'startup': 6857, 'iba': 6858, 'occasionally': 6859, 'spicy': 6860, 'medication': 6861, 'ken': 6862, 'invisible': 6863, 'hid': 6864, 'cans': 6865, 'stainless': 6866, 'slutsforsalt': 6867, 'dialysis': 6868, 'mir': 6869, 'auf': 6870, 'ella': 6871, 'duh': 6872, 'nowadays': 6873, 'fried': 6874, 'bull': 6875, 'angle': 6876, 'functioning': 6877, 'adapt': 6878, 'bengaluru': 6879, 'li': 6880, 'youtuber': 6881, 'ruled': 6882, 'treason': 6883, 'strengthen': 6884, 'gathering': 6885, 'vice': 6886, 'watersecurity': 6887, 'referred': 6888, 'boxing': 6889, 'displacement': 6890, 'desertification': 6891, 'repaired': 6892, 'scarce': 6893, 'continuously': 6894, 'qualify': 6895, 'interviewed': 6896, 'rebates': 6897, 'nga': 6898, 'guards': 6899, 'creation': 6900, 'bikini': 6901, 'perceived': 6902, 'sexually': 6903, 'boarding': 6904, 'unclean': 6905, 'ancestors': 6906, 'ali': 6907, 'cart': 6908, 'homework': 6909, 'vegetable': 6910, 'anthony': 6911, 'succeed': 6912, 'gem': 6913, 'kisses': 6914, 'touches': 6915, 'inspire': 6916, 'rated': 6917, 'lovers': 6918, 'toddler': 6919, 'anos': 6920, 'selfies': 6921, 'alleged': 6922, 'ginger': 6923, 'respectful': 6924, 'ranked': 6925, 'mbarara': 6926, 'patrick': 6927, 'lagos': 6928, 'policing': 6929, 'worsening': 6930, 'afdb': 6931, 'replying': 6932, 'joins': 6933, 'personas': 6934, 'ranks': 6935, 'horny': 6936, 'dehydration': 6937, 'discord': 6938, 'coalash': 6939, 'cliff': 6940, 'pad': 6941, 'fruits': 6942, 'criticizing': 6943, 'colleague': 6944, 'depressing': 6945, 'intensifies': 6946, 'conscience': 6947, 'blackpink': 6948, 'nerves': 6949, 'omfg': 6950, 'communicate': 6951, 'chick': 6952, 'christians': 6953, 'uniform': 6954, 'insta': 6955, 'wolves': 6956, 'uni': 6957, 'tt': 6958, 'toy': 6959, 'disrespect': 6960, 'thief': 6961, 'playoffs': 6962, 'yu': 6963, 'lover': 6964, 'igual': 6965, 'pepper': 6966, 'actor': 6967, 'taehyung': 6968, 'spokane': 6969, 'beto': 6970, 'icon': 6971, 'favorites': 6972, 'estou': 6973, 'friendships': 6974, 'pal': 6975, 'poder': 6976, 'tengo': 6977, 'agreeing': 6978, 'citizenship': 6979, 'puta': 6980, 'deadass': 6981, 'quien': 6982, 'deus': 6983, 'yearsofonedirection': 6984, 'wee': 6985, 'falta': 6986, 'ghost': 6987, 'cleanest': 6988, 'ponding': 6989, 'hst': 6990, 'popped': 6991, 'museum': 6992, 'mcminn': 6993, 'mondays': 6994, 'bergen': 6995, 'approaching': 6996, 'rosa': 6997, 'pittsburgh': 6998, 'february': 6999, 'promo': 7000, 'january': 7001, 'harrison': 7002, 'tornadoes': 7003, 'burlington': 7004, 'nun': 7005, 'ute': 7006, 'weathernow': 7007, 'butte': 7008, 'mitchell': 7009, 'dir': 7010, 'pops': 7011, 'boards': 7012, 'knocked': 7013, 'provinces': 7014, 'salem': 7015, 'highland': 7016, 'fsd': 7017, 'fisheries': 7018, 'caroline': 7019, 'vulnerability': 7020, 'rises': 7021, 'luna': 7022, 'dang': 7023, 'welp': 7024, 'issa': 7025, 'defence': 7026, 'refers': 7027, 'jst': 7028, 'fukushima': 7029, 'licking': 7030, 'automated': 7031, 'olive': 7032, 'tales': 7033, 'rescues': 7034, 'ray': 7035, 'barrys': 7036, 'unleash': 7037, 'span': 7038, 'maize': 7039, 'rocky': 7040, 'reform': 7041, 'roughly': 7042, 'daisy': 7043, 'shady': 7044, 'necessity': 7045, 'frederick': 7046, 'dominate': 7047, 'barriers': 7048, 'wakeup': 7049, 'captured': 7050, 'outdoors': 7051, 'cecil': 7052, 'incl': 7053, 'phil': 7054, 'prompt': 7055, 'surviving': 7056, 'fortune': 7057, 'mason': 7058, 'gosh': 7059, 'arrive': 7060, 'ashland': 7061, 'boundary': 7062, 'amongst': 7063, 'planets': 7064, 'keepitintheground': 7065, 'bigoil': 7066, 'fence': 7067, 'output': 7068, 'ordering': 7069, 'prevented': 7070, 'insufficient': 7071, 'produces': 7072, 'tmx': 7073, 'advocacy': 7074, 'responsibilities': 7075, 'mexican': 7076, 'cargo': 7077, 'attempting': 7078, 'bella': 7079, 'economically': 7080, 'sacred': 7081, 'scoop': 7082, 'doubled': 7083, 'moscow': 7084, 'boycott': 7085, 'nov': 7086, 'afterwards': 7087, 'peru': 7088, 'holidays': 7089, 'consume': 7090, 'myth': 7091, 'shoreline': 7092, 'unnecessarily': 7093, 'assumed': 7094, 'ecofriendly': 7095, 'wetlands': 7096, 'promising': 7097, 'exception': 7098, 'expense': 7099, 'kettle': 7100, 'untuk': 7101, 'plague': 7102, 'origin': 7103, 'nathan': 7104, 'gilroy': 7105, 'enabling': 7106, 'apa': 7107, 'multi': 7108, 'chernobyl': 7109, 'grease': 7110, 'hon': 7111, 'meantime': 7112, 'gdp': 7113, 'rp': 7114, 'landscaping': 7115, 'sheets': 7116, 'meh': 7117, 'currency': 7118, 'dice': 7119, 'gak': 7120, 'layer': 7121, 'busted': 7122, 'duo': 7123, 'integrated': 7124, 'taxpayer': 7125, 'spark': 7126, 'funeral': 7127, 'flew': 7128, 'consequence': 7129, 'prosecution': 7130, 'ironic': 7131, 'unreal': 7132, 'involve': 7133, 'presents': 7134, 'ambassador': 7135, 'selection': 7136, 'ivanka': 7137, 'strategies': 7138, 'contributing': 7139, 'flops': 7140, 'prevalent': 7141, 'spotlight': 7142, 'export': 7143, 'chickens': 7144, 'rub': 7145, 'blessings': 7146, 'grill': 7147, 'tamil': 7148, 'empire': 7149, 'traded': 7150, 'commissioner': 7151, 'arts': 7152, 'sore': 7153, 'suggestions': 7154, 'overlooked': 7155, 'hugely': 7156, 'cheeks': 7157, 'maximum': 7158, 'chant': 7159, 'refund': 7160, 'recalls': 7161, 'graduate': 7162, 'bench': 7163, 'warriors': 7164, 'amigo': 7165, 'foodsafety': 7166, 'institutions': 7167, 'gm': 7168, 'stakeholders': 7169, 'resilient': 7170, 'canals': 7171, 'efficiently': 7172, 'hottest': 7173, 'outlet': 7174, 'islamic': 7175, 'yield': 7176, 'imran': 7177, 'principles': 7178, 'lynchings': 7179, 'controls': 7180, 'bueno': 7181, 'puppies': 7182, 'apocalypse': 7183, 'stella': 7184, 'shri': 7185, 'gardening': 7186, 'flies': 7187, 'premium': 7188, 'randomly': 7189, 'utensils': 7190, 'saya': 7191, 'pun': 7192, 'inclusion': 7193, 'toast': 7194, 'chipotle': 7195, 'faves': 7196, 'sucking': 7197, 'flour': 7198, 'flavor': 7199, 'merda': 7200, 'pues': 7201, 'rainwaterharvesting': 7202, 'beverage': 7203, 'sara': 7204, 'contributed': 7205, 'delivers': 7206, 'suitable': 7207, 'vent': 7208, 'smelling': 7209, 'disappointing': 7210, 'slipped': 7211, 'emerging': 7212, 'skilled': 7213, 'syndrome': 7214, 'keen': 7215, 'trynna': 7216, 'tariffs': 7217, 'diving': 7218, 'batman': 7219, 'credits': 7220, 'lads': 7221, 'fertilizers': 7222, 'hindus': 7223, 'fi': 7224, 'vinegar': 7225, 'darling': 7226, 'approaches': 7227, 'pai': 7228, 'scores': 7229, 'stp': 7230, 'mighty': 7231, 'boating': 7232, 'nitrates': 7233, 'purely': 7234, 'boiled': 7235, 'jury': 7236, 'quantity': 7237, 'handwashing': 7238, 'lindiwe': 7239, 'quo': 7240, 'ordinary': 7241, 'needful': 7242, 'disappeared': 7243, 'toothbrushes': 7244, 'masters': 7245, 'kuch': 7246, 'kg': 7247, 'organs': 7248, 'rob': 7249, 'favour': 7250, 'sooooo': 7251, 'bigot': 7252, 'bobby': 7253, 'disgusted': 7254, 'booking': 7255, 'ff': 7256, 'arc': 7257, 'practically': 7258, 'bail': 7259, 'equity': 7260, 'evers': 7261, 'bow': 7262, 'establish': 7263, 'repost': 7264, 'charter': 7265, 'translate': 7266, 'visa': 7267, 'polo': 7268, 'misguided': 7269, 'castro': 7270, 'funniest': 7271, 'excitement': 7272, 'outright': 7273, 'agrees': 7274, 'spine': 7275, 'streak': 7276, 'analyst': 7277, 'reasoning': 7278, 'shouting': 7279, 'weigh': 7280, 'noch': 7281, 'vas': 7282, 'finals': 7283, 'indo': 7284, 'nerve': 7285, 'ily': 7286, 'yknow': 7287, 'pos': 7288, 'civilians': 7289, 'dayzero': 7290, 'booked': 7291, 'rod': 7292, 'pokmon': 7293, 'kissing': 7294, 'retired': 7295, 'banning': 7296, 'embarrassment': 7297, 'drawn': 7298, 'sweetie': 7299, 'arrogant': 7300, 'teenagers': 7301, 'dela': 7302, 'cardboard': 7303, 'wel': 7304, 'bruce': 7305, 'vamos': 7306, 'shoulders': 7307, 'starter': 7308, 'pensando': 7309, 'ally': 7310, 'hung': 7311, 'convenient': 7312, 'hoped': 7313, 'pity': 7314, 'broadcasting': 7315, 'representation': 7316, 'pepe': 7317, 'editing': 7318, 'lado': 7319, 'quase': 7320, 'trabalho': 7321, 'kkkk': 7322, 'blatant': 7323, 'msica': 7324, 'doj': 7325, 'compete': 7326, 'cardi': 7327, 'mccain': 7328, 'uwu': 7329, 'addicted': 7330, 'nicki': 7331, 'falando': 7332, 'heshe': 7333, 'gladly': 7334, 'jimmy': 7335, 'referendum': 7336, 'cutest': 7337, 'nadie': 7338, 'manga': 7339, 'oahu': 7340, 'quotes': 7341, 'wakes': 7342, 'sweating': 7343, 'huntington': 7344, 'hancock': 7345, 'weatheralert': 7346, 'wan': 7347, 'lasts': 7348, 'nothin': 7349, 'tampa': 7350, 'brewing': 7351, 'unr': 7352, 'nudes': 7353, 'extremeweather': 7354, 'sst': 7355, 'weekends': 7356, 'garfield': 7357, 'pitkin': 7358, 'sangre': 7359, 'plunge': 7360, 'tomorrows': 7361, 'slc': 7362, 'phoenix': 7363, 'directions': 7364, 'fork': 7365, 'confirmation': 7366, 'pole': 7367, 'poland': 7368, 'skies': 7369, 'chp': 7370, 'barbara': 7371, 'bass': 7372, 'riverside': 7373, 'palms': 7374, 'chin': 7375, 'ranch': 7376, 'assamfloods': 7377, 'imperial': 7378, 'oof': 7379, 'hampshire': 7380, 'danni': 7381, 'mowx': 7382, 'develops': 7383, 'ese': 7384, 'thu': 7385, 'nicholas': 7386, 'ottawa': 7387, 'weakened': 7388, 'yards': 7389, 'boca': 7390, 'cle': 7391, 'pi': 7392, 'atchafalaya': 7393, 'recommendations': 7394, 'earliest': 7395, 'alexandria': 7396, 'salty': 7397, 'hurricaneseason': 7398, 'sunrise': 7399, 'bulk': 7400, 'cautious': 7401, 'vids': 7402, 'sox': 7403, 'lmk': 7404, 'ruth': 7405, 'pulaski': 7406, 'dotd': 7407, 'tribal': 7408, 'itawamba': 7409, 'scope': 7410, 'persists': 7411, 'bean': 7412, 'poorly': 7413, 'providers': 7414, 'baker': 7415, 'equipped': 7416, 'pontotoc': 7417, 'interact': 7418, 'mower': 7419, 'cafe': 7420, 'butler': 7421, 'waushara': 7422, 'clogged': 7423, 'ole': 7424, 'rolls': 7425, 'nelson': 7426, 'noah': 7427, 'furious': 7428, 'arlington': 7429, 'cs': 7430, 'greenpeace': 7431, 'chronicle': 7432, 'nlpoli': 7433, 'yahoo': 7434, 'wraps': 7435, 'diy': 7436, 'suffers': 7437, 'rampant': 7438, 'abstract': 7439, 'seminar': 7440, 'rappers': 7441, 'stepped': 7442, 'hibernias': 7443, 'maya': 7444, 'indicate': 7445, 'montara': 7446, 'shuts': 7447, 'bypass': 7448, 'seventeen': 7449, 'eagles': 7450, 'injustice': 7451, 'developer': 7452, 'characteristics': 7453, 'respiratory': 7454, 'kalau': 7455, 'photography': 7456, 'niger': 7457, 'microbes': 7458, 'ducks': 7459, 'goo': 7460, 'helmet': 7461, 'jadi': 7462, 'controversial': 7463, 'indonesian': 7464, 'meaningless': 7465, 'ceremony': 7466, 'salah': 7467, 'tuna': 7468, 'compensate': 7469, 'versions': 7470, 'preach': 7471, 'organisms': 7472, 'approx': 7473, 'smv': 7474, 'comparable': 7475, 'robots': 7476, 'slippery': 7477, 'commentary': 7478, 'hypocrites': 7479, 'undocumented': 7480, 'substances': 7481, 'cg': 7482, 'indicators': 7483, 'pairs': 7484, 'capabilities': 7485, 'tapi': 7486, 'comprehensive': 7487, 'reversed': 7488, 'subsidies': 7489, 'juga': 7490, 'gw': 7491, 'leaning': 7492, 'norm': 7493, 'onboard': 7494, 'reportedly': 7495, 'freeze': 7496, 'restrict': 7497, 'semi': 7498, 'batch': 7499, 'stepping': 7500, 'seafood': 7501, 'absence': 7502, 'dynamic': 7503, 'survivor': 7504, 'wipes': 7505, 'dioxide': 7506, 'landfills': 7507, 'pros': 7508, 'publishing': 7509, 'separating': 7510, 'discharged': 7511, 'sticky': 7512, 'iranian': 7513, 'saltwater': 7514, 'mos': 7515, 'fred': 7516, 'monitored': 7517, 'veronica': 7518, 'hosted': 7519, 'dispose': 7520, 'tasty': 7521, 'lookin': 7522, 'overview': 7523, 'honesty': 7524, 'massage': 7525, 'compliance': 7526, 'negatively': 7527, 'unaware': 7528, 'droughtstricken': 7529, 'evaluated': 7530, 'stare': 7531, 'disruption': 7532, 'inspection': 7533, 'rand': 7534, 'dnd': 7535, 'assured': 7536, 'concluded': 7537, 'protests': 7538, 'insects': 7539, 'cough': 7540, 'fue': 7541, 'gloves': 7542, 'technique': 7543, 'med': 7544, 'mich': 7545, 'estamos': 7546, 'mierda': 7547, 'retail': 7548, 'superbugs': 7549, 'fotos': 7550, 'dental': 7551, 'notified': 7552, 'din': 7553, 'actively': 7554, 'cfs': 7555, 'doomed': 7556, 'pledge': 7557, 'bacon': 7558, 'karte': 7559, 'projected': 7560, 'jerry': 7561, 'retirement': 7562, 'pressing': 7563, 'tradesmen': 7564, 'decides': 7565, 'draining': 7566, 'stray': 7567, 'texted': 7568, 'suppression': 7569, 'isolation': 7570, 'sorted': 7571, 'distraction': 7572, 'allocation': 7573, 'unfit': 7574, 'planted': 7575, 'sediment': 7576, 'sickness': 7577, 'bon': 7578, 'splash': 7579, 'contents': 7580, 'labeled': 7581, 'treatments': 7582, 'aims': 7583, 'bees': 7584, 'formation': 7585, 'founder': 7586, 'essentials': 7587, 'climbing': 7588, 'jessica': 7589, 'libraries': 7590, 'daniel': 7591, 'cotton': 7592, 'stunt': 7593, 'trace': 7594, 'creature': 7595, 'entity': 7596, 'animated': 7597, 'emo': 7598, 'allegedly': 7599, 'rue': 7600, 'whoa': 7601, 'involvement': 7602, 'organised': 7603, 'strain': 7604, 'maana': 7605, 'elle': 7606, 'sans': 7607, 'alguien': 7608, 'hecho': 7609, 'pasa': 7610, 'miracle': 7611, 'builders': 7612, 'pitcher': 7613, 'earnings': 7614, 'hurricaneharvey': 7615, 'loot': 7616, 'unwanted': 7617, 'relating': 7618, 'acceptance': 7619, 'waist': 7620, 'chelsea': 7621, 'locate': 7622, 'escaped': 7623, 'wir': 7624, 'connecting': 7625, 'gaza': 7626, 'whove': 7627, 'machinery': 7628, 'spraying': 7629, 'patriot': 7630, 'neglected': 7631, 'entertaining': 7632, 'bipartisan': 7633, 'wird': 7634, 'apples': 7635, 'pots': 7636, 'romantic': 7637, 'creators': 7638, 'aqu': 7639, 'laundering': 7640, 'polish': 7641, 'inspiring': 7642, 'insulting': 7643, 'utterly': 7644, 'cbp': 7645, 'viewers': 7646, 'sweden': 7647, 'keith': 7648, 'approve': 7649, 'handing': 7650, 'promotion': 7651, 'rm': 7652, 'acc': 7653, 'amenities': 7654, 'collab': 7655, 'emma': 7656, 'consideration': 7657, 'versus': 7658, 'intro': 7659, 'detained': 7660, 'champion': 7661, 'stinking': 7662, 'decir': 7663, 'angles': 7664, 'summers': 7665, 'enforce': 7666, 'prophet': 7667, 'jerk': 7668, 'podcasts': 7669, 'alike': 7670, 'snyder': 7671, 'grandparents': 7672, 'lejeune': 7673, 'latin': 7674, 'profession': 7675, 'breast': 7676, 'struggled': 7677, 'dentist': 7678, 'vodka': 7679, 'drum': 7680, 'vp': 7681, 'floridas': 7682, 'ofwat': 7683, 'investigations': 7684, 'mosquito': 7685, 'wallet': 7686, 'gravy': 7687, 'bastards': 7688, 'baltic': 7689, 'unlimited': 7690, 'hispanic': 7691, 'electoral': 7692, 'underrated': 7693, 'theories': 7694, 'document': 7695, 'cringe': 7696, 'arrogance': 7697, 'celebration': 7698, 'insert': 7699, 'frog': 7700, 'couch': 7701, 'parody': 7702, 'kai': 7703, 'passport': 7704, 'bff': 7705, 'tick': 7706, 'reward': 7707, 'bigotry': 7708, 'stroke': 7709, 'champ': 7710, 'foodsecurity': 7711, 'hustle': 7712, 'lifes': 7713, 'readers': 7714, 'favors': 7715, 'sneak': 7716, 'hugs': 7717, 'senators': 7718, 'discrimination': 7719, 'breakdowns': 7720, 'athletes': 7721, 'ptsd': 7722, 'virtual': 7723, 'childish': 7724, 'earned': 7725, 'jacob': 7726, 'deported': 7727, 'spam': 7728, 'pitching': 7729, 'popcorn': 7730, 'ish': 7731, 'flirting': 7732, 'collective': 7733, 'debates': 7734, 'fk': 7735, 'duke': 7736, 'accusations': 7737, 'weakness': 7738, 'ns': 7739, 'disagrees': 7740, 'compliments': 7741, 'ento': 7742, 'sentir': 7743, 'oath': 7744, 'caption': 7745, 'bop': 7746, 'cabea': 7747, 'jake': 7748, 'doin': 7749, 'fala': 7750, 'fez': 7751, 'ooo': 7752, 'nomination': 7753, 'motivated': 7754, 'vem': 7755, 'jazz': 7756, 'dummy': 7757, 'contra': 7758, 'softly': 7759, 'pior': 7760, 'qual': 7761, 'persona': 7762, 'responder': 7763, 'puedo': 7764, 'nome': 7765, 'amanh': 7766, 'kkkkkkkkk': 7767, 'euphoriahbo': 7768, 'laughter': 7769, 'inundated': 7770, 'sometime': 7771, 'donna': 7772, 'echo': 7773, 'overwhelmed': 7774, 'newyork': 7775, 'asl': 7776, 'cove': 7777, 'claiborne': 7778, 'chester': 7779, 'bend': 7780, 'brook': 7781, 'landslides': 7782, 'grad': 7783, 'handful': 7784, 'upgraded': 7785, 'indoors': 7786, 'plata': 7787, 'partially': 7788, 'fgz': 7789, 'ht': 7790, 'mohave': 7791, 'soils': 7792, 'cries': 7793, 'ra': 7794, 'ch': 7795, 'routes': 7796, 'forecasting': 7797, 'dutchess': 7798, 'adjacent': 7799, 'probability': 7800, 'benton': 7801, 'sgf': 7802, 'pradesh': 7803, 'sleepy': 7804, 'intensity': 7805, 'fleet': 7806, 'wjz': 7807, 'smth': 7808, 'uns': 7809, 'chinas': 7810, 'presque': 7811, 'urself': 7812, 'cypress': 7813, 'neutral': 7814, 'livingston': 7815, 'gif': 7816, 'creeps': 7817, 'josh': 7818, 'suburbs': 7819, 'holly': 7820, 'trop': 7821, 'plaquemines': 7822, 'robertson': 7823, 'defeated': 7824, 'harvey': 7825, 'lingering': 7826, 'sheriffs': 7827, 'disasterassistteam': 7828, 'acres': 7829, 'kudos': 7830, 'frogs': 7831, 'highs': 7832, 'ridgecrest': 7833, 'sirens': 7834, 'string': 7835, 'discussions': 7836, 'distant': 7837, 'drained': 7838, 'dierks': 7839, 'enroute': 7840, 'relatives': 7841, 'boundaries': 7842, 'briefing': 7843, 'brandon': 7844, 'departure': 7845, 'menace': 7846, 'waterdamage': 7847, 'closest': 7848, 'gua': 7849, 'buzz': 7850, 'hamilton': 7851, 'ashtabula': 7852, 'understands': 7853, 'coding': 7854, 'mahoning': 7855, 'tribune': 7856, 'dock': 7857, 'repairing': 7858, 'subsea': 7859, 'kqed': 7860, 'initially': 7861, 'susan': 7862, 'fn': 7863, 'cbd': 7864, 'laughable': 7865, 'thirty': 7866, 'inviting': 7867, 'groceries': 7868, 'heiltsuk': 7869, 'bitumen': 7870, 'settled': 7871, 'talkin': 7872, 'preferred': 7873, 'spew': 7874, 'arrange': 7875, 'jaw': 7876, 'scrutiny': 7877, 'sweaty': 7878, 'vocal': 7879, 'deepwaterhorizon': 7880, 'unused': 7881, 'wellington': 7882, 'wonders': 7883, 'complicit': 7884, 'steering': 7885, 'limerick': 7886, 'fragile': 7887, 'cooper': 7888, 'dah': 7889, 'heated': 7890, 'administrations': 7891, 'portfolio': 7892, 'staged': 7893, 'drilled': 7894, 'educational': 7895, 'handles': 7896, 'penalties': 7897, 'executed': 7898, 'gee': 7899, 'revive': 7900, 'hp': 7901, 'melted': 7902, 'irresponsible': 7903, 'slo': 7904, 'flowed': 7905, 'classroom': 7906, 'admits': 7907, 'employeetakeover': 7908, 'experttakeove': 7909, 'demo': 7910, 'roller': 7911, 'coup': 7912, 'exploding': 7913, 'aircraft': 7914, 'banking': 7915, 'intervention': 7916, 'reverse': 7917, 'cleansing': 7918, 'cleanliness': 7919, 'beloved': 7920, 'payers': 7921, 'liability': 7922, 'awaiting': 7923, 'fur': 7924, 'sponsor': 7925, 'vertical': 7926, 'challenging': 7927, 'tale': 7928, 'gel': 7929, 'amigos': 7930, 'melt': 7931, 'greasy': 7932, 'keys': 7933, 'compromise': 7934, 'tremendous': 7935, 'remotely': 7936, 'electronics': 7937, 'technician': 7938, 'edinburgh': 7939, 'superfund': 7940, 'dove': 7941, 'upto': 7942, 'cruz': 7943, 'residue': 7944, 'obstruction': 7945, 'database': 7946, 'bubbles': 7947, 'jellyfish': 7948, 'det': 7949, 'batteries': 7950, 'wilderness': 7951, 'valves': 7952, 'incompetence': 7953, 'cereal': 7954, 'spur': 7955, 'damp': 7956, 'mario': 7957, 'ummm': 7958, 'pvc': 7959, 'fusion': 7960, 'segment': 7961, 'connects': 7962, 'roses': 7963, 'peach': 7964, 'zo': 7965, 'verse': 7966, 'specially': 7967, 'frankly': 7968, 'lungs': 7969, 'cultures': 7970, 'swipe': 7971, 'listing': 7972, 'reps': 7973, 'bathe': 7974, 'vol': 7975, 'cancers': 7976, 'dug': 7977, 'accounting': 7978, 'org': 7979, 'playstation': 7980, 'karen': 7981, 'tension': 7982, 'label': 7983, 'toothbrush': 7984, 'pete': 7985, 'external': 7986, 'sinkholes': 7987, 'effluent': 7988, 'allocated': 7989, 'saga': 7990, 'occasion': 7991, 'diverted': 7992, 'elderly': 7993, 'doom': 7994, 'loona': 7995, 'dislike': 7996, 'lac': 7997, 'fait': 7998, 'ultra': 7999, 'foolish': 8000, 'refill': 8001, 'mb': 8002, 'irritated': 8003, 'joints': 8004, 'receives': 8005, 'plasticpollution': 8006, 'electorate': 8007, 'delighted': 8008, 'namjoon': 8009, 'iraqi': 8010, 'uv': 8011, 'lethal': 8012, 'lacks': 8013, 'breed': 8014, 'airports': 8015, 'morally': 8016, 'nz': 8017, 'liam': 8018, 'stricken': 8019, 'lowering': 8020, 'yoga': 8021, 'spends': 8022, 'purchasing': 8023, 'creo': 8024, 'pasar': 8025, 'werden': 8026, 'uks': 8027, 'za': 8028, 'frm': 8029, 'dgn': 8030, 'diff': 8031, 'mrs': 8032, 'compass': 8033, 'glyphosate': 8034, 'steak': 8035, 'spaghetti': 8036, 'responds': 8037, 'familys': 8038, 'diagnosed': 8039, 'kong': 8040, 'greywater': 8041, 'romans': 8042, 'select': 8043, 'purify': 8044, 'brazil': 8045, 'separation': 8046, 'yields': 8047, 'dial': 8048, 'dense': 8049, 'sixth': 8050, 'participate': 8051, 'physics': 8052, 'jerseys': 8053, 'thrive': 8054, 'seawater': 8055, 'ipad': 8056, 'rubber': 8057, 'cracks': 8058, 'cricket': 8059, 'maps': 8060, 'structures': 8061, 'flexible': 8062, 'hop': 8063, 'nhi': 8064, 'brady': 8065, 'bikes': 8066, 'scooters': 8067, 'hannah': 8068, 'gali': 8069, 'cannon': 8070, 'thanking': 8071, 'tuesdaymotivation': 8072, 'leather': 8073, 'oppose': 8074, 'massacre': 8075, 'megadroughts': 8076, 'proximity': 8077, 'frente': 8078, 'mcm': 8079, 'potatoes': 8080, 'hydration': 8081, 'kerala': 8082, 'heartbreaking': 8083, 'chart': 8084, 'commented': 8085, 'prioritise': 8086, 'nog': 8087, 'usaidtransforms': 8088, 'constructed': 8089, 'eyed': 8090, 'socially': 8091, 'govts': 8092, 'alkaline': 8093, 'jus': 8094, 'flints': 8095, 'exploit': 8096, 'pound': 8097, 'interventions': 8098, 'accelerate': 8099, 'ranking': 8100, 'wc': 8101, 'principal': 8102, 'dispenser': 8103, 'extremes': 8104, 'docs': 8105, 'cuenta': 8106, 'kennedy': 8107, 'momento': 8108, 'poster': 8109, 'wig': 8110, 'watered': 8111, 'documented': 8112, 'meghan': 8113, 'rocking': 8114, 'hoga': 8115, 'tasted': 8116, 'interactions': 8117, 'factories': 8118, 'ilhan': 8119, 'elementary': 8120, 'avec': 8121, 'jungle': 8122, 'solely': 8123, 'beyonce': 8124, 'qb': 8125, 'inquiry': 8126, 'thatd': 8127, 'athletic': 8128, 'penis': 8129, 'absurd': 8130, 'liquor': 8131, 'pursue': 8132, 'boost': 8133, 'avoided': 8134, 'frustration': 8135, 'rachel': 8136, 'domain': 8137, 'bleach': 8138, 'thorough': 8139, 'participated': 8140, 'secretly': 8141, 'betting': 8142, 'tb': 8143, 'entitlement': 8144, 'gather': 8145, 'avatar': 8146, 'vibrant': 8147, 'statue': 8148, 'announces': 8149, 'troubles': 8150, 'iq': 8151, 'otra': 8152, 'meses': 8153, 'tas': 8154, 'entrepreneurs': 8155, 'printed': 8156, 'tierney': 8157, 'concerts': 8158, 'aswell': 8159, 'charities': 8160, 'coke': 8161, 'touching': 8162, 'perfection': 8163, 'katie': 8164, 'dvd': 8165, 'wen': 8166, 'lmaooooo': 8167, 'defeat': 8168, 'jeremy': 8169, 'lean': 8170, 'leftists': 8171, 'youtubers': 8172, 'cu': 8173, 'cia': 8174, 'demons': 8175, 'quer': 8176, 'roster': 8177, 'preciso': 8178, 'mulher': 8179, 'gg': 8180, 'homophobic': 8181, 'madden': 8182, 'dinheiro': 8183, 'pqp': 8184, 'elas': 8185, 'destiny': 8186, 'bots': 8187, 'outro': 8188, 'parte': 8189, 'grabbed': 8190, 'pressed': 8191, 'novo': 8192, 'maguire': 8193, 'vocs': 8194, 'quiero': 8195, 'mcu': 8196, 'tiempo': 8197, 'owning': 8198, 'dentro': 8199, 'soundtrack': 8200, 'tarde': 8201, 'fora': 8202, 'merch': 8203, 'feedly': 8204, 'deposit': 8205, 'jun': 8206, 'unpredictable': 8207, 'slowmoving': 8208, 'woken': 8209, 'notifications': 8210, 'gauge': 8211, 'bostonnorton': 8212, 'jamaica': 8213, 'glen': 8214, 'mankind': 8215, 'shoutout': 8216, 'mulu': 8217, 'gr': 8218, 'expire': 8219, 'logical': 8220, 'oktibbeha': 8221, 'compromised': 8222, 'coin': 8223, 'acadiana': 8224, 'hinds': 8225, 'marion': 8226, 'arrives': 8227, 'rochester': 8228, 'seasonal': 8229, 'cys': 8230, 'cookie': 8231, 'hiking': 8232, 'wywx': 8233, 'abuja': 8234, 'psr': 8235, 'carlos': 8236, 'pbz': 8237, 'destroys': 8238, 'cristo': 8239, 'cloudy': 8240, 'ripe': 8241, 'anticipated': 8242, 'ssw': 8243, 'hanford': 8244, 'twentynine': 8245, 'fremont': 8246, 'lowlying': 8247, 'fic': 8248, 'sono': 8249, 'verify': 8250, 'harms': 8251, 'shelf': 8252, 'inundaciones': 8253, 'sized': 8254, 'ark': 8255, 'urges': 8256, 'rlx': 8257, 'jamie': 8258, 'rosedale': 8259, 'compelling': 8260, 'charlotte': 8261, 'boulder': 8262, 'larry': 8263, 'sharon': 8264, 'sabine': 8265, 'deweyville': 8266, 'lsx': 8267, 'coupee': 8268, 'thatll': 8269, 'sheffield': 8270, 'coasts': 8271, 'wilkinson': 8272, 'mornings': 8273, 'hattiesburg': 8274, 'airline': 8275, 'cease': 8276, 'cuddle': 8277, 'column': 8278, 'connectivity': 8279, 'macon': 8280, 'bernard': 8281, 'collision': 8282, 'englewood': 8283, 'billy': 8284, 'muddy': 8285, 'rebuild': 8286, 'effected': 8287, 'oklahoma': 8288, 'ville': 8289, 'widely': 8290, 'pointe': 8291, 'leswa': 8292, 'hans': 8293, 'developments': 8294, 'guwahati': 8295, 'micro': 8296, 'dining': 8297, 'insider': 8298, 'fillmore': 8299, 'honored': 8300, 'hooked': 8301, 'indiana': 8302, 'preparation': 8303, 'prohibiting': 8304, 'manitowoc': 8305, 'prolly': 8306, 'ty': 8307, 'whens': 8308, 'finishing': 8309, 'citing': 8310, 'hydrology': 8311, 'mansfield': 8312, 'porte': 8313, 'reign': 8314, 'kankakee': 8315, 'fo': 8316, 'watersheds': 8317, 'highlighting': 8318, 'renewable': 8319, 'alternatives': 8320, 'sacramento': 8321, 'halts': 8322, 'halted': 8323, 'kilometres': 8324, 'dapl': 8325, 'climateactionnow': 8326, 'gentle': 8327, 'procedure': 8328, 'sensors': 8329, 'producer': 8330, 'neat': 8331, 'placing': 8332, 'eastbound': 8333, 'capture': 8334, 'terry': 8335, 'regrets': 8336, 'seep': 8337, 'hopeful': 8338, 'survivors': 8339, 'tobago': 8340, 'absorbent': 8341, 'canon': 8342, 'frequency': 8343, 'harmed': 8344, 'contrast': 8345, 'straits': 8346, 'bn': 8347, 'scottish': 8348, 'flames': 8349, 'permits': 8350, 'crashes': 8351, 'environments': 8352, 'implementing': 8353, 'controversy': 8354, 'attendance': 8355, 'udah': 8356, 'provincial': 8357, 'diversion': 8358, 'fictional': 8359, 'calgary': 8360, 'resume': 8361, 'abudhabi': 8362, 'entrepreneur': 8363, 'critically': 8364, 'spy': 8365, 'fouls': 8366, 'capped': 8367, 'mau': 8368, 'risking': 8369, 'lib': 8370, 'overrated': 8371, 'sinking': 8372, 'editorial': 8373, 'carpet': 8374, 'trolls': 8375, 'opponents': 8376, 'drake': 8377, 'bisa': 8378, 'stench': 8379, 'criticized': 8380, 'ruptured': 8381, 'tumpahan': 8382, 'transformation': 8383, 'accidental': 8384, 'tokyo': 8385, 'declining': 8386, 'cons': 8387, 'scholar': 8388, 'consultant': 8389, 'biomass': 8390, 'diluted': 8391, 'odor': 8392, 'brine': 8393, 'slim': 8394, 'functions': 8395, 'avocado': 8396, 'confusion': 8397, 'calories': 8398, 'rinse': 8399, 'colombia': 8400, 'michigans': 8401, 'sprayed': 8402, 'craft': 8403, 'stack': 8404, 'nt': 8405, 'shakes': 8406, 'framework': 8407, 'onpoli': 8408, 'imposed': 8409, 'evs': 8410, 'refuge': 8411, 'speedy': 8412, 'remainder': 8413, 'lobster': 8414, 'genetic': 8415, 'zombie': 8416, 'ruining': 8417, 'rug': 8418, 'traveled': 8419, 'blues': 8420, 'saudis': 8421, 'healed': 8422, 'destined': 8423, 'blend': 8424, 'tin': 8425, 'rejection': 8426, 'companys': 8427, 'inspections': 8428, 'stain': 8429, 'ohhh': 8430, 'composition': 8431, 'monsanto': 8432, 'generated': 8433, 'compound': 8434, 'minimal': 8435, 'participating': 8436, 'arranged': 8437, 'activist': 8438, 'protesting': 8439, 'biodegradable': 8440, 'invention': 8441, 'schumer': 8442, 'greener': 8443, 'uneducated': 8444, 'elect': 8445, 'looming': 8446, 'commenting': 8447, 'valued': 8448, 'ww': 8449, 'dryer': 8450, 'shellfish': 8451, 'thoroughly': 8452, 'static': 8453, 'mustve': 8454, 'shades': 8455, 'comp': 8456, 'libra': 8457, 'warfare': 8458, 'coupled': 8459, 'odf': 8460, 'hse': 8461, 'replacing': 8462, 'catering': 8463, 'wooden': 8464, 'behave': 8465, 'headache': 8466, 'nightmares': 8467, 'dye': 8468, 'flooring': 8469, 'cauvery': 8470, 'nadu': 8471, 'bait': 8472, 'analytics': 8473, 'financing': 8474, 'capitalist': 8475, 'seeds': 8476, 'shoots': 8477, 'kitty': 8478, 'ebola': 8479, 'norovirus': 8480, 'culprits': 8481, 'herpes': 8482, 'trs': 8483, 'karna': 8484, 'sour': 8485, 'capitol': 8486, 'pillow': 8487, 'inter': 8488, 'plea': 8489, 'genetics': 8490, 'yum': 8491, 'nous': 8492, 'communications': 8493, 'causa': 8494, 'mgmt': 8495, 'stance': 8496, 'schemes': 8497, 'construct': 8498, 'ooh': 8499, 'chains': 8500, 'sneakers': 8501, 'weeds': 8502, 'lining': 8503, 'legends': 8504, 'licensed': 8505, 'casually': 8506, 'detect': 8507, 'realestate': 8508, 'ale': 8509, 'jharkhand': 8510, 'sticker': 8511, 'difficulties': 8512, 'bleeding': 8513, 'chasing': 8514, 'inputs': 8515, 'maintained': 8516, 'hu': 8517, 'themed': 8518, 'medicines': 8519, 'cycling': 8520, 'attawapiskat': 8521, 'feminist': 8522, 'oomf': 8523, 'bent': 8524, 'tube': 8525, 'latrines': 8526, 'participants': 8527, 'ripping': 8528, 'barack': 8529, 'fireworks': 8530, 'smack': 8531, 'booty': 8532, 'papa': 8533, 'mysterious': 8534, 'websites': 8535, 'conditioning': 8536, 'wade': 8537, 'poetry': 8538, 'cb': 8539, 'bald': 8540, 'admission': 8541, 'ozone': 8542, 'chlorinated': 8543, 'scares': 8544, 'mismo': 8545, 'sk': 8546, 'choke': 8547, 'har': 8548, 'av': 8549, 'contributes': 8550, 'aids': 8551, 'acquire': 8552, 'pregnancy': 8553, 'poco': 8554, 'forte': 8555, 'yan': 8556, 'beers': 8557, 'achievements': 8558, 'appreciation': 8559, 'iot': 8560, 'slope': 8561, 'picnic': 8562, 'anonymous': 8563, 'tactics': 8564, 'ace': 8565, 'announcing': 8566, 'manufactured': 8567, 'rahe': 8568, 'tore': 8569, 'muhammad': 8570, 'protective': 8571, 'yuck': 8572, 'tanganyika': 8573, 'dun': 8574, 'kc': 8575, 'administrative': 8576, 'clarification': 8577, 'threshold': 8578, 'gallery': 8579, 'liz': 8580, 'pinned': 8581, 'shithole': 8582, 'eleven': 8583, 'dressing': 8584, 'noises': 8585, 'kr': 8586, 'parenting': 8587, 'virtue': 8588, 'unhealthy': 8589, 'wag': 8590, 'blk': 8591, 'capita': 8592, 'indepth': 8593, 'angela': 8594, 'sind': 8595, 'creativity': 8596, 'careers': 8597, 'tackling': 8598, 'pill': 8599, 'nauseous': 8600, 'elements': 8601, 'seniors': 8602, 'suggestion': 8603, 'usar': 8604, 'nag': 8605, 'screenshot': 8606, 'leavenoonebehind': 8607, 'rohingya': 8608, 'starving': 8609, 'watersanitation': 8610, 'defecation': 8611, 'inequalities': 8612, 'adopt': 8613, 'precisely': 8614, 'pharma': 8615, 'dramatically': 8616, 'budgets': 8617, 'qualified': 8618, 'anc': 8619, 'curry': 8620, 'powell': 8621, 'constituency': 8622, 'chronic': 8623, 'launches': 8624, 'addresses': 8625, 'spirits': 8626, 'wholesome': 8627, 'motive': 8628, 'eres': 8629, 'passionate': 8630, 'console': 8631, 'cannons': 8632, 'tubig': 8633, 'contributions': 8634, 'tossed': 8635, 'cdc': 8636, 'kang': 8637, 'hats': 8638, 'hooded': 8639, 'buttons': 8640, 'tripping': 8641, 'harmless': 8642, 'bliss': 8643, 'isa': 8644, 'boobs': 8645, 'gp': 8646, 'feat': 8647, 'thermal': 8648, 'butterfly': 8649, 'lawns': 8650, 'welsh': 8651, 'curly': 8652, 'hater': 8653, 'penal': 8654, 'continually': 8655, 'finland': 8656, 'njs': 8657, 'breastfeeding': 8658, 'judged': 8659, 'grupo': 8660, 'patriots': 8661, 'exploring': 8662, 'crushed': 8663, 'suspicious': 8664, 'devils': 8665, 'dean': 8666, 'strom': 8667, 'nala': 8668, 'encourages': 8669, 'backflow': 8670, 'throws': 8671, 'accomplished': 8672, 'clint': 8673, 'arrival': 8674, 'divided': 8675, 'contacts': 8676, 'goodbye': 8677, 'accordingly': 8678, 'morality': 8679, 'judiciary': 8680, 'caf': 8681, 'requests': 8682, 'humble': 8683, 'tenido': 8684, 'couples': 8685, 'marijuana': 8686, 'rival': 8687, 'laswa': 8688, 'subtle': 8689, 'packing': 8690, 'hurry': 8691, 'skinny': 8692, 'spike': 8693, 'repeating': 8694, 'trek': 8695, 'sucker': 8696, 'nicer': 8697, 'oppression': 8698, 'stares': 8699, 'heavens': 8700, 'filmed': 8701, 'slaves': 8702, 'mistaken': 8703, 'vlive': 8704, 'fck': 8705, 'vampire': 8706, 'otro': 8707, 'knocking': 8708, 'swag': 8709, 'scoring': 8710, 'firing': 8711, 'oscar': 8712, 'amanda': 8713, 'harvard': 8714, 'turtle': 8715, 'tagged': 8716, 'tiring': 8717, 'idgaf': 8718, 'losers': 8719, 'disappointment': 8720, 'ronaldo': 8721, 'pagar': 8722, 'corao': 8723, 'preview': 8724, 'rallies': 8725, 'sexuality': 8726, 'sobbing': 8727, 'dias': 8728, 'invitation': 8729, 'affection': 8730, 'tava': 8731, 'lesbians': 8732, 'luiz': 8733, 'fa': 8734, 'estn': 8735, 'lukaku': 8736, 'onde': 8737, 'tinha': 8738, 'maior': 8739, 'espero': 8740, 'amiga': 8741, 'kidnapped': 8742, 'coaching': 8743, 'melania': 8744, 'curtis': 8745, 'tiktok': 8746, 'germangp': 8747, 'paycheck': 8748, 'sair': 8749, 'dybala': 8750, 'hyped': 8751, 'grammar': 8752, 'bruno': 8753, 'wished': 8754, 'condolences': 8755, 'happier': 8756, 'vmas': 8757, 'emblem': 8758, 'umas': 8759, 'celtic': 8760, 'wack': 8761, 'fico': 8762, 'legendary': 8763, 'fandoms': 8764, 'nintendo': 8765, 'fica': 8766, 'nate': 8767, 'muita': 8768, 'lmfaooo': 8769, 'theaters': 8770, 'quran': 8771, 'opponent': 8772, 'piano': 8773, 'bigots': 8774, 'ey': 8775, 'vcs': 8776, 'dull': 8777, 'sampled': 8778, 'stalled': 8779, 'submerged': 8780, 'colours': 8781, 'rhode': 8782, 'nbcct': 8783, 'greene': 8784, 'alas': 8785, 'heels': 8786, 'rockland': 8787, 'berks': 8788, 'culvert': 8789, 'pavement': 8790, 'surf': 8791, 'grafton': 8792, 'catahoula': 8793, 'neshoba': 8794, 'immer': 8795, 'mehr': 8796, 'landry': 8797, 'vermilion': 8798, 'tropics': 8799, 'flashfloodwatch': 8800, 'warrant': 8801, 'valleys': 8802, 'wyoming': 8803, 'kkkkk': 8804, 'interrupt': 8805, 'radaralerts': 8806, 'inn': 8807, 'lodgepole': 8808, 'freeway': 8809, 'yavapai': 8810, 'rebuilding': 8811, 'sse': 8812, 'downstairs': 8813, 'playground': 8814, 'torrance': 8815, 'animas': 8816, 'coos': 8817, 'phenomenon': 8818, 'unfold': 8819, 'hyde': 8820, 'virgin': 8821, 'drowned': 8822, 'screamed': 8823, 'typing': 8824, 'laos': 8825, 'visuals': 8826, 'uhh': 8827, 'travels': 8828, 'creep': 8829, 'combine': 8830, 'scenic': 8831, 'fifty': 8832, 'candles': 8833, 'apex': 8834, 'batter': 8835, 'dated': 8836, 'prefecture': 8837, 'arise': 8838, 'restricted': 8839, 'leeds': 8840, 'caldwell': 8841, 'ascension': 8842, 'misunderstanding': 8843, 'raid': 8844, 'drier': 8845, 'axis': 8846, 'disrupt': 8847, 'sections': 8848, 'zerowaste': 8849, 'outer': 8850, 'cheatham': 8851, 'dickson': 8852, 'cumberland': 8853, 'supervisor': 8854, 'rapides': 8855, 'appeared': 8856, 'randolph': 8857, 'arthur': 8858, 'tides': 8859, 'tilt': 8860, 'gabriel': 8861, 'buys': 8862, 'extending': 8863, 'willow': 8864, 'woodruff': 8865, 'concentrated': 8866, 'proceed': 8867, 'reminding': 8868, 'transported': 8869, 'reader': 8870, 'aamp': 8871, 'simultaneously': 8872, 'faithful': 8873, 'buchanan': 8874, 'memphis': 8875, 'eve': 8876, 'gordo': 8877, 'jumps': 8878, 'mmm': 8879, 'dade': 8880, 'bowling': 8881, 'matthew': 8882, 'trumbull': 8883, 'lifesaving': 8884, 'wyandot': 8885, 'oliver': 8886, 'inwx': 8887, 'newer': 8888, 'fatal': 8889, 'ecocide': 8890, 'firsthand': 8891, 'aboard': 8892, 'sheen': 8893, 'fossilfuel': 8894, 'economist': 8895, 'wounds': 8896, 'fortunately': 8897, 'vegetation': 8898, 'commodities': 8899, 'praised': 8900, 'musician': 8901, 'homeowner': 8902, 'researcher': 8903, 'legislature': 8904, 'sg': 8905, 'minimize': 8906, 'exodus': 8907, 'fluids': 8908, 'rena': 8909, 'lng': 8910, 'tribes': 8911, 'dianne': 8912, 'skeptical': 8913, 'heartless': 8914, 'vip': 8915, 'babes': 8916, 'deliberate': 8917, 'seagull': 8918, 'michelle': 8919, 'charger': 8920, 'recap': 8921, 'calif': 8922, 'mantra': 8923, 'scooter': 8924, 'reservations': 8925, 'lawsuits': 8926, 'tote': 8927, 'miracles': 8928, 'cornwall': 8929, 'commodity': 8930, 'brainwashed': 8931, 'faulty': 8932, 'blair': 8933, 'booms': 8934, 'marad': 8935, 'reputation': 8936, 'peanut': 8937, 'enbridges': 8938, 'lobbying': 8939, 'nike': 8940, 'brewery': 8941, 'cnbc': 8942, 'shovel': 8943, 'likelihood': 8944, 'draws': 8945, 'kitten': 8946, 'abuses': 8947, 'gushing': 8948, 'metres': 8949, 'blowout': 8950, 'raping': 8951, 'slip': 8952, 'hulu': 8953, 'manipulation': 8954, 'discusses': 8955, 'acknowledged': 8956, 'thoughtful': 8957, 'trunk': 8958, 'unemployed': 8959, 'editor': 8960, 'expo': 8961, 'lagoon': 8962, 'marines': 8963, 'freedoms': 8964, 'mechanical': 8965, 'curb': 8966, 'errors': 8967, 'corps': 8968, 'environmentalists': 8969, 'chalk': 8970, 'twenty': 8971, 'ditch': 8972, 'pollutant': 8973, 'nintendoswitch': 8974, 'argued': 8975, 'butts': 8976, 'brazilian': 8977, 'targeted': 8978, 'jug': 8979, 'correction': 8980, 'subsequent': 8981, 'fishes': 8982, 'aww': 8983, 'surfaces': 8984, 'marsh': 8985, 'investigates': 8986, 'akin': 8987, 'shrimp': 8988, 'noted': 8989, 'contrary': 8990, 'import': 8991, 'catfish': 8992, 'fcking': 8993, 'compliant': 8994, 'exercises': 8995, 'csg': 8996, 'lease': 8997, 'tuition': 8998, 'louise': 8999, 'tae': 9000, 'pals': 9001, 'detrimental': 9002, 'roast': 9003, 'explosions': 9004, 'dale': 9005, 'repercussions': 9006, 'spectrum': 9007, 'seemingly': 9008, 'biz': 9009, 'gases': 9010, 'mixing': 9011, 'organized': 9012, 'ukraine': 9013, 'wound': 9014, 'grades': 9015, 'tumblr': 9016, 'sentenced': 9017, 'howd': 9018, 'preferably': 9019, 'byproduct': 9020, 'uganda': 9021, 'observe': 9022, 'spoon': 9023, 'quest': 9024, 'gospel': 9025, 'graduated': 9026, 'wastes': 9027, 'wagon': 9028, 'scandals': 9029, 'polite': 9030, 'nearest': 9031, 'piping': 9032, 'cam': 9033, 'wrist': 9034, 'yamuna': 9035, 'sprinkler': 9036, 'louder': 9037, 'kiya': 9038, 'raha': 9039, 'gentleman': 9040, 'controlling': 9041, 'structural': 9042, 'moi': 9043, 'retain': 9044, 'goed': 9045, 'donde': 9046, 'fao': 9047, 'vdeo': 9048, 'disorder': 9049, 'germs': 9050, 'mme': 9051, 'var': 9052, 'diarrhoea': 9053, 'outrageous': 9054, 'makers': 9055, 'confronting': 9056, 'voluntary': 9057, 'csr': 9058, 'contractors': 9059, 'europa': 9060, 'wellness': 9061, 'appointed': 9062, 'thai': 9063, 'cheaters': 9064, 'advising': 9065, 'piercing': 9066, 'aaa': 9067, 'portsmouth': 9068, 'contemporary': 9069, 'congresswomen': 9070, 'observation': 9071, 'dub': 9072, 'misses': 9073, 'consists': 9074, 'revolutionary': 9075, 'infestation': 9076, 'vale': 9077, 'dose': 9078, 'dismiss': 9079, 'cracking': 9080, 'engagement': 9081, 'vaccine': 9082, 'celebrities': 9083, 'mums': 9084, 'artois': 9085, 'pineapple': 9086, 'jalshaktiabhiyan': 9087, 'clinics': 9088, 'premise': 9089, 'lowincome': 9090, 'computers': 9091, 'skinned': 9092, 'villa': 9093, 'shelterinplace': 9094, 'remake': 9095, 'initiated': 9096, 'mk': 9097, 'symptom': 9098, 'antimicrobial': 9099, 'yeast': 9100, 'recipes': 9101, 'occasions': 9102, 'rooms': 9103, 'scan': 9104, 'sera': 9105, 'cho': 9106, 'rental': 9107, 'immense': 9108, 'pricing': 9109, 'nobel': 9110, 'insights': 9111, 'pune': 9112, 'designers': 9113, 'evaporation': 9114, 'trafficking': 9115, 'waterresources': 9116, 'comply': 9117, 'apartments': 9118, 'distinction': 9119, 'bust': 9120, 'starvation': 9121, 'judgment': 9122, 'sunscreen': 9123, 'beverages': 9124, 'mina': 9125, 'beth': 9126, 'projecting': 9127, 'retrograde': 9128, 'dripping': 9129, 'koch': 9130, 'lakers': 9131, 'momma': 9132, 'kawhi': 9133, 'logged': 9134, 'raging': 9135, 'relying': 9136, 'compounds': 9137, 'naive': 9138, 'promotes': 9139, 'bankrupt': 9140, 'underlying': 9141, 'rha': 9142, 'guilt': 9143, 'beneath': 9144, 'stuffed': 9145, 'sharkreport': 9146, 'moray': 9147, 'lossiemouth': 9148, 'fabric': 9149, 'convenience': 9150, 'bartender': 9151, 'teenager': 9152, 'discovery': 9153, 'ndp': 9154, 'messaging': 9155, 'ins': 9156, 'wieder': 9157, 'decay': 9158, 'hvac': 9159, 'tal': 9160, 'seizures': 9161, 'lizard': 9162, 'advocating': 9163, 'montana': 9164, 'tissue': 9165, 'pedro': 9166, 'mekong': 9167, 'allegations': 9168, 'naturaldisaster': 9169, 'athlete': 9170, 'oct': 9171, 'cocktail': 9172, 'palestine': 9173, 'nuevo': 9174, 'hiv': 9175, 'coping': 9176, 'spitting': 9177, 'clears': 9178, 'boot': 9179, 'owed': 9180, 'disneyland': 9181, 'slums': 9182, 'classified': 9183, 'whistle': 9184, 'glorious': 9185, 'unregulated': 9186, 'loudest': 9187, 'vomit': 9188, 'napkins': 9189, 'kali': 9190, 'starve': 9191, 'closethecamps': 9192, 'acceso': 9193, 'institution': 9194, 'flawless': 9195, 'witnesses': 9196, 'commits': 9197, 'poisonous': 9198, 'salaries': 9199, 'interference': 9200, 'zimbabwes': 9201, 'gd': 9202, 'misery': 9203, 'occupation': 9204, 'plantation': 9205, 'directors': 9206, 'nursery': 9207, 'scroll': 9208, 'engaged': 9209, 'infant': 9210, 'propose': 9211, 'mechanism': 9212, 'element': 9213, 'habits': 9214, 'historia': 9215, 'chash': 9216, 'enterprise': 9217, 'financially': 9218, 'bhai': 9219, 'granny': 9220, 'describes': 9221, 'mild': 9222, 'vacuum': 9223, 'fighter': 9224, 'fin': 9225, 'rv': 9226, 'apt': 9227, 'facial': 9228, 'certified': 9229, 'yeh': 9230, 'abilities': 9231, 'liye': 9232, 'madam': 9233, 'wax': 9234, 'murdering': 9235, 'gravity': 9236, 'betrayed': 9237, 'protocol': 9238, 'frightening': 9239, 'assure': 9240, 'ls': 9241, 'gutter': 9242, 'appalling': 9243, 'magnetic': 9244, 'potomac': 9245, 'lasted': 9246, 'winwin': 9247, 'lemons': 9248, 'colleges': 9249, 'involves': 9250, 'buat': 9251, 'negotiating': 9252, 'lugar': 9253, 'attempted': 9254, 'snacks': 9255, 'feared': 9256, 'knives': 9257, 'barley': 9258, 'input': 9259, 'shaped': 9260, 'unite': 9261, 'champions': 9262, 'verbal': 9263, 'mocked': 9264, 'manila': 9265, 'fluffy': 9266, 'publish': 9267, 'atheist': 9268, 'chaotic': 9269, 'justification': 9270, 'unto': 9271, 'discipline': 9272, 'nonexistent': 9273, 'jb': 9274, 'quicker': 9275, 'naming': 9276, 'rides': 9277, 'sonic': 9278, 'apparent': 9279, 'sham': 9280, 'millennial': 9281, 'represented': 9282, 'jhelum': 9283, 'nauseri': 9284, 'ping': 9285, 'acha': 9286, 'congresswoman': 9287, 'bud': 9288, 'gc': 9289, 'noo': 9290, 'murders': 9291, 'outs': 9292, 'yess': 9293, 'offseason': 9294, 'somali': 9295, 'trusting': 9296, 'edited': 9297, 'enlightened': 9298, 'jess': 9299, 'auction': 9300, 'freaks': 9301, 'trolling': 9302, 'cubs': 9303, 'dictators': 9304, 'chased': 9305, 'toes': 9306, 'tds': 9307, 'paypal': 9308, 'dictate': 9309, 'dennis': 9310, 'tuesdaythoughts': 9311, 'imply': 9312, 'ought': 9313, 'ethnic': 9314, 'despicable': 9315, 'camila': 9316, 'messi': 9317, 'gaze': 9318, 'rb': 9319, 'snowflake': 9320, 'slam': 9321, 'chan': 9322, 'deq': 9323, 'negativity': 9324, 'pensar': 9325, 'desse': 9326, 'crooked': 9327, 'microwave': 9328, 'sayin': 9329, 'uploaded': 9330, 'enthusiasm': 9331, 'hips': 9332, 'fab': 9333, 'finest': 9334, 'halloween': 9335, 'realmente': 9336, 'pisses': 9337, 'suspension': 9338, 'underestimate': 9339, 'spongebob': 9340, 'fim': 9341, 'deu': 9342, 'benzene': 9343, 'universities': 9344, 'backlash': 9345, 'nominate': 9346, 'lago': 9347, 'instinct': 9348, 'mexicans': 9349, 'waits': 9350, 'casting': 9351, 'nailed': 9352, 'awe': 9353, 'manganese': 9354, 'questioned': 9355, 'christie': 9356, 'mentioning': 9357, 'portray': 9358, 'kissed': 9359, 'curiosity': 9360, 'rigged': 9361, 'demais': 9362, 'gosto': 9363, 'grandmother': 9364, 'caso': 9365, 'bighit': 9366, 'segunda': 9367, 'consigo': 9368, 'nosso': 9369, 'celebrity': 9370, 'snapchat': 9371, 'obrigada': 9372, 'lgbtq': 9373, 'pslive': 9374, 'preseason': 9375, 'neil': 9376, 'taco': 9377, 'immature': 9378, 'mocking': 9379, 'tomar': 9380, 'amigas': 9381, 'filme': 9382, 'supremacists': 9383, 'dani': 9384, 'mc': 9385, 'divorce': 9386, 'chuckle': 9387, 'tao': 9388, 'triste': 9389, 'striker': 9390, 'performances': 9391, 'worthwhile': 9392, 'bandwagon': 9393, 'confess': 9394, 'coupon': 9395, 'fosse': 9396, 'naruto': 9397, 'lula': 9398, 'beta': 9399, 'vos': 9400, 'lowkey': 9401, 'rin': 9402, 'estoy': 9403, 'riot': 9404, 'claro': 9405, 'autistic': 9406, 'ideological': 9407, 'marrying': 9408, 'gusta': 9409, 'renjun': 9410, 'ikon': 9411, 'unfollowed': 9412, 'outra': 9413, 'gameplay': 9414, 'cassie': 9415, 'braves': 9416, 'smartnews': 9417, 'hidalgo': 9418, 'sebastian': 9419, 'floodaware': 9420, 'photograph': 9421, 'drenched': 9422, 'violated': 9423, 'blasting': 9424, 'flashfloodwarning': 9425, 'russell': 9426, 'campbell': 9427, 'nerd': 9428, 'terribly': 9429, 'passaic': 9430, 'beware': 9431, 'upton': 9432, 'sussex': 9433, 'aha': 9434, 'panhandle': 9435, 'escambia': 9436, 'pensacola': 9437, 'paddle': 9438, 'oneida': 9439, 'fleming': 9440, 'driveway': 9441, 'poem': 9442, 'shifted': 9443, 'simpson': 9444, 'carver': 9445, 'urging': 9446, 'strengthening': 9447, 'peek': 9448, 'meade': 9449, 'tributary': 9450, 'rayagada': 9451, 'wreak': 9452, 'hubby': 9453, 'motorcyclist': 9454, 'corners': 9455, 'vicinity': 9456, 'tuolumne': 9457, 'piercings': 9458, 'vef': 9459, 'madera': 9460, 'mariposa': 9461, 'verde': 9462, 'fundraising': 9463, 'slides': 9464, 'precipitation': 9465, 'mtn': 9466, 'fresno': 9467, 'surroundings': 9468, 'repeats': 9469, 'ci': 9470, 'discontinued': 9471, 'devon': 9472, 'speeding': 9473, 'solomon': 9474, 'transform': 9475, 'albany': 9476, 'nephew': 9477, 'insulted': 9478, 'vinyl': 9479, 'lynn': 9480, 'adjust': 9481, 'firstalertweather': 9482, 'nbcphiladelphia': 9483, 'fitting': 9484, 'vista': 9485, 'parked': 9486, 'mema': 9487, 'domingo': 9488, 'stall': 9489, 'commence': 9490, 'catches': 9491, 'hermosa': 9492, 'whaley': 9493, 'downgraded': 9494, 'harford': 9495, 'centered': 9496, 'shreveport': 9497, 'briefly': 9498, 'helena': 9499, 'iberville': 9500, 'petal': 9501, 'pushes': 9502, 'prep': 9503, 'weatherauthority': 9504, 'lancaster': 9505, 'laguna': 9506, 'tabs': 9507, 'metaphor': 9508, 'vidalia': 9509, 'cloudburst': 9510, 'br': 9511, 'incase': 9512, 'rotation': 9513, 'lighter': 9514, 'procedures': 9515, 'glof': 9516, 'popping': 9517, 'ida': 9518, 'ikeja': 9519, 'jose': 9520, 'exceed': 9521, 'dispatched': 9522, 'clearing': 9523, 'florence': 9524, 'floyd': 9525, 'borough': 9526, 'distract': 9527, 'stressful': 9528, 'trempealeau': 9529, 'croix': 9530, 'spotter': 9531, 'matching': 9532, 'bells': 9533, 'alma': 9534, 'lime': 9535, 'shenandoah': 9536, 'sushi': 9537, 'toms': 9538, 'starke': 9539, 'annes': 9540, 'william': 9541, 'abundant': 9542, 'symbol': 9543, 'oilleaksspills': 9544, 'oilspillresponse': 9545, 'prominent': 9546, 'theresistance': 9547, 'hmdc': 9548, 'foxnews': 9549, 'jeez': 9550, 'technicians': 9551, 'roundabout': 9552, 'functional': 9553, 'transparency': 9554, 'islamabad': 9555, 'hiphop': 9556, 'minded': 9557, 'agencys': 9558, 'roulette': 9559, 'expenses': 9560, 'tray': 9561, 'habitats': 9562, 'industrys': 9563, 'nltraffic': 9564, 'panama': 9565, 'notebook': 9566, 'tereshkov': 9567, 'worsen': 9568, 'swallow': 9569, 'misinformation': 9570, 'refuelling': 9571, 'enduring': 9572, 'alta': 9573, 'univ': 9574, 'metric': 9575, 'scicomm': 9576, 'historys': 9577, 'hobby': 9578, 'gigantic': 9579, 'hurricanes': 9580, 'competent': 9581, 'rider': 9582, 'escaping': 9583, 'satu': 9584, 'socioeconomic': 9585, 'bcuz': 9586, 'hacks': 9587, 'nico': 9588, 'protesters': 9589, 'enable': 9590, 'joaquin': 9591, 'puget': 9592, 'seals': 9593, 'sumur': 9594, 'highpressure': 9595, 'entrepreneurship': 9596, 'cubic': 9597, 'landbased': 9598, 'sarcasm': 9599, 'volatile': 9600, 'lrt': 9601, 'mechanic': 9602, 'ecologically': 9603, 'trout': 9604, 'liquids': 9605, 'assessing': 9606, 'contingency': 9607, 'oilspills': 9608, 'sensitivity': 9609, 'judgement': 9610, 'disposing': 9611, 'flee': 9612, 'attorneys': 9613, 'organ': 9614, 'bama': 9615, 'boosts': 9616, 'crashing': 9617, 'hybrid': 9618, 'timmy': 9619, 'miners': 9620, 'hq': 9621, 'spokesperson': 9622, 'newsletter': 9623, 'vitamin': 9624, 'unicorn': 9625, 'fumes': 9626, 'argentina': 9627, 'pernah': 9628, 'emptied': 9629, 'philosophy': 9630, 'masih': 9631, 'crabs': 9632, 'orang': 9633, 'renault': 9634, 'shorelines': 9635, 'broadband': 9636, 'coordinated': 9637, 'sorts': 9638, 'expelled': 9639, 'virtually': 9640, 'harper': 9641, 'installations': 9642, 'embarcadero': 9643, 'splatoon': 9644, 'reflects': 9645, 'manufacturers': 9646, 'donating': 9647, 'inevitably': 9648, 'mates': 9649, 'intervene': 9650, 'eligible': 9651, 'motogp': 9652, 'worthless': 9653, 'editors': 9654, 'viable': 9655, 'equitable': 9656, 'messes': 9657, 'empowered': 9658, 'strictly': 9659, 'occupy': 9660, 'easiest': 9661, 'prisons': 9662, 'wheels': 9663, 'qualities': 9664, 'alt': 9665, 'formula': 9666, 'brockovich': 9667, 'thug': 9668, 'zealand': 9669, 'rainforest': 9670, 'altogether': 9671, 'cgi': 9672, 'kay': 9673, 'tidal': 9674, 'taxation': 9675, 'declares': 9676, 'fade': 9677, 'powder': 9678, 'dw': 9679, 'dit': 9680, 'files': 9681, 'dl': 9682, 'cursed': 9683, 'appointments': 9684, 'playbook': 9685, 'durable': 9686, 'tribute': 9687, 'hh': 9688, 'verified': 9689, 'milwaukee': 9690, 'settings': 9691, 'forehead': 9692, 'defects': 9693, 'ballot': 9694, 'petrleo': 9695, 'mia': 9696, 'talaga': 9697, 'politically': 9698, 'rupees': 9699, 'employers': 9700, 'kp': 9701, 'watering': 9702, 'lice': 9703, 'typhus': 9704, 'unsanitary': 9705, 'thugs': 9706, 'gupta': 9707, 'deixa': 9708, 'denmark': 9709, 'artwork': 9710, 'pathogens': 9711, 'hormones': 9712, 'ethics': 9713, 'pharmaceutical': 9714, 'forefront': 9715, 'explores': 9716, 'participation': 9717, 'reliance': 9718, 'constructive': 9719, 'cane': 9720, 'ghar': 9721, 'reds': 9722, 'congressman': 9723, 'disturb': 9724, 'depths': 9725, 'refusal': 9726, 'generous': 9727, 'copolitics': 9728, 'ladder': 9729, 'morons': 9730, 'glue': 9731, 'boxers': 9732, 'controller': 9733, 'hawaiian': 9734, 'hughes': 9735, 'grabbing': 9736, 'psycho': 9737, 'sont': 9738, 'overly': 9739, 'membrane': 9740, 'borehole': 9741, 'snaps': 9742, 'dissolved': 9743, 'unethical': 9744, 'hunting': 9745, 'spillway': 9746, 'lucie': 9747, 'testify': 9748, 'oceanic': 9749, 'blooming': 9750, 'silverwood': 9751, 'budgam': 9752, 'proportion': 9753, 'infused': 9754, 'parameters': 9755, 'thyroid': 9756, 'preventable': 9757, 'glow': 9758, 'neglect': 9759, 'thier': 9760, 'vanilla': 9761, 'dengue': 9762, 'karo': 9763, 'optimism': 9764, 'planes': 9765, 'nicely': 9766, 'tequila': 9767, 'headaches': 9768, 'tolerate': 9769, 'boulevard': 9770, 'vapor': 9771, 'annoys': 9772, 'slams': 9773, 'fiscal': 9774, 'intensive': 9775, 'animation': 9776, 'freezer': 9777, 'sein': 9778, 'watersupply': 9779, 'dame': 9780, 'emerged': 9781, 'estas': 9782, 'directs': 9783, 'pena': 9784, 'praising': 9785, 'anyones': 9786, 'brad': 9787, 'karena': 9788, 'hong': 9789, 'lightweight': 9790, 'southafrica': 9791, 'rome': 9792, 'concepts': 9793, 'lecture': 9794, 'architecture': 9795, 'mechanisms': 9796, 'empowering': 9797, 'induced': 9798, 'rotary': 9799, 'belagavi': 9800, 'cybersecurity': 9801, 'advisor': 9802, 'shelters': 9803, 'ian': 9804, 'toh': 9805, 'divisive': 9806, 'yorkshire': 9807, 'consecutive': 9808, 'crunch': 9809, 'loo': 9810, 'krishna': 9811, 'cited': 9812, 'bathrooms': 9813, 'triggers': 9814, 'waterfromair': 9815, 'scorpio': 9816, 'printing': 9817, 'fda': 9818, 'canned': 9819, 'watershortage': 9820, 'projet': 9821, 'zambia': 9822, 'roman': 9823, 'cp': 9824, 'fella': 9825, 'privately': 9826, 'sts': 9827, 'canvas': 9828, 'snack': 9829, 'contracted': 9830, 'dupont': 9831, 'violating': 9832, 'fw': 9833, 'sympathy': 9834, 'bei': 9835, 'endangering': 9836, 'goddess': 9837, 'depleted': 9838, 'upgrades': 9839, 'bigoted': 9840, 'olympic': 9841, 'oped': 9842, 'bae': 9843, 'tapwater': 9844, 'caged': 9845, 'jonathan': 9846, 'collusion': 9847, 'keyboard': 9848, 'tie': 9849, 'natin': 9850, 'eddie': 9851, 'brew': 9852, 'veggies': 9853, 'removes': 9854, 'ados': 9855, 'mumbairains': 9856, 'thingy': 9857, 'initiate': 9858, 'buhari': 9859, 'attracted': 9860, 'num': 9861, 'amr': 9862, 'scent': 9863, 'awww': 9864, 'objects': 9865, 'fold': 9866, 'nigel': 9867, 'hrc': 9868, 'bcoz': 9869, 'msnbc': 9870, 'som': 9871, 'walang': 9872, 'fart': 9873, 'disposed': 9874, 'bedding': 9875, 'countdown': 9876, 'boreholes': 9877, 'empowerment': 9878, 'poems': 9879, 'divert': 9880, 'africans': 9881, 'custody': 9882, 'safewater': 9883, 'societies': 9884, 'wateraid': 9885, 'pakistanis': 9886, 'transformed': 9887, 'inflation': 9888, 'malnutrition': 9889, 'disabilities': 9890, 'budgetvote': 9891, 'sorting': 9892, 'transfers': 9893, 'jared': 9894, 'namo': 9895, 'minutos': 9896, 'endlessly': 9897, 'hota': 9898, 'literature': 9899, 'elders': 9900, 'dee': 9901, 'ltrs': 9902, 'oblivious': 9903, 'shouted': 9904, 'bothers': 9905, 'cheek': 9906, 'noone': 9907, 'claire': 9908, 'allies': 9909, 'conviction': 9910, 'conseguir': 9911, 'accomplish': 9912, 'establishing': 9913, 'internationally': 9914, 'childs': 9915, 'dealers': 9916, 'buses': 9917, 'employed': 9918, 'relative': 9919, 'naw': 9920, 'jab': 9921, 'pastor': 9922, 'gems': 9923, 'rugby': 9924, 'sungai': 9925, 'toss': 9926, 'toxicity': 9927, 'logistics': 9928, 'confrontation': 9929, 'breach': 9930, 'recruiting': 9931, 'grappling': 9932, 'sadness': 9933, 'deficits': 9934, 'jennifer': 9935, 'storyline': 9936, 'monkey': 9937, 'semester': 9938, 'lucrative': 9939, 'midfield': 9940, 'momentum': 9941, 'dt': 9942, 'picky': 9943, 'phenomenal': 9944, 'chi': 9945, 'sequel': 9946, 'geographic': 9947, 'pigs': 9948, 'permitted': 9949, 'adoption': 9950, 'unsure': 9951, 'bosses': 9952, 'horribly': 9953, 'discourse': 9954, 'baths': 9955, 'shane': 9956, 'irrational': 9957, 'gays': 9958, 'founding': 9959, 'flaws': 9960, 'encore': 9961, 'nam': 9962, 'isaiah': 9963, 'morocco': 9964, 'relations': 9965, 'klopp': 9966, 'lad': 9967, 'chamber': 9968, 'annie': 9969, 'copies': 9970, 'stripped': 9971, 'comrades': 9972, 'certificate': 9973, 'foodwater': 9974, 'impose': 9975, 'disposable': 9976, 'sheer': 9977, 'doe': 9978, 'shorty': 9979, 'kag': 9980, 'trashing': 9981, 'od': 9982, 'buck': 9983, 'koreans': 9984, 'badge': 9985, 'lords': 9986, 'pens': 9987, 'fascists': 9988, 'quietly': 9989, 'quoted': 9990, 'almonds': 9991, 'billie': 9992, 'tradition': 9993, 'eternal': 9994, 'traits': 9995, 'tyranny': 9996, 'ceramic': 9997, 'pala': 9998, 'wives': 9999, 'stalk': 10000}\n"
     ]
    }
   ],
   "source": [
    "#word_to_id['<UNK>'] = 0\n",
    "print(type(word_to_id))\n",
    "print(word_to_id)"
   ]
  },
  {
   "cell_type": "code",
   "execution_count": 18,
   "metadata": {},
   "outputs": [
    {
     "data": {
      "text/html": [
       "<div>\n",
       "<style scoped>\n",
       "    .dataframe tbody tr th:only-of-type {\n",
       "        vertical-align: middle;\n",
       "    }\n",
       "\n",
       "    .dataframe tbody tr th {\n",
       "        vertical-align: top;\n",
       "    }\n",
       "\n",
       "    .dataframe thead th {\n",
       "        text-align: right;\n",
       "    }\n",
       "</style>\n",
       "<table border=\"1\" class=\"dataframe\">\n",
       "  <thead>\n",
       "    <tr style=\"text-align: right;\">\n",
       "      <th></th>\n",
       "      <th>classification</th>\n",
       "      <th>binary_class</th>\n",
       "      <th>text</th>\n",
       "      <th>tokenized</th>\n",
       "      <th>token_int</th>\n",
       "    </tr>\n",
       "  </thead>\n",
       "  <tbody>\n",
       "    <tr>\n",
       "      <th>0</th>\n",
       "      <td>relevant</td>\n",
       "      <td>1</td>\n",
       "      <td>Sun, Sand And Sewage: Report Shows Many U.S. B...</td>\n",
       "      <td>[sun, sand, sewage, report, shows, many, us, b...</td>\n",
       "      <td>[872, 1795, 73, 267, 467, 65, 23, 311, 1506, 546]</td>\n",
       "    </tr>\n",
       "    <tr>\n",
       "      <th>1</th>\n",
       "      <td>relevant</td>\n",
       "      <td>1</td>\n",
       "      <td>Many U.S. Beaches Are Unsafe For Swimming, Rep...</td>\n",
       "      <td>[many, us, beaches, unsafe, swimming, report, ...</td>\n",
       "      <td>[65, 23, 311, 1506, 546, 267, 467]</td>\n",
       "    </tr>\n",
       "    <tr>\n",
       "      <th>2</th>\n",
       "      <td>relevant</td>\n",
       "      <td>1</td>\n",
       "      <td>Many U.S. Beaches Are Unsafe For Swimming, Rep...</td>\n",
       "      <td>[many, us, beaches, unsafe, swimming, report, ...</td>\n",
       "      <td>[65, 23, 311, 1506, 546, 267, 0]</td>\n",
       "    </tr>\n",
       "    <tr>\n",
       "      <th>3</th>\n",
       "      <td>relevant</td>\n",
       "      <td>1</td>\n",
       "      <td>Sun, Sand And Sewage: Report Shows Many U.S. B...</td>\n",
       "      <td>[sun, sand, sewage, report, shows, many, us, b...</td>\n",
       "      <td>[872, 1795, 73, 267, 467, 65, 23, 311, 1506, 5...</td>\n",
       "    </tr>\n",
       "    <tr>\n",
       "      <th>4</th>\n",
       "      <td>relevant</td>\n",
       "      <td>1</td>\n",
       "      <td>Thanks, EPA.\\n\\nSun, Sand And Sewage: Report S...</td>\n",
       "      <td>[thanks, epa, sun, sand, sewage, report, shows...</td>\n",
       "      <td>[199, 1202, 872, 1795, 73, 267, 467, 65, 23, 3...</td>\n",
       "    </tr>\n",
       "  </tbody>\n",
       "</table>\n",
       "</div>"
      ],
      "text/plain": [
       "  classification  binary_class  \\\n",
       "0       relevant             1   \n",
       "1       relevant             1   \n",
       "2       relevant             1   \n",
       "3       relevant             1   \n",
       "4       relevant             1   \n",
       "\n",
       "                                                text  \\\n",
       "0  Sun, Sand And Sewage: Report Shows Many U.S. B...   \n",
       "1  Many U.S. Beaches Are Unsafe For Swimming, Rep...   \n",
       "2  Many U.S. Beaches Are Unsafe For Swimming, Rep...   \n",
       "3  Sun, Sand And Sewage: Report Shows Many U.S. B...   \n",
       "4  Thanks, EPA.\\n\\nSun, Sand And Sewage: Report S...   \n",
       "\n",
       "                                           tokenized  \\\n",
       "0  [sun, sand, sewage, report, shows, many, us, b...   \n",
       "1  [many, us, beaches, unsafe, swimming, report, ...   \n",
       "2  [many, us, beaches, unsafe, swimming, report, ...   \n",
       "3  [sun, sand, sewage, report, shows, many, us, b...   \n",
       "4  [thanks, epa, sun, sand, sewage, report, shows...   \n",
       "\n",
       "                                           token_int  \n",
       "0  [872, 1795, 73, 267, 467, 65, 23, 311, 1506, 546]  \n",
       "1                 [65, 23, 311, 1506, 546, 267, 467]  \n",
       "2                   [65, 23, 311, 1506, 546, 267, 0]  \n",
       "3  [872, 1795, 73, 267, 467, 65, 23, 311, 1506, 5...  \n",
       "4  [199, 1202, 872, 1795, 73, 267, 467, 65, 23, 3...  "
      ]
     },
     "execution_count": 18,
     "metadata": {},
     "output_type": "execute_result"
    }
   ],
   "source": [
    "# transform token by id\n",
    "def transform_to_ids(row):\n",
    "    return [word_to_id[w] if w in word_to_id else word_to_id['<UNK>'] for w in row]\n",
    "\n",
    "\n",
    "df['token_int'] = df['tokenized'].apply(lambda x: transform_to_ids(x))\n",
    "df.head()"
   ]
  },
  {
   "cell_type": "code",
   "execution_count": 24,
   "metadata": {},
   "outputs": [],
   "source": [
    "# set the max_length\n",
    "max_length = 35\n",
    "\n",
    "# Split the data\n",
    "from sklearn.model_selection import train_test_split\n",
    "X_train, X_test, y_train, y_test = train_test_split(df['token_int'].values, df['binary_class'].values,\n",
    "                                                   test_size = 0.2, random_state = 42)"
   ]
  },
  {
   "cell_type": "code",
   "execution_count": 25,
   "metadata": {},
   "outputs": [],
   "source": [
    "# padding our sequences\n",
    "X_train = pad_sequences(X_train, maxlen = max_length, value = 1, padding = 'post', truncating = 'post')\n",
    "X_test = pad_sequences(X_test, maxlen = max_length, value = 1, padding = 'post', truncating = 'post')"
   ]
  },
  {
   "cell_type": "code",
   "execution_count": 26,
   "metadata": {},
   "outputs": [
    {
     "data": {
      "text/plain": [
       "array([ 262,  764,  298,  157, 4529,  764, 7554,  298, 2676,  234,   79,\n",
       "        203,  252,  637, 1008,  267,  703,    2,  225,  739, 2515,  158,\n",
       "         19,  108, 2534,    1,    1,    1,    1,    1,    1,    1,    1,\n",
       "          1,    1])"
      ]
     },
     "execution_count": 26,
     "metadata": {},
     "output_type": "execute_result"
    }
   ],
   "source": [
    "X_train[0]"
   ]
  },
  {
   "cell_type": "markdown",
   "metadata": {},
   "source": [
    "## Working CNN"
   ]
  },
  {
   "cell_type": "markdown",
   "metadata": {},
   "source": [
    "``` python\n",
    "# creating the embedding matrix\n",
    "embedding_index = {}\n",
    "\n",
    "trained_embeds = open('my_final_embeddings_tweets.npy', 'rb')\n",
    "for line in trained_embeds:\n",
    "    #if \n",
    "    values = line.split()\n",
    "    word = values[0]\n",
    "    coefs = np.asarray(values[1:], dtype='float32')\n",
    "    embeddings_index[word] = coefs\n",
    "trained_embeds.close()\n",
    "```"
   ]
  },
  {
   "cell_type": "code",
   "execution_count": 29,
   "metadata": {},
   "outputs": [],
   "source": [
    "# We now create a neural network that applies different filter sizes (2 and 3) \n",
    "# to word vectors, then concatenate the outputs and apply a classifier on top on that.\n",
    "# We make a multi-layered CNN with an embedding layer dimension of 128\n",
    "reset_graph()\n",
    "\n",
    "def multilayer_cnn():\n",
    "    # I read that it was wise to choose an embedding size between 32 and 512, I chose 128\n",
    "    # This is certainly a parameter that we should try to play around with\n",
    "    graph_input = Input(shape = (10001, 128))\n",
    "    \n",
    "    convolutions = []\n",
    "    for filter_size in range(2, 4):\n",
    "        # We take convolutions of size 2 and 3, concatenate the inputs and apply a classifier on top of it\n",
    "        # We have same padding, and we use the ReLU activation function to the top of this after feeding\n",
    "        # the 128D embedding. This uses a default of the skip gram model.\n",
    "        X = Convolution1D(128, filter_size, padding = 'same', activation = 'relu')(graph_input)\n",
    "        convolutions.append(X)\n",
    "        \n",
    "    # concatenating the convolutions     \n",
    "    graph_output = concatenate(convolutions, axis = 1)\n",
    "    # Takes pooling windows of 2 (default) for size of pooling windows. We retain the maximum value\n",
    "    # Channels last is the default, takes inputs of (batch, steps, features)\n",
    "    graph_output = GlobalMaxPooling1D()(graph_output)\n",
    "    # Creating our CNN layers\n",
    "    graph = Model(graph_input, graph_output)\n",
    "    \n",
    "    model = Sequential([Embedding(10001, 128, input_length = max_length),\n",
    "                    graph,\n",
    "                    # Applies dropout to 50% of the randomly selected neurons to reduce sensitivity to small\n",
    "                    # changes in the data\n",
    "                    Dropout(0.5),\n",
    "                    # Feed the 64 neurons (after dropout) to a fully connected layer of 32 neurons, \n",
    "                    # activation function once again is the ReLU\n",
    "                    Dense(32, activation='relu'),\n",
    "                    # Feed to the output layer of 2 neurons ['Relevant', 'Irrelevant']\n",
    "                    Dense(2, activation='softmax')])\n",
    "    \n",
    "    # How we compile the model, uses categorical cross entropy which essentially tries to penalize\n",
    "    # the model when it predicts a low probability in the target class. An ADAM optimizer uses ideas from\n",
    "    # the adaptive gradient algorithm and root mean square propogation algorithm, Instead of adapting the \n",
    "    # parameter learning rates based on the average first moment (the mean) as in RMSProp, Adam also makes \n",
    "    # use of the average of the second moments of the gradients (the uncentered variance).\n",
    "    # Source: https://machinelearningmastery.com/adam-optimization-algorithm-for-deep-learning/\n",
    "    model.compile(loss='categorical_crossentropy', optimizer = Adam(), metrics = ['accuracy'])\n",
    "    \n",
    "    return model"
   ]
  },
  {
   "cell_type": "code",
   "execution_count": 30,
   "metadata": {},
   "outputs": [],
   "source": [
    "from sklearn import metrics\n",
    "from keras.wrappers.scikit_learn import KerasClassifier\n",
    "from sklearn.model_selection import train_test_split, StratifiedKFold, cross_val_score\n",
    "\n",
    "# Using a KerasClassifier to train a model. Our CNN is used as the build function, we train the model \n",
    "# for 25 epochs, and we take batches of 1024 tweets at a time to train each model.\n",
    "estimator = KerasClassifier(build_fn = multilayer_cnn, epochs=25, batch_size = 1024, verbose = 0)\n",
    "# Takes a stratified k-fold (proportional sampling of classes), splits it into 5 folds. \n",
    "kfold = StratifiedKFold(n_splits = 5, shuffle = True, random_state = 42)"
   ]
  },
  {
   "cell_type": "code",
   "execution_count": 31,
   "metadata": {},
   "outputs": [
    {
     "name": "stdout",
     "output_type": "stream",
     "text": [
      "WARNING:tensorflow:From C:\\ProgramData\\Anaconda3\\lib\\site-packages\\tensorflow\\python\\framework\\op_def_library.py:263: colocate_with (from tensorflow.python.framework.ops) is deprecated and will be removed in a future version.\n",
      "Instructions for updating:\n",
      "Colocations handled automatically by placer.\n",
      "WARNING:tensorflow:From C:\\ProgramData\\Anaconda3\\lib\\site-packages\\keras\\backend\\tensorflow_backend.py:3445: calling dropout (from tensorflow.python.ops.nn_ops) with keep_prob is deprecated and will be removed in a future version.\n",
      "Instructions for updating:\n",
      "Please use `rate` instead of `keep_prob`. Rate should be set to `rate = 1 - keep_prob`.\n",
      "WARNING:tensorflow:From C:\\ProgramData\\Anaconda3\\lib\\site-packages\\tensorflow\\python\\ops\\math_ops.py:3066: to_int32 (from tensorflow.python.ops.math_ops) is deprecated and will be removed in a future version.\n",
      "Instructions for updating:\n",
      "Use tf.cast instead.\n",
      "WARNING:tensorflow:From C:\\ProgramData\\Anaconda3\\lib\\site-packages\\tensorflow\\python\\ops\\math_grad.py:102: div (from tensorflow.python.ops.math_ops) is deprecated and will be removed in a future version.\n",
      "Instructions for updating:\n",
      "Deprecated in favor of operator or tf.math.divide.\n"
     ]
    }
   ],
   "source": [
    "results = cross_val_score(estimator, X_train, y_train, cv = kfold)"
   ]
  },
  {
   "cell_type": "code",
   "execution_count": 32,
   "metadata": {},
   "outputs": [
    {
     "data": {
      "text/plain": [
       "(0.9620140731327173, 0.0017855619412871792)"
      ]
     },
     "execution_count": 32,
     "metadata": {},
     "output_type": "execute_result"
    }
   ],
   "source": [
    "results.mean(), results.std()"
   ]
  },
  {
   "cell_type": "code",
   "execution_count": 35,
   "metadata": {},
   "outputs": [],
   "source": [
    "y_train_2 = np_utils.to_categorical(y_train)\n",
    "#print(y_train)"
   ]
  },
  {
   "cell_type": "code",
   "execution_count": 36,
   "metadata": {},
   "outputs": [],
   "source": [
    "y_test_2 = np_utils.to_categorical(y_test)\n",
    "#print(y_test)"
   ]
  },
  {
   "cell_type": "code",
   "execution_count": 37,
   "metadata": {
    "scrolled": false
   },
   "outputs": [
    {
     "name": "stdout",
     "output_type": "stream",
     "text": [
      "Train on 50150 samples, validate on 12538 samples\n",
      "Epoch 1/10\n",
      "50150/50150 [==============================] - 46s 916us/step - loss: 0.4291 - acc: 0.8112 - val_loss: 0.1177 - val_acc: 0.9679\n",
      "\n",
      "Epoch 00001: val_acc improved from -inf to 0.96794, saving model to trained_models/best_trained_model.hdf5\n",
      "Epoch 2/10\n",
      "50150/50150 [==============================] - 46s 910us/step - loss: 0.1000 - acc: 0.9710 - val_loss: 0.0928 - val_acc: 0.9739\n",
      "\n",
      "Epoch 00002: val_acc improved from 0.96794 to 0.97392, saving model to trained_models/best_trained_model.hdf5\n",
      "Epoch 3/10\n",
      "50150/50150 [==============================] - 52s 1ms/step - loss: 0.0695 - acc: 0.9787 - val_loss: 0.0953 - val_acc: 0.9730\n",
      "\n",
      "Epoch 00003: val_acc did not improve from 0.97392\n",
      "Epoch 4/10\n",
      "50150/50150 [==============================] - 46s 909us/step - loss: 0.0528 - acc: 0.9839 - val_loss: 0.1043 - val_acc: 0.9711\n",
      "\n",
      "Epoch 00004: val_acc did not improve from 0.97392\n",
      "Epoch 5/10\n",
      "50150/50150 [==============================] - 48s 949us/step - loss: 0.0406 - acc: 0.9878 - val_loss: 0.1181 - val_acc: 0.9695\n",
      "\n",
      "Epoch 00005: val_acc did not improve from 0.97392\n",
      "Epoch 6/10\n",
      "50150/50150 [==============================] - 47s 945us/step - loss: 0.0320 - acc: 0.9901 - val_loss: 0.1291 - val_acc: 0.9683\n",
      "\n",
      "Epoch 00006: val_acc did not improve from 0.97392\n",
      "Epoch 7/10\n",
      "50150/50150 [==============================] - 44s 878us/step - loss: 0.0252 - acc: 0.9923 - val_loss: 0.1463 - val_acc: 0.9660\n",
      "\n",
      "Epoch 00007: val_acc did not improve from 0.97392\n",
      "Epoch 8/10\n",
      "50150/50150 [==============================] - 51s 1ms/step - loss: 0.0203 - acc: 0.9940 - val_loss: 0.1599 - val_acc: 0.9675\n",
      "\n",
      "Epoch 00008: val_acc did not improve from 0.97392\n",
      "Epoch 9/10\n",
      "50150/50150 [==============================] - 45s 895us/step - loss: 0.0175 - acc: 0.9946 - val_loss: 0.1671 - val_acc: 0.9663\n",
      "\n",
      "Epoch 00009: val_acc did not improve from 0.97392\n",
      "Epoch 10/10\n",
      "50150/50150 [==============================] - 47s 946us/step - loss: 0.0147 - acc: 0.9953 - val_loss: 0.1795 - val_acc: 0.9659\n",
      "\n",
      "Epoch 00010: val_acc did not improve from 0.97392\n"
     ]
    }
   ],
   "source": [
    "# Add checkpoint and use most accurate model from the epochs\n",
    "# Best model based on maximum accuracy\n",
    "best_model = ModelCheckpoint('trained_models/best_trained_model.hdf5', monitor = 'val_acc', verbose = 1,\n",
    "                             save_best_only = True, mode = 'max')\n",
    "# Save the best model\n",
    "model_to_use = [best_model]\n",
    "\n",
    "model = multilayer_cnn()\n",
    "model.fit(X_train, y_train_2, validation_data = (X_test, y_test_2), epochs = 10, batch_size = 1024, callbacks = model_to_use)\n",
    "predictions = model.predict(X_test)"
   ]
  },
  {
   "cell_type": "code",
   "execution_count": 38,
   "metadata": {},
   "outputs": [
    {
     "name": "stdout",
     "output_type": "stream",
     "text": [
      "0.9658637741266549\n",
      "              precision    recall  f1-score   support\n",
      "\n",
      "   Irelevant       0.97      0.97      0.97      7191\n",
      "    Relevant       0.96      0.95      0.96      5347\n",
      "\n",
      "    accuracy                           0.97     12538\n",
      "   macro avg       0.97      0.96      0.97     12538\n",
      "weighted avg       0.97      0.97      0.97     12538\n",
      "\n"
     ]
    }
   ],
   "source": [
    "print(metrics.accuracy_score(y_test, np.argmax(predictions, axis=1)))\n",
    "print(metrics.classification_report(y_test, np.argmax(predictions, axis=1), target_names = ['Irelevant', 'Relevant']))"
   ]
  },
  {
   "cell_type": "code",
   "execution_count": 39,
   "metadata": {},
   "outputs": [
    {
     "data": {
      "image/png": "[encoded data removed]",
      "text/plain": [
       "<Figure size 720x720 with 2 Axes>"
      ]
     },
     "metadata": {
      "needs_background": "light"
     },
     "output_type": "display_data"
    }
   ],
   "source": [
    "from sklearn.metrics import confusion_matrix\n",
    "import seaborn as sns\n",
    "\n",
    "conf_mat = confusion_matrix(y_test, np.argmax(predictions, axis = 1))\n",
    "fig, ax = plt.subplots(figsize=(10,10))\n",
    "sns.heatmap(conf_mat, annot=True, fmt='d',\n",
    "            xticklabels=['Irrelevant', 'Relevant'], yticklabels=['Irrelevant', 'Relevant'])\n",
    "plt.ylabel('Actual')\n",
    "plt.xlabel('Predicted')\n",
    "font = {'family' : 'normal',\n",
    "        'weight' : 'bold',\n",
    "        'size'   : 18}\n",
    "\n",
    "plt.rc('font', **font)\n",
    "plt.show()"
   ]
  },
  {
   "cell_type": "markdown",
   "metadata": {},
   "source": [
    "## Try to input raw text\n",
    "__Note: check spellings and implement new cleaner__"
   ]
  },
  {
   "cell_type": "code",
   "execution_count": 40,
   "metadata": {},
   "outputs": [],
   "source": [
    "my_tweet_rel = \"Algal bloom closes 31st Street Beach in Chicago\""
   ]
  },
  {
   "cell_type": "code",
   "execution_count": 54,
   "metadata": {},
   "outputs": [],
   "source": [
    "my_not_rel_tweet = \"Hot singles in your area near you\"\n",
    "neutral = \"I drank water today.\"\n",
    "political = \"These darn Dems want to regulate everything and put chemicals in the water to turn the frogs gay\"\n",
    "drought = \"Crops dying in Midwest as drought reaches record 3 months\"\n",
    "chemical = \"Mercury levels in the Milwaukee River reach an all time high as spill releases thousands of gallons of waste water\"\n",
    "\n",
    "tweet_list = {'tweet': [my_tweet_rel, my_not_rel_tweet, neutral, drought, chemical, political]}\n",
    "tweets = pd.DataFrame(data = tweet_list)"
   ]
  },
  {
   "cell_type": "code",
   "execution_count": 55,
   "metadata": {},
   "outputs": [
    {
     "data": {
      "text/html": [
       "<div>\n",
       "<style scoped>\n",
       "    .dataframe tbody tr th:only-of-type {\n",
       "        vertical-align: middle;\n",
       "    }\n",
       "\n",
       "    .dataframe tbody tr th {\n",
       "        vertical-align: top;\n",
       "    }\n",
       "\n",
       "    .dataframe thead th {\n",
       "        text-align: right;\n",
       "    }\n",
       "</style>\n",
       "<table border=\"1\" class=\"dataframe\">\n",
       "  <thead>\n",
       "    <tr style=\"text-align: right;\">\n",
       "      <th></th>\n",
       "      <th>tweet</th>\n",
       "    </tr>\n",
       "  </thead>\n",
       "  <tbody>\n",
       "    <tr>\n",
       "      <th>0</th>\n",
       "      <td>Algal bloom closes 31st Street Beach in Chicago</td>\n",
       "    </tr>\n",
       "    <tr>\n",
       "      <th>1</th>\n",
       "      <td>Hot singles in your area near you</td>\n",
       "    </tr>\n",
       "    <tr>\n",
       "      <th>2</th>\n",
       "      <td>I drank water today.</td>\n",
       "    </tr>\n",
       "    <tr>\n",
       "      <th>3</th>\n",
       "      <td>Crops dying in Midwest as drought reaches reco...</td>\n",
       "    </tr>\n",
       "    <tr>\n",
       "      <th>4</th>\n",
       "      <td>Mercury levels in the Milwaukee River reach an...</td>\n",
       "    </tr>\n",
       "  </tbody>\n",
       "</table>\n",
       "</div>"
      ],
      "text/plain": [
       "                                               tweet\n",
       "0    Algal bloom closes 31st Street Beach in Chicago\n",
       "1                  Hot singles in your area near you\n",
       "2                               I drank water today.\n",
       "3  Crops dying in Midwest as drought reaches reco...\n",
       "4  Mercury levels in the Milwaukee River reach an..."
      ]
     },
     "execution_count": 55,
     "metadata": {},
     "output_type": "execute_result"
    }
   ],
   "source": [
    "tweets.head()"
   ]
  },
  {
   "cell_type": "code",
   "execution_count": 56,
   "metadata": {},
   "outputs": [
    {
     "data": {
      "text/html": [
       "<div>\n",
       "<style scoped>\n",
       "    .dataframe tbody tr th:only-of-type {\n",
       "        vertical-align: middle;\n",
       "    }\n",
       "\n",
       "    .dataframe tbody tr th {\n",
       "        vertical-align: top;\n",
       "    }\n",
       "\n",
       "    .dataframe thead th {\n",
       "        text-align: right;\n",
       "    }\n",
       "</style>\n",
       "<table border=\"1\" class=\"dataframe\">\n",
       "  <thead>\n",
       "    <tr style=\"text-align: right;\">\n",
       "      <th></th>\n",
       "      <th>tweet</th>\n",
       "      <th>clean</th>\n",
       "    </tr>\n",
       "  </thead>\n",
       "  <tbody>\n",
       "    <tr>\n",
       "      <th>0</th>\n",
       "      <td>Algal bloom closes 31st Street Beach in Chicago</td>\n",
       "      <td>algal bloom closes st street beach in chicago</td>\n",
       "    </tr>\n",
       "    <tr>\n",
       "      <th>1</th>\n",
       "      <td>Hot singles in your area near you</td>\n",
       "      <td>hot singles in your area near you</td>\n",
       "    </tr>\n",
       "  </tbody>\n",
       "</table>\n",
       "</div>"
      ],
      "text/plain": [
       "                                             tweet  \\\n",
       "0  Algal bloom closes 31st Street Beach in Chicago   \n",
       "1                Hot singles in your area near you   \n",
       "\n",
       "                                           clean  \n",
       "0  algal bloom closes st street beach in chicago  \n",
       "1              hot singles in your area near you  "
      ]
     },
     "execution_count": 56,
     "metadata": {},
     "output_type": "execute_result"
    }
   ],
   "source": [
    "tweets['clean'] = tc.transform(tweets['tweet'])\n",
    "tweets.head(2)"
   ]
  },
  {
   "cell_type": "code",
   "execution_count": 57,
   "metadata": {},
   "outputs": [
    {
     "data": {
      "text/html": [
       "<div>\n",
       "<style scoped>\n",
       "    .dataframe tbody tr th:only-of-type {\n",
       "        vertical-align: middle;\n",
       "    }\n",
       "\n",
       "    .dataframe tbody tr th {\n",
       "        vertical-align: top;\n",
       "    }\n",
       "\n",
       "    .dataframe thead th {\n",
       "        text-align: right;\n",
       "    }\n",
       "</style>\n",
       "<table border=\"1\" class=\"dataframe\">\n",
       "  <thead>\n",
       "    <tr style=\"text-align: right;\">\n",
       "      <th></th>\n",
       "      <th>tweet</th>\n",
       "      <th>clean</th>\n",
       "      <th>tokenized</th>\n",
       "    </tr>\n",
       "  </thead>\n",
       "  <tbody>\n",
       "    <tr>\n",
       "      <th>0</th>\n",
       "      <td>Algal bloom closes 31st Street Beach in Chicago</td>\n",
       "      <td>algal bloom closes st street beach in chicago</td>\n",
       "      <td>[algal, bloom, closes, st, street, beach, in, ...</td>\n",
       "    </tr>\n",
       "    <tr>\n",
       "      <th>1</th>\n",
       "      <td>Hot singles in your area near you</td>\n",
       "      <td>hot singles in your area near you</td>\n",
       "      <td>[hot, singles, in, your, area, near, you]</td>\n",
       "    </tr>\n",
       "    <tr>\n",
       "      <th>2</th>\n",
       "      <td>I drank water today.</td>\n",
       "      <td>i drank water today</td>\n",
       "      <td>[i, drank, water, today]</td>\n",
       "    </tr>\n",
       "    <tr>\n",
       "      <th>3</th>\n",
       "      <td>Crops dying in Midwest as drought reaches reco...</td>\n",
       "      <td>crops dying in midwest as drought reaches reco...</td>\n",
       "      <td>[crops, dying, in, midwest, as, drought, reach...</td>\n",
       "    </tr>\n",
       "    <tr>\n",
       "      <th>4</th>\n",
       "      <td>Mercury levels in the Milwaukee River reach an...</td>\n",
       "      <td>mercury levels in the milwaukee river reach an...</td>\n",
       "      <td>[mercury, levels, in, the, milwaukee, river, r...</td>\n",
       "    </tr>\n",
       "  </tbody>\n",
       "</table>\n",
       "</div>"
      ],
      "text/plain": [
       "                                               tweet  \\\n",
       "0    Algal bloom closes 31st Street Beach in Chicago   \n",
       "1                  Hot singles in your area near you   \n",
       "2                               I drank water today.   \n",
       "3  Crops dying in Midwest as drought reaches reco...   \n",
       "4  Mercury levels in the Milwaukee River reach an...   \n",
       "\n",
       "                                               clean  \\\n",
       "0      algal bloom closes st street beach in chicago   \n",
       "1                  hot singles in your area near you   \n",
       "2                                i drank water today   \n",
       "3  crops dying in midwest as drought reaches reco...   \n",
       "4  mercury levels in the milwaukee river reach an...   \n",
       "\n",
       "                                           tokenized  \n",
       "0  [algal, bloom, closes, st, street, beach, in, ...  \n",
       "1          [hot, singles, in, your, area, near, you]  \n",
       "2                           [i, drank, water, today]  \n",
       "3  [crops, dying, in, midwest, as, drought, reach...  \n",
       "4  [mercury, levels, in, the, milwaukee, river, r...  "
      ]
     },
     "execution_count": 57,
     "metadata": {},
     "output_type": "execute_result"
    }
   ],
   "source": [
    "tweets['tokenized'] = tweets['clean'].apply(lambda row: tokenize(row))\n",
    "tweets.head()"
   ]
  },
  {
   "cell_type": "code",
   "execution_count": 59,
   "metadata": {},
   "outputs": [
    {
     "data": {
      "text/html": [
       "<div>\n",
       "<style scoped>\n",
       "    .dataframe tbody tr th:only-of-type {\n",
       "        vertical-align: middle;\n",
       "    }\n",
       "\n",
       "    .dataframe tbody tr th {\n",
       "        vertical-align: top;\n",
       "    }\n",
       "\n",
       "    .dataframe thead th {\n",
       "        text-align: right;\n",
       "    }\n",
       "</style>\n",
       "<table border=\"1\" class=\"dataframe\">\n",
       "  <thead>\n",
       "    <tr style=\"text-align: right;\">\n",
       "      <th></th>\n",
       "      <th>tweet</th>\n",
       "      <th>clean</th>\n",
       "      <th>tokenized</th>\n",
       "      <th>token_int</th>\n",
       "    </tr>\n",
       "  </thead>\n",
       "  <tbody>\n",
       "    <tr>\n",
       "      <th>0</th>\n",
       "      <td>Algal bloom closes 31st Street Beach in Chicago</td>\n",
       "      <td>algal bloom closes st street beach in chicago</td>\n",
       "      <td>[algal, bloom, closes, st, street, beach, in, ...</td>\n",
       "      <td>[1445, 55, 2042, 241, 526, 257, 0, 1653]</td>\n",
       "    </tr>\n",
       "    <tr>\n",
       "      <th>1</th>\n",
       "      <td>Hot singles in your area near you</td>\n",
       "      <td>hot singles in your area near you</td>\n",
       "      <td>[hot, singles, in, your, area, near, you]</td>\n",
       "      <td>[289, 0, 0, 0, 88, 225, 0]</td>\n",
       "    </tr>\n",
       "    <tr>\n",
       "      <th>2</th>\n",
       "      <td>I drank water today.</td>\n",
       "      <td>i drank water today</td>\n",
       "      <td>[i, drank, water, today]</td>\n",
       "      <td>[0, 6009, 2, 54]</td>\n",
       "    </tr>\n",
       "    <tr>\n",
       "      <th>3</th>\n",
       "      <td>Crops dying in Midwest as drought reaches reco...</td>\n",
       "      <td>crops dying in midwest as drought reaches reco...</td>\n",
       "      <td>[crops, dying, in, midwest, as, drought, reach...</td>\n",
       "      <td>[1925, 1274, 0, 3790, 0, 21, 5696, 651, 440]</td>\n",
       "    </tr>\n",
       "    <tr>\n",
       "      <th>4</th>\n",
       "      <td>Mercury levels in the Milwaukee River reach an...</td>\n",
       "      <td>mercury levels in the milwaukee river reach an...</td>\n",
       "      <td>[mercury, levels, in, the, milwaukee, river, r...</td>\n",
       "      <td>[3545, 502, 0, 0, 9690, 130, 1439, 0, 0, 17, 1...</td>\n",
       "    </tr>\n",
       "    <tr>\n",
       "      <th>5</th>\n",
       "      <td>These darn Dems want to regulate everything an...</td>\n",
       "      <td>these darn dems want to regulate everything an...</td>\n",
       "      <td>[these, darn, dems, want, to, regulate, everyt...</td>\n",
       "      <td>[0, 0, 1375, 33, 0, 5699, 212, 0, 142, 832, 0,...</td>\n",
       "    </tr>\n",
       "  </tbody>\n",
       "</table>\n",
       "</div>"
      ],
      "text/plain": [
       "                                               tweet  \\\n",
       "0    Algal bloom closes 31st Street Beach in Chicago   \n",
       "1                  Hot singles in your area near you   \n",
       "2                               I drank water today.   \n",
       "3  Crops dying in Midwest as drought reaches reco...   \n",
       "4  Mercury levels in the Milwaukee River reach an...   \n",
       "5  These darn Dems want to regulate everything an...   \n",
       "\n",
       "                                               clean  \\\n",
       "0      algal bloom closes st street beach in chicago   \n",
       "1                  hot singles in your area near you   \n",
       "2                                i drank water today   \n",
       "3  crops dying in midwest as drought reaches reco...   \n",
       "4  mercury levels in the milwaukee river reach an...   \n",
       "5  these darn dems want to regulate everything an...   \n",
       "\n",
       "                                           tokenized  \\\n",
       "0  [algal, bloom, closes, st, street, beach, in, ...   \n",
       "1          [hot, singles, in, your, area, near, you]   \n",
       "2                           [i, drank, water, today]   \n",
       "3  [crops, dying, in, midwest, as, drought, reach...   \n",
       "4  [mercury, levels, in, the, milwaukee, river, r...   \n",
       "5  [these, darn, dems, want, to, regulate, everyt...   \n",
       "\n",
       "                                           token_int  \n",
       "0           [1445, 55, 2042, 241, 526, 257, 0, 1653]  \n",
       "1                         [289, 0, 0, 0, 88, 225, 0]  \n",
       "2                                   [0, 6009, 2, 54]  \n",
       "3       [1925, 1274, 0, 3790, 0, 21, 5696, 651, 440]  \n",
       "4  [3545, 502, 0, 0, 9690, 130, 1439, 0, 0, 17, 1...  \n",
       "5  [0, 0, 1375, 33, 0, 5699, 212, 0, 142, 832, 0,...  "
      ]
     },
     "execution_count": 59,
     "metadata": {},
     "output_type": "execute_result"
    }
   ],
   "source": [
    "tweets['token_int'] = tweets['tokenized'].apply(lambda x: transform_to_ids(x))\n",
    "tweets.head(6)"
   ]
  },
  {
   "cell_type": "code",
   "execution_count": 60,
   "metadata": {},
   "outputs": [
    {
     "name": "stdout",
     "output_type": "stream",
     "text": [
      "[[1445   55 2042  241  526  257    0 1653    1    1    1    1    1    1\n",
      "     1    1    1    1    1    1    1    1    1    1    1    1    1    1\n",
      "     1    1    1    1    1    1    1]\n",
      " [ 289    0    0    0   88  225    0    1    1    1    1    1    1    1\n",
      "     1    1    1    1    1    1    1    1    1    1    1    1    1    1\n",
      "     1    1    1    1    1    1    1]\n",
      " [   0 6009    2   54    1    1    1    1    1    1    1    1    1    1\n",
      "     1    1    1    1    1    1    1    1    1    1    1    1    1    1\n",
      "     1    1    1    1    1    1    1]\n",
      " [1925 1274    0 3790    0   21 5696  651  440    1    1    1    1    1\n",
      "     1    1    1    1    1    1    1    1    1    1    1    1    1    1\n",
      "     1    1    1    1    1    1    1]\n",
      " [3545  502    0    0 9690  130 1439    0    0   17  182    0    9 6012\n",
      "   988    0  365    0   53    2    1    1    1    1    1    1    1    1\n",
      "     1    1    1    1    1    1    1]\n",
      " [   0    0 1375   33    0 5699  212    0  142  832    0    0    2    0\n",
      "   395    0 7831 1297    1    1    1    1    1    1    1    1    1    1\n",
      "     1    1    1    1    1    1    1]]\n"
     ]
    }
   ],
   "source": [
    "toy =  pad_sequences(tweets['token_int'].values, maxlen = max_length, value = 1,\n",
    "                                  padding = 'post', truncating = 'post')\n",
    "print(toy)"
   ]
  },
  {
   "cell_type": "code",
   "execution_count": 61,
   "metadata": {},
   "outputs": [
    {
     "data": {
      "text/plain": [
       "array([[2.0444328e-07, 9.9999976e-01],\n",
       "       [9.2046124e-01, 7.9538733e-02],\n",
       "       [3.6581794e-06, 9.9999630e-01],\n",
       "       [4.1914182e-06, 9.9999583e-01],\n",
       "       [2.5104922e-07, 9.9999976e-01],\n",
       "       [5.6834298e-04, 9.9943167e-01]], dtype=float32)"
      ]
     },
     "execution_count": 61,
     "metadata": {},
     "output_type": "execute_result"
    }
   ],
   "source": [
    "model.predict(toy)"
   ]
  },
  {
   "cell_type": "code",
   "execution_count": null,
   "metadata": {},
   "outputs": [],
   "source": [
    "print(np.)"
   ]
  }
 ],
 "metadata": {
  "kernelspec": {
   "display_name": "Python 3",
   "language": "python",
   "name": "python3"
  },
  "language_info": {
   "codemirror_mode": {
    "name": "ipython",
    "version": 3
   },
   "file_extension": ".py",
   "mimetype": "text/x-python",
   "name": "python",
   "nbconvert_exporter": "python",
   "pygments_lexer": "ipython3",
   "version": "3.6.9"
  }
 },
 "nbformat": 4,
 "nbformat_minor": 2
}
