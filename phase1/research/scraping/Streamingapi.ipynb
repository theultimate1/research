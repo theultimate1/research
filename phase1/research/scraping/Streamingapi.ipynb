{
 "cells": [
  {
   "cell_type": "code",
   "execution_count": 1,
   "metadata": {},
   "outputs": [
    {
     "name": "stdout",
     "output_type": "stream",
     "text": [
      "{\"created_at\":\"Sun Sep 22 08:35:43 +0000 2019\",\"id\":1175690125101035520,\"id_str\":\"1175690125101035520\",\"text\":\"RT @tinkswonhao: KIM MINGYU IS THE ENDING FAIRY FOR TODAY'S STAGE OH MY GOD INKIGAYO REALLY IS IN LOVE WITH HIM ITS TOO OBVIOUS @pledis_17\\u2026\",\"source\":\"\\u003ca href=\\\"http:\\/\\/twitter.com\\/download\\/android\\\" rel=\\\"nofollow\\\"\\u003eTwitter for Android\\u003c\\/a\\u003e\",\"truncated\":false,\"in_reply_to_status_id\":null,\"in_reply_to_status_id_str\":null,\"in_reply_to_user_id\":null,\"in_reply_to_user_id_str\":null,\"in_reply_to_screen_name\":null,\"user\":{\"id\":988945541559037952,\"id_str\":\"988945541559037952\",\"name\":\"[17's Day]\\ud83c\\udf39\",\"screen_name\":\"Hi_daysvt\",\"location\":\"Malaysia\",\"url\":null,\"description\":\"Seventeen supporter. See them live #idealcutKL #idealcutMY 23092018\",\"translator_type\":\"none\",\"protected\":false,\"verified\":false,\"followers_count\":239,\"friends_count\":212,\"listed_count\":1,\"favourites_count\":89250,\"statuses_count\":22004,\"created_at\":\"Wed Apr 25 00:59:25 +0000 2018\",\"utc_offset\":null,\"time_zone\":null,\"geo_enabled\":true,\"lang\":null,\"contributors_enabled\":false,\"is_translator\":false,\"profile_background_color\":\"F5F8FA\",\"profile_background_image_url\":\"\",\"profile_background_image_url_https\":\"\",\"profile_background_tile\":false,\"profile_link_color\":\"1DA1F2\",\"profile_sidebar_border_color\":\"C0DEED\",\"profile_sidebar_fill_color\":\"DDEEF6\",\"profile_text_color\":\"333333\",\"profile_use_background_image\":true,\"profile_image_url\":\"http:\\/\\/pbs.twimg.com\\/profile_images\\/1166223125136035840\\/gDNXInl9_normal.jpg\",\"profile_image_url_https\":\"https:\\/\\/pbs.twimg.com\\/profile_images\\/1166223125136035840\\/gDNXInl9_normal.jpg\",\"profile_banner_url\":\"https:\\/\\/pbs.twimg.com\\/profile_banners\\/988945541559037952\\/1558800861\",\"default_profile\":true,\"default_profile_image\":false,\"following\":null,\"follow_request_sent\":null,\"notifications\":null},\"geo\":null,\"coordinates\":null,\"place\":null,\"contributors\":null,\"retweeted_status\":{\"created_at\":\"Sun Sep 22 07:38:23 +0000 2019\",\"id\":1175675696250675200,\"id_str\":\"1175675696250675200\",\"text\":\"KIM MINGYU IS THE ENDING FAIRY FOR TODAY'S STAGE OH MY GOD INKIGAYO REALLY IS IN LOVE WITH HIM ITS TOO OBVIOUS\\u2026 https:\\/\\/t.co\\/IpPPB7JRHB\",\"display_text_range\":[0,140],\"source\":\"\\u003ca href=\\\"https:\\/\\/mobile.twitter.com\\\" rel=\\\"nofollow\\\"\\u003eTwitter Web App\\u003c\\/a\\u003e\",\"truncated\":true,\"in_reply_to_status_id\":null,\"in_reply_to_status_id_str\":null,\"in_reply_to_user_id\":null,\"in_reply_to_user_id_str\":null,\"in_reply_to_screen_name\":null,\"user\":{\"id\":777365670476460033,\"id_str\":\"777365670476460033\",\"name\":\"tracy loves wonu\",\"screen_name\":\"tinkswonhao\",\"location\":\"[17'S \\ubbfc\\uaddc] wonwoo? minghao?  \",\"url\":null,\"description\":\"wonwoo wasn't lying, he did fall from the sky \\ud83c\\udf0c\",\"translator_type\":\"none\",\"protected\":false,\"verified\":false,\"followers_count\":12690,\"friends_count\":627,\"listed_count\":314,\"favourites_count\":100953,\"statuses_count\":33392,\"created_at\":\"Sun Sep 18 04:36:33 +0000 2016\",\"utc_offset\":null,\"time_zone\":null,\"geo_enabled\":true,\"lang\":null,\"contributors_enabled\":false,\"is_translator\":false,\"profile_background_color\":\"F5F8FA\",\"profile_background_image_url\":\"\",\"profile_background_image_url_https\":\"\",\"profile_background_tile\":false,\"profile_link_color\":\"1DA1F2\",\"profile_sidebar_border_color\":\"C0DEED\",\"profile_sidebar_fill_color\":\"DDEEF6\",\"profile_text_color\":\"333333\",\"profile_use_background_image\":true,\"profile_image_url\":\"http:\\/\\/pbs.twimg.com\\/profile_images\\/958462403422830592\\/E67gDpKC_normal.jpg\",\"profile_image_url_https\":\"https:\\/\\/pbs.twimg.com\\/profile_images\\/958462403422830592\\/E67gDpKC_normal.jpg\",\"profile_banner_url\":\"https:\\/\\/pbs.twimg.com\\/profile_banners\\/777365670476460033\\/1517350220\",\"default_profile\":true,\"default_profile_image\":false,\"following\":null,\"follow_request_sent\":null,\"notifications\":null},\"geo\":null,\"coordinates\":null,\"place\":null,\"contributors\":null,\"is_quote_status\":false,\"extended_tweet\":{\"full_text\":\"KIM MINGYU IS THE ENDING FAIRY FOR TODAY'S STAGE OH MY GOD INKIGAYO REALLY IS IN LOVE WITH HIM ITS TOO OBVIOUS @pledis_17 https:\\/\\/t.co\\/Tb6Y8RtcPE\",\"display_text_range\":[0,121],\"entities\":{\"hashtags\":[],\"urls\":[],\"user_mentions\":[{\"screen_name\":\"pledis_17\",\"name\":\"\\uc138\\ube10\\ud2f4(SEVENTEEN)\",\"id\":956888370,\"id_str\":\"956888370\",\"indices\":[111,121]}],\"symbols\":[],\"media\":[{\"id\":1175675599118950401,\"id_str\":\"1175675599118950401\",\"indices\":[122,145],\"additional_media_info\":{\"monetizable\":false},\"media_url\":\"http:\\/\\/pbs.twimg.com\\/ext_tw_video_thumb\\/1175675599118950401\\/pu\\/img\\/FJobvOObv5lbV_mF.jpg\",\"media_url_https\":\"https:\\/\\/pbs.twimg.com\\/ext_tw_video_thumb\\/1175675599118950401\\/pu\\/img\\/FJobvOObv5lbV_mF.jpg\",\"url\":\"https:\\/\\/t.co\\/Tb6Y8RtcPE\",\"display_url\":\"pic.twitter.com\\/Tb6Y8RtcPE\",\"expanded_url\":\"https:\\/\\/twitter.com\\/tinkswonhao\\/status\\/1175675696250675200\\/video\\/1\",\"type\":\"video\",\"video_info\":{\"aspect_ratio\":[319,180],\"duration_millis\":7767,\"variants\":[{\"bitrate\":256000,\"content_type\":\"video\\/mp4\",\"url\":\"https:\\/\\/video.twimg.com\\/ext_tw_video\\/1175675599118950401\\/pu\\/vid\\/478x270\\/7oxCOGvXjTA4ExsB.mp4?tag=10\"},{\"bitrate\":832000,\"content_type\":\"video\\/mp4\",\"url\":\"https:\\/\\/video.twimg.com\\/ext_tw_video\\/1175675599118950401\\/pu\\/vid\\/638x360\\/5_lKmybDP0hDm4U8.mp4?tag=10\"},{\"content_type\":\"application\\/x-mpegURL\",\"url\":\"https:\\/\\/video.twimg.com\\/ext_tw_video\\/1175675599118950401\\/pu\\/pl\\/fWuJoHWd8vBnfsvQ.m3u8?tag=10\"},{\"bitrate\":2176000,\"content_type\":\"video\\/mp4\",\"url\":\"https:\\/\\/video.twimg.com\\/ext_tw_video\\/1175675599118950401\\/pu\\/vid\\/1276x720\\/btvff6FBREI2WDu6.mp4?tag=10\"}]},\"sizes\":{\"medium\":{\"w\":1200,\"h\":677,\"resize\":\"fit\"},\"thumb\":{\"w\":150,\"h\":150,\"resize\":\"crop\"},\"small\":{\"w\":680,\"h\":384,\"resize\":\"fit\"},\"large\":{\"w\":1276,\"h\":720,\"resize\":\"fit\"}}}]},\"extended_entities\":{\"media\":[{\"id\":1175675599118950401,\"id_str\":\"1175675599118950401\",\"indices\":[122,145],\"additional_media_info\":{\"monetizable\":false},\"media_url\":\"http:\\/\\/pbs.twimg.com\\/ext_tw_video_thumb\\/1175675599118950401\\/pu\\/img\\/FJobvOObv5lbV_mF.jpg\",\"media_url_https\":\"https:\\/\\/pbs.twimg.com\\/ext_tw_video_thumb\\/1175675599118950401\\/pu\\/img\\/FJobvOObv5lbV_mF.jpg\",\"url\":\"https:\\/\\/t.co\\/Tb6Y8RtcPE\",\"display_url\":\"pic.twitter.com\\/Tb6Y8RtcPE\",\"expanded_url\":\"https:\\/\\/twitter.com\\/tinkswonhao\\/status\\/1175675696250675200\\/video\\/1\",\"type\":\"video\",\"video_info\":{\"aspect_ratio\":[319,180],\"duration_millis\":7767,\"variants\":[{\"bitrate\":256000,\"content_type\":\"video\\/mp4\",\"url\":\"https:\\/\\/video.twimg.com\\/ext_tw_video\\/1175675599118950401\\/pu\\/vid\\/478x270\\/7oxCOGvXjTA4ExsB.mp4?tag=10\"},{\"bitrate\":832000,\"content_type\":\"video\\/mp4\",\"url\":\"https:\\/\\/video.twimg.com\\/ext_tw_video\\/1175675599118950401\\/pu\\/vid\\/638x360\\/5_lKmybDP0hDm4U8.mp4?tag=10\"},{\"content_type\":\"application\\/x-mpegURL\",\"url\":\"https:\\/\\/video.twimg.com\\/ext_tw_video\\/1175675599118950401\\/pu\\/pl\\/fWuJoHWd8vBnfsvQ.m3u8?tag=10\"},{\"bitrate\":2176000,\"content_type\":\"video\\/mp4\",\"url\":\"https:\\/\\/video.twimg.com\\/ext_tw_video\\/1175675599118950401\\/pu\\/vid\\/1276x720\\/btvff6FBREI2WDu6.mp4?tag=10\"}]},\"sizes\":{\"medium\":{\"w\":1200,\"h\":677,\"resize\":\"fit\"},\"thumb\":{\"w\":150,\"h\":150,\"resize\":\"crop\"},\"small\":{\"w\":680,\"h\":384,\"resize\":\"fit\"},\"large\":{\"w\":1276,\"h\":720,\"resize\":\"fit\"}}}]}},\"quote_count\":6,\"reply_count\":2,\"retweet_count\":83,\"favorite_count\":168,\"entities\":{\"hashtags\":[],\"urls\":[{\"url\":\"https:\\/\\/t.co\\/IpPPB7JRHB\",\"expanded_url\":\"https:\\/\\/twitter.com\\/i\\/web\\/status\\/1175675696250675200\",\"display_url\":\"twitter.com\\/i\\/web\\/status\\/1\\u2026\",\"indices\":[112,135]}],\"user_mentions\":[],\"symbols\":[]},\"favorited\":false,\"retweeted\":false,\"possibly_sensitive\":false,\"filter_level\":\"low\",\"lang\":\"en\"},\"is_quote_status\":false,\"quote_count\":0,\"reply_count\":0,\"retweet_count\":0,\"favorite_count\":0,\"entities\":{\"hashtags\":[],\"urls\":[],\"user_mentions\":[{\"screen_name\":\"tinkswonhao\",\"name\":\"tracy loves wonu\",\"id\":777365670476460033,\"id_str\":\"777365670476460033\",\"indices\":[3,15]},{\"screen_name\":\"pledis_17\",\"name\":\"\\uc138\\ube10\\ud2f4(SEVENTEEN)\",\"id\":956888370,\"id_str\":\"956888370\",\"indices\":[128,138]}],\"symbols\":[]},\"favorited\":false,\"retweeted\":false,\"filter_level\":\"low\",\"lang\":\"en\",\"timestamp_ms\":\"1569141343747\"}\r\n",
      "\n"
     ]
    },
    {
     "name": "stderr",
     "output_type": "stream",
     "text": [
      "Exception in thread Thread-4:\n",
      "Traceback (most recent call last):\n",
      "  File \"/anaconda3/envs/virtual-env/lib/python3.7/threading.py\", line 926, in _bootstrap_inner\n",
      "    self.run()\n",
      "  File \"/anaconda3/envs/virtual-env/lib/python3.7/threading.py\", line 870, in run\n",
      "    self._target(*self._args, **self._kwargs)\n",
      "  File \"/anaconda3/envs/virtual-env/lib/python3.7/site-packages/tweepy/streaming.py\", line 320, in _run\n",
      "    six.reraise(*exc_info)\n",
      "  File \"/anaconda3/envs/virtual-env/lib/python3.7/site-packages/six.py\", line 693, in reraise\n",
      "    raise value\n",
      "  File \"/anaconda3/envs/virtual-env/lib/python3.7/site-packages/tweepy/streaming.py\", line 289, in _run\n",
      "    self._read_loop(resp)\n",
      "  File \"/anaconda3/envs/virtual-env/lib/python3.7/site-packages/tweepy/streaming.py\", line 351, in _read_loop\n",
      "    self._data(next_status_obj)\n",
      "  File \"/anaconda3/envs/virtual-env/lib/python3.7/site-packages/tweepy/streaming.py\", line 323, in _data\n",
      "    if self.listener.on_data(data) is False:\n",
      "  File \"<ipython-input-1-055ffa9430c3>\", line 21, in on_data\n",
      "    if not self.isReply(data):\n",
      "  File \"<ipython-input-1-055ffa9430c3>\", line 12, in isReply\n",
      "    if ( tweet.retweeted_status\n",
      "AttributeError: 'str' object has no attribute 'retweeted_status'\n",
      "\n"
     ]
    }
   ],
   "source": [
    "import tweepy\n",
    "import json\n",
    "\n",
    "consumer_token=\"1EbEbqZpTKOsGo46iIlMLVZV3\"\n",
    "consumer_secret=\"MsaVvkSGVUkwkAalHfqNxSY6raOSjkn9e9uDmgf9a7e5a63ZBC\"\n",
    "auth=tweepy.OAuthHandler(consumer_token,consumer_secret)\n",
    "auth.set_access_token(\"1153053655903428608-ERZK04gJccvOmrWrBXMY8MTLbvnSDC\",\"4fwZlaNOhdLP0JA20ASwehJLsnIPJhXteOTEWeSPQ1cvW\" )\n",
    "class MyStreamListener(tweepy.StreamListener):\n",
    "    \n",
    "    ntweets=0\n",
    "    def isReply(self,tweet):\n",
    "        if ( tweet.retweeted_status\n",
    "        or tweet.in_reply_to_status_id\n",
    "        or tweet.in_reply_to_status_id_str\n",
    "        or tweet.in_reply_to_user_id\n",
    "        or tweet.in_reply_to_user_id_str\n",
    "        or tweet.in_reply_to_screen_name ):\n",
    "            return True\n",
    "    def on_data(self,data):\n",
    "        print(data)\n",
    "        if not self.isReply(data):\n",
    "            MyStreamListener.ntweets+=1\n",
    "            with open(\"tweets_pollutionORwater.json\",\"a\",encoding='utf-8') as json_f:\n",
    "                json.dump(data,json_f,indent=4)\n",
    "            print(\"collected {} tweets\".format(MyStreamListener().ntweets))\n",
    "            return True\n",
    "        else:\n",
    "            pass\n",
    "    def on_error(self, status_code):\n",
    "        if status_code == 420:\n",
    "            #returning False in on_data disconnects the stream\n",
    "            return False\n",
    "\n",
    "    def on_status(self, status):\n",
    "        print(status.text)\n",
    "Listener=MyStreamListener()\n",
    "myStream = tweepy.Stream(auth =auth, listener=Listener)\n",
    "myStream.filter(track=\"pollution OR water\",is_async=True,languages=[\"en\"])\n"
   ]
  },
  {
   "cell_type": "code",
   "execution_count": null,
   "metadata": {},
   "outputs": [],
   "source": []
  }
 ],
 "metadata": {
  "kernelspec": {
   "display_name": "Python [conda env:virtual-env] *",
   "language": "python",
   "name": "conda-env-virtual-env-py"
  },
  "language_info": {
   "codemirror_mode": {
    "name": "ipython",
    "version": 3
   },
   "file_extension": ".py",
   "mimetype": "text/x-python",
   "name": "python",
   "nbconvert_exporter": "python",
   "pygments_lexer": "ipython3",
   "version": "3.7.4"
  }
 },
 "nbformat": 4,
 "nbformat_minor": 2
}
