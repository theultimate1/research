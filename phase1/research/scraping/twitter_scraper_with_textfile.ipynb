{
 "cells": [
  {
   "cell_type": "code",
   "execution_count": 7,
   "metadata": {},
   "outputs": [],
   "source": [
    "import json\n",
    "import csv\n",
    "import tweepy"
   ]
  },
  {
   "cell_type": "code",
   "execution_count": 18,
   "metadata": {},
   "outputs": [
    {
     "name": "stdout",
     "output_type": "stream",
     "text": [
      "<tweepy.api.API object at 0x1097ddf90>\n"
     ]
    }
   ],
   "source": [
    "# Extracting the Twitter API Credentials\n",
    "with open('twitter_cred.json') as secret_info:\n",
    "    info = json.load(secret_info)\n",
    "    consumer_key = info['CONSUMER_KEY']\n",
    "    consumer_secret = info['CONSUMER_SECRET']\n",
    "    access_key = info['ACCESS_KEY']\n",
    "    access_secret = info['ACCESS_SECRET']\n",
    "\n",
    "# Creating the API endpoint\n",
    "    auth = tweepy.OAuthHandler(consumer_key,consumer_secret)\n",
    "    api = tweepy.API(auth)\n"
   ]
  },
  {
   "cell_type": "code",
   "execution_count": 21,
   "metadata": {},
   "outputs": [
    {
     "name": "stdout",
     "output_type": "stream",
     "text": [
      "1000\n",
      "water disaster\n",
      "Extracted 1000 tweets with water disaster\n"
     ]
    }
   ],
   "source": [
    "# Mentioning the number of tweet to be extracted\n",
    "max_number_of_tweets = int(input(''))\n",
    "\n",
    "# Inputting the search related to water disaster events\n",
    "words = input('')\n",
    "\n",
    "for tweet in tweepy.Cursor(api.search, words,\n",
    "rpp=100).items(max_number_of_tweets):\n",
    "    with open('list_of_tweets' + '.txt','a') as txt_file:\n",
    "        txt_file.write(str(tweet.text.encode('utf-8')) + '\\n')\n",
    "print('Extracted ' + str(max_number_of_tweets) + ' tweets with ' + words)"
   ]
  },
  {
   "cell_type": "code",
   "execution_count": null,
   "metadata": {},
   "outputs": [],
   "source": []
  }
 ],
 "metadata": {
  "kernelspec": {
   "display_name": "Python [conda env:virtual-env] *",
   "language": "python",
   "name": "conda-env-virtual-env-py"
  },
  "language_info": {
   "codemirror_mode": {
    "name": "ipython",
    "version": 3
   },
   "file_extension": ".py",
   "mimetype": "text/x-python",
   "name": "python",
   "nbconvert_exporter": "python",
   "pygments_lexer": "ipython3",
   "version": "3.7.4"
  }
 },
 "nbformat": 4,
 "nbformat_minor": 2
}
