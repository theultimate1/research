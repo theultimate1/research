{
 "cells": [
  {
   "cell_type": "code",
   "execution_count": 1,
   "metadata": {},
   "outputs": [],
   "source": [
    "from tweepy import Stream\n",
    "from tweepy import OAuthHandler\n",
    "from tweepy.streaming import StreamListener\n",
    "import tweepy\n",
    "import pprint\n",
    "pp = pprint.PrettyPrinter(indent=4)\n",
    "import json\n",
    "from unidecode import unidecode\n",
    "import csv"
   ]
  },
  {
   "cell_type": "code",
   "execution_count": 1,
   "metadata": {},
   "outputs": [],
   "source": [
    "consumer_token=\"1EbEbqZpTKOsGo46iIlMLVZV3\"\n",
    "consumer_secret=\"MsaVvkSGVUkwkAalHfqNxSY6raOSjkn9e9uDmgf9a7e5a63ZBC\""
   ]
  },
  {
   "cell_type": "code",
   "execution_count": 2,
   "metadata": {},
   "outputs": [],
   "source": [
    "class TwitterStream():\n",
    "    '''this class is for streaming and processing the live tweets'''\n",
    "    \n",
    "    def __init__(self):\n",
    "        pass\n",
    "    \n",
    "    def stream_tweets(self,file_tweets,hash_tag):\n",
    "        #This function handler is for the twitter authentication and the connection to Twitter Streaming API\n",
    "        \n",
    "        listener = Listener(file_tweets)\n",
    "        auth=tweepy.OAuthHandler(consumer_token,consumer_secret)\n",
    "        auth.set_access_token(\"1153053655903428608-ERZK04gJccvOmrWrBXMY8MTLbvnSDC\",\"4fwZlaNOhdLP0JA20ASwehJLsnIPJhXteOTEWeSPQ1cvW\")\n",
    "        stream = Stream(auth=auth,listener=listener,tweet_mode='extended')\n",
    "        \n",
    "        stream.filter(track=hash_tag,is_async=True,languages=[\"en\"])\n",
    "        #used to filter Twitter Streams to capture data by the keywords\n",
    "        \n",
    "\n",
    "class Listener(StreamListener):\n",
    "    #Basic listener that just prints received tweets to stdout.\n",
    "    \n",
    "    def __init__(self,file_tweets):\n",
    "        self.file_tweets = file_tweets\n",
    "        \n",
    "    ntweets=0\n",
    "    def isReply(self,tweet):\n",
    "        if tweet != []:\n",
    "            return True\n",
    "        else:\n",
    "            return False\n",
    "        \n",
    "    def on_error(self,status_code):\n",
    "        if status_code == 420:\n",
    "            return False\n",
    "        \n",
    "    def on_status(self,status):\n",
    "        print(status.full_text)\n",
    "        \n",
    "    def on_data(self,data):\n",
    "        data = json.loads(data)\n",
    "        pp.pprint(data)\n",
    "        tweet = unidecode(data['text'])\n",
    "        \n",
    "        if not data['retweeted'] and 'RT @' not in tweet:\n",
    "            Listener.ntweets+=1\n",
    "            with open(self.file_tweets,'a') as tf:\n",
    "                tf.writelines(['\\n' + tweet])\n",
    "            print(\"collected {} tweets\".format(Listener(self.file_tweets).ntweets))\n",
    "            return True\n",
    "        else:\n",
    "            pass \n",
    "\n",
    "if __name__ == '__main__':\n",
    "    \n",
    "    hash_tag = ['#algaebloom', '#chemicalspill', '#drinkingwatercontamination', '#drought', '#drywell', '#ecoli', '#flashflood', '#groundwatercontamination', '#industrialpollution', '#oilspill', '#pipeleak', '#wastewater', '#waterandsanitation', '#watercontamination', '#watermanagement', '#waterpollution', 'algae bloom', 'beach closure', 'chemical spill', 'coal ash water', 'drinking water', 'drinking water contamination', 'drought', 'dry well', 'e-coli', 'ecoli', 'flash flood', 'flood warning', 'groundwater contamination', 'groundwater pollution', 'industrial pollution', 'industrial solvents', 'lake contamination', 'lake pollution', 'lead water', 'marine plastic pollution', 'metal hydroxide', 'oil spill', 'oxygen depletion', 'pipe leak', 'point source pollution', 'river contamination', 'stream contamination', 'surface water contamination', 'toxic waste water', 'untreated waste', 'waste spill', 'waste water', 'water and sanitation', 'water bacteria', 'water contamination', 'water impurity', 'water management', 'water plastic', 'water pollution', 'water sewage', 'waterbourne disease','hurricane', 'sandy', 'storm', 'survivor', 'effort', 'u.s', 'east', 'flood', 'path', 'map','sound', 'metal', 'backyard', 'recording', 'hear', 'music', 'audio', 'cicada', 'scrap', 'temperature','climate', 'change', 'talk', 'week', 'need', 'say', 'study', 'ice', 'action', 'carbon','new', 'specie', 'york', 'farmer', 'discover', 'photo', 'energy', 'normal', 'animal', 'nyc','sea', 'rise', 'level', 'video', 'study', 'fall', 'photo', 'underwater', 'deep', 'melting','day', 'earth', 'mother', 'world', 'gift', 'photo', 'fall', 'green', 'celebrate', 'endanger','baby', 'photo', 'animal', 'week', 'panda', 'picture', 'zoo', 'elephant', 'gorilla', 'giraffes','animal', 'week', 'photo', 'picture', 'tiger', 'elephant', 'monkey', 'panda', 'lion', 'cub','use', 'park', 'photo', 'national', 'amazing', 'animal', 'odd', 'weather.com', 'way','time', 'celebrate', 'lapse', 'year', 'video', 'week', 'cool', 'wildlife', 'puppy', 'draw','keystone', 'xl', 'pipeline', 'sand', 'tar', 'obama', 'protester', 'arrest', 'student', 'department','extreme', 'weather', 'week', 'photo', 'hero', 'hill', 'hilarious', 'highlight', 'high', 'zoonose','photo', 'animal', 'life', 'nature', 'thing', 'pollution', 'world', 'big', 'storm', 'free','spill', 'bp', 'oil', 'trial', 'gulf', 'exxon', 'molasse', 'testify', 'halliburton', 'year','home', 'save', 'tip', 'money', 'orca', 'energy', 'rescue', 'winterize', 'food', 'abandon','public', 'kill', 'lion', 'preserve', 'transit', 'zoo', 'explorer', 'slaughter', 'cub', 'bear','project', 'reuse', 'diy', 'idea', 'old', 'shirt', 'craft', 'bag', 'make','green', 'eco', 'electric', 'friendly', 'tip', 'labor', 'burial', 'power', 'event', 'new','video', 'capture', 'make', 'camera', 'thing', 'pet', 'animal', 'puppy', 'kitten', 'panda','dog', 'cat', 'photo', 'video', 'pet', 'adorable', 'love', 'owner', 'rescue', 'head','say', 'water', 'study', 'food', 'global', 'warming', 'scientist', 'ban', 'new', 'highlight','oil', 'gas', 'california', 'future', 'natural', 'industry', 'fracke', 'plan', 'platform', 'drought','u.s', 'winter', 'fukushima', 'state', 'storm', 'hit', 'coast', 'american', 'outlook', 'hurricane']\n",
    "    file_tweets = \"tweets_final.txt\"\n",
    "\n",
    "    twitter_streamer = TwitterStream()\n",
    "    twitter_streamer.stream_tweets(file_tweets, hash_tag)\n",
    "            "
   ]
  },
  {
   "cell_type": "code",
   "execution_count": null,
   "metadata": {},
   "outputs": [],
   "source": []
  }
 ],
 "metadata": {
  "kernelspec": {
   "display_name": "Python [conda env:virtual-env] *",
   "language": "python",
   "name": "conda-env-virtual-env-py"
  },
  "language_info": {
   "codemirror_mode": {
    "name": "ipython",
    "version": 3
   },
   "file_extension": ".py",
   "mimetype": "text/x-python",
   "name": "python",
   "nbconvert_exporter": "python",
   "pygments_lexer": "ipython3",
   "version": "3.7.4"
  }
 },
 "nbformat": 4,
 "nbformat_minor": 2
}
